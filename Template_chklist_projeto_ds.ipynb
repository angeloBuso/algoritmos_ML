{
  "nbformat": 4,
  "nbformat_minor": 0,
  "metadata": {
    "colab": {
      "name": "Template_chklist_projeto_ds.ipynb",
      "provenance": [],
      "collapsed_sections": [],
      "toc_visible": true,
      "include_colab_link": true
    },
    "kernelspec": {
      "display_name": "Python 3",
      "language": "python",
      "name": "python3"
    },
    "language_info": {
      "codemirror_mode": {
        "name": "ipython",
        "version": 3
      },
      "file_extension": ".py",
      "mimetype": "text/x-python",
      "name": "python",
      "nbconvert_exporter": "python",
      "pygments_lexer": "ipython3",
      "version": "3.8.5"
    }
  },
  "cells": [
    {
      "cell_type": "markdown",
      "metadata": {
        "id": "view-in-github",
        "colab_type": "text"
      },
      "source": [
        "<a href=\"https://colab.research.google.com/github/angeloBuso/algoritmos_ML/blob/main/Template_chklist_projeto_ds.ipynb\" target=\"_parent\"><img src=\"https://colab.research.google.com/assets/colab-badge.svg\" alt=\"Open In Colab\"/></a>"
      ]
    },
    {
      "cell_type": "markdown",
      "metadata": {
        "id": "ldvK782aUk8Z"
      },
      "source": [
        "<img alt=\"header title\" scale = \"50%\" width=\"100%\" src=\"https://github.com/angeloBuso/angeloBuso/blob/main/image/Imagem2.jpg?raw=true\">\n",
        "\n",
        "<img alt = \"qr-code\" align = \"right\" width=\"10%\" src=\"https://github.com/angeloBuso/angeloBuso/blob/main/image/angelobuso.png?raw=true\">\n"
      ]
    },
    {
      "cell_type": "markdown",
      "metadata": {
        "id": "6eaIBDqqFuoz"
      },
      "source": [
        "---\n",
        "<h1>Ciências de dados e os métodos científicos</h1>\n",
        "\n",
        "Os **métodos científicos** exige que qualquer pessoa seja capaz de replicar os mesmos resultados, considerando as mesmas premissas.\n",
        "\n",
        "**Ciência** é um metamorfose do **senso comum**, ambos buscam de alguma forma gerar conhecimento útil para soluções de problemas da humanidade.\n",
        "\n",
        "A diferença é que, para o método científico há um **rigor** para se obter uma conclusão. \"*Rigor*\" significa  *exatidão extremada*, *rigidez*, sendo assim, a **ciência** nada mais é que uma especialização do **senso comum** com um controle disciplinado de seu uso.\n",
        "\n",
        "Apenas o que é **problemático** é pensado. Um problema advém de uma desordem, uma inquietude, um desconforto. Neste enredo, o desconforto é a manisfestação do problema, através de uma referência anterior da ordem. Pois, para saber o que é desordem, *a priori* tem-se a noção da ordem!!!\n",
        "\n",
        "Então o cientista de dados tem que ter a capacidade de reconhecer a desordem, ajudar ou formular o problema de forma clara e conhecer a ordem para estabelecer uma solução!!\n",
        "\n",
        "Para tal missão, usamos **modelos** que é uma construção mental da ordem. Modelo é um artefato que tem forte relação com a **teoria** (conexão entre o fenômeno). Sendo assim exige revistar **todo conhecimento** existente sobre o assunto problemático. As **hipóteses** são lançadas com o objetivo de conduzir os esforços para reestabelcer a ordem, são as perguntas propostas, as tentativas de explicar o fenômeno pesquisado. **Modelagem** e **Simulação** computacional é a emulação da realidade, mas modelado por computadores, em que serão exercitados experimentos para (i) avaliação e (ii) melhoria/otimização de seu desempenho - modelo em questão, é a realidade em um ambiente controlado.\n",
        "\n",
        "De forma resumida acima, compreendemos que os métodos científicos, aplicado em **Ciência de dados**, visa adotar tais métodos na infinidade dos **dados** em que somos expostos, como objetivo de transformar esses últimos em **conhecimento!!**\n"
      ]
    },
    {
      "cell_type": "markdown",
      "metadata": {
        "id": "_g7WitiRFuo6"
      },
      "source": [
        "---\n",
        "<h1>Projetos de Data Science</h1>\n",
        "\n",
        "Checklist para aplicar aos projetos de *Data Science*. Baseado nos *frameworks* CRISP-DM, nesta técnica, os dados sugerem qual modelo usar, ou seja, o modelo se ajusta aos dados.\n",
        "\n",
        "    Problema -> Dados-> Análise Exploratória-> Modelo-> Conclusão\n",
        "    \n",
        "\n",
        "Não trata-se é um *checklist* rígido ou imutável. É um norte para conduzir nos projetos de Ciência de Dados."
      ]
    },
    {
      "cell_type": "markdown",
      "metadata": {
        "id": "NE5YZCJUUk8c"
      },
      "source": [
        "## 1. Compreensão do Problema de Negócio\n",
        "\n",
        "* Visão holística e delimitação do escopo do projeto\n",
        "* Quais serão os usos da solução\n",
        "* Existência de algo similar\n",
        "* Métricas de performance e o mínimo esperado para o escopo do projeto\n",
        "* Premissas básicas do projeto e conhecimento das Regras de Negócios!!"
      ]
    },
    {
      "cell_type": "markdown",
      "metadata": {
        "id": "8npIUavTUk8d"
      },
      "source": [
        "## 2. Coleta e Exploração dos Dados\n",
        "\n",
        "* Coleta de dados, observar:\n",
        "    * Extensões dos arquivos\n",
        "    * Timeframe dos dados\n",
        "    * Acessos aos bancos de dados consultados\n",
        "* Quanto a Exploração:\n",
        "    * Comprender cada atributo/coluna e suas características:\n",
        "    * Representatividade\n",
        "    * Tipo (Categórica; Numérica; Estruturada; Não Estruturada)\n",
        "    * Valores ausentes/missing\n",
        "    * Estatística descritiva dos atributos/coluna\n",
        "    * Distribuição dos dados (Gaussiana; Uniforme; Logarítmica)\n",
        "    * Correlações entre os dados (PS. Correlação NÃO tem efeito de causalidade)\n",
        "* Identificar a variável alvo (target)\n",
        "* Visualizar graficamente os dados\n",
        "* Identificar possíveis transformações\n",
        "* Identificar os dados extras que podem ser úteis"
      ]
    },
    {
      "cell_type": "markdown",
      "metadata": {
        "id": "vPIaW3S9Uk8d"
      },
      "source": [
        "## 3. Preparar os Dados\n",
        "\n",
        "* Algoritmos de Machine Learning, esperam receber os dados em formatos específicos\n",
        "* Modularizar as funções de transformações\n",
        "\n",
        "\n",
        "1. Transformação de atributos\n",
        "    * Aterações das variáveis já existentes (renomear, alterar índices, exluir atributo sem relevância)\n",
        "    * Preencher os valores ausentes/missing\n",
        "    * Alterar tipos de dados para representação mais fidedigna\n",
        "2. *Feature Scaling*\n",
        "    * Normalizar ou padronizar *features*\n",
        "\n",
        "3. *Feature Engineering*\n",
        "    * Discretizar variáveis contínuas\n",
        "    * Decompor *features* (categóricas, data, tempo)\n",
        "    * Aplicar transformações às variáveis\n",
        "    * Agregar *features* para gerar novas\n",
        "    * Usar *Dummies*\n",
        "    \n",
        "4. *Feature Selection*\n",
        "    * Redução de dimensionalidade dos dados\n",
        "    \n",
        "5. Divisão dados:\n",
        "    * Treino\n",
        "    * Teste\n",
        "    * Validação\n",
        "    "
      ]
    },
    {
      "cell_type": "markdown",
      "metadata": {
        "id": "mnMOmYx1Uk8e"
      },
      "source": [
        "## 4. Construção do Modelo\n",
        "\n",
        "* Automatizar o maior número de passos possíveis\n",
        "* Boa prática: utilizar mais de um modelo e comparar as performances\n",
        "* Uso de técnicas de validação cruzada (*cross-validation*)\n",
        "* Identificar os melhores estimadores\n",
        "* Métodos *Ensemble* vs modelos *individuais*\n",
        "* *Tuning do modelo* ajustes dos *hyperparametros*\n",
        "* Testar o desempenho do mesmo com o dados de **teste**."
      ]
    },
    {
      "cell_type": "markdown",
      "metadata": {
        "id": "e1lxOszTUk8f"
      },
      "source": [
        "## 5. Apresentação da Solução e Deploy\n",
        "\n",
        "* Documentar todos as etapas\n",
        "* Lembre-se: o modelo preditivo **espera** receber os novos dados com (i) as mesmas estruturas passadas no treinamento e (ii) os mesmos pré-processamento realizado\n",
        "* Tornar todos os passos replicáveis (método científico)\n",
        "* Storytelling - decisores desconhecem a parte técnica\n",
        "* Ver qual o melhor gráfico para contar cada *insight* descoberto\n",
        "* Escrever testes unitários -> cada vez mais o produto final da ciêcnia de dados deve ser **escalável para implementar** em produção.\n",
        "* Criar rotinas de monitoramento e alertas\n",
        "* Determinar quando atualizar o modelo"
      ]
    }
  ]
}