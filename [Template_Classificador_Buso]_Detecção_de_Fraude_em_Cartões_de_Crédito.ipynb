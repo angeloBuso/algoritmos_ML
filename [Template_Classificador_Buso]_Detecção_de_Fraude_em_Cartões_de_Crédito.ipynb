{
  "cells": [
    {
      "cell_type": "markdown",
      "metadata": {
        "id": "view-in-github",
        "colab_type": "text"
      },
      "source": [
        "<a href=\"https://colab.research.google.com/github/angeloBuso/algoritmos_ML/blob/main/%5BTemplate_Classificador_Buso%5D_Detec%C3%A7%C3%A3o_de_Fraude_em_Cart%C3%B5es_de_Cr%C3%A9dito.ipynb\" target=\"_parent\"><img src=\"https://colab.research.google.com/assets/colab-badge.svg\" alt=\"Open In Colab\"/></a>"
      ]
    },
    {
      "cell_type": "markdown",
      "metadata": {
        "id": "SwlAOgEySpiG"
      },
      "source": [
        "<img alt=\"header title\" width=\"100%\" src=\"https://github.com/angeloBuso/angeloBuso/blob/main/image/Imagem2.jpg?raw=true\">\n",
        "\n",
        "<img alt = \"qr-code\" align = \"right\" width=\"10%\" src=\"https://github.com/angeloBuso/angeloBuso/blob/main/image/angelobuso.png?raw=true\">\n"
      ]
    },
    {
      "cell_type": "markdown",
      "metadata": {
        "id": "z63rSOrYSpiV"
      },
      "source": [
        "## **1. Compreensão Problema de Negócio**\n",
        "\n",
        "---\n",
        "\n",
        "A tecnologia é um indutor global na economia, isso é fato. O *E-Commerce* é um exemplo desse movimento indutor. No entanto enquanto uma grande parte das pessoas estão focadas em desenvolver soluções tecnológicas que facilitam a vida dos usuários, há uma outra parcela que agem no ituito de obterem vantagens ilícitas. Podemos citar as imitações de sites, aplicativos e perfis de empresas em redes sociais estão cada vez mais fidedignas e com essas táticas, esses criminosos roubam os seus dados\n",
        "\n",
        "[\"Ter o cartão clonado é algo que assusta 83% dos brasileiros; na comparação, a pandemia é uma grande ameaça para 61% dos entrevistados\"](https://epocanegocios.globo.com/Empresa/noticia/2021/10/fraude-no-cartao-e-o-maior-medo-dos-brasileiros.html)\n",
        "\n",
        "A preocupação dos brasileiros leva em conta o medo de ficarem no prejuízo financeiro, ou pelo menos, o prejuízo até o término na análise do possível fraude, pela operadora do cartão fraudado. \n",
        "\n",
        "Sendo assim, as insituições operadoras de cartão tem o dever de monitorar, em tempo real, as transações financeiras, transacionadas pelos cartões de seus clientes. O desafio destas instituições é terem ferramentas que possam prever a probabilidade da transação ser fraude e agir com tempestividade, preservando os dados e o cliente.\n",
        "\n",
        "Apenas no Brasil, cerca de 12,1 milhões de pessoas já foram vítimas de algum tipo de fraude financeira no último ano. Traduzindo em valores, os golpes financeiros ultrapassaram a cifra de R$ 1,8 bilhão de prejuízo por ano para os últimos 12 meses.\n",
        "\n",
        "<p align=center>\n",
        "<img src=\"https://image.freepik.com/vetores-gratis/hacker-colorido-e-plano-foge-homem-de-composicao-roubar-cartao-de-credito-e-executa-ilustracao-vetorial_1284-30699.jpg\" width=\"100%\"></p>\n",
        "\n",
        "Neste projeto, iremos abordar esse problema **das fraudes em cartões de crédito**, uma das principais preocupações das instituições financeiras como bancos e *fintechs*. Fraudes envolvendo cartões de crédito sua não-detecção acaretará prejuízos consideráveis, tanto para o consumidor quanto para a instituição financeira.\n",
        "\n",
        "Um outro fator a ser considerado é a quantidade de falsos positivos, ou seja, aquelas vezes em que você tentou comprar uma cadeira gamer com super desconto relâmpago na Amazon e teve seu cartão bloqueado preventivamente, que provavelmente gerou estresse, ou ainda, aquela passagem aérea da Itapemerim com aquele *precinho*....pensando bem esse último ai foi até bom ter dado falso positivo... (rsrsrsrs)\n",
        "\n",
        "Esse contexto de desafio apresentado podemos usar Inteligência Artificial para tal detecção. Usando (a) uma base histórica, (b) um algoritmo de machine learning e (c) as compreensão das técnicas e boas prátidas da Ciência de Dados, construiremos uma ferramentaque poderá permitir uma economia de milhões de Reais."
      ]
    },
    {
      "cell_type": "markdown",
      "metadata": {
        "id": "T1CIfBZ3SpiW"
      },
      "source": [
        "### 1.1 Dicionário dados"
      ]
    },
    {
      "cell_type": "code",
      "execution_count": 1,
      "metadata": {
        "cellView": "form",
        "id": "TvjxkzUASpiS"
      },
      "outputs": [],
      "source": [
        "#@title\n",
        "# suprimir os warnings\n",
        "from warnings import simplefilter\n",
        "simplefilter(action='ignore', category=FutureWarning)\n",
        "\n",
        "# instalar a biblioteca scikit-plot\n",
        "!pip install -q scikit-plot"
      ]
    },
    {
      "cell_type": "code",
      "execution_count": 2,
      "metadata": {
        "colab": {
          "base_uri": "https://localhost:8080/"
        },
        "id": "pXBSNjeGSpiU",
        "outputId": "03340034-2465-432b-fc3f-e0ea37122820",
        "scrolled": false
      },
      "outputs": [
        {
          "output_type": "stream",
          "name": "stdout",
          "text": [
            "Versão da Linguagem Python Usada Neste Jupyter Notebook: 3.7.12\n"
          ]
        }
      ],
      "source": [
        "import pandas as pd\n",
        "import numpy as np\n",
        "import matplotlib.pyplot as plt\n",
        "import pandas_profiling as pp\n",
        "import seaborn as sns\n",
        "\n",
        "from sklearn.preprocessing import StandardScaler\n",
        "from sklearn.model_selection import train_test_split\n",
        "from imblearn.under_sampling import RandomUnderSampler\n",
        "from imblearn.over_sampling import SMOTE, ADASYN\n",
        "from sklearn.linear_model import LogisticRegression\n",
        "from sklearn.tree import DecisionTreeClassifier \n",
        "from sklearn.metrics import accuracy_score, classification_report, confusion_matrix, roc_auc_score, roc_curve\n",
        "import scikitplot as skplt\n",
        "\n",
        "%matplotlib inline\n",
        "\n",
        "# Versão da Linguagem Python\n",
        "from platform import python_version\n",
        "print('Versão da Linguagem Python Usada Neste Jupyter Notebook:', python_version())"
      ]
    },
    {
      "cell_type": "markdown",
      "metadata": {
        "id": "6tpHjebASpiX"
      },
      "source": [
        "## **2. Coleta Dados**\n",
        "Como todo projeto de *machine learning* a matéria-prima são  **dados**, utilizaremos uma coleção de informações catalogadas em um período de **2 dias**, por usuários de cartões na Europa. Ao longo desse período foram registradas quase **290 mil transações** envolvendo cartões, sendo que **492 foram fraudes**.\n",
        "\n",
        "<p align=center>\n",
        "<img src=\"https://img.freepik.com/free-vector/concept-credit-card-payment-landing-page_52683-24923.jpg?size=338&ext=jpg\" width=\"75%\"></p>\n",
        "\n",
        "Nota-se que o conjunto de dados é extremamente **desbalanceado**, sendo que as fraudes representam apenas 0,17% do total transacionado.\n",
        "\n",
        "Uma particularidade interessante é que as variáveis (*features*) são todas numéricas, descaracterizadas das informações originais. Nada mais justo para resguardar esse ativo precioso dessas empresas, **os dados**, além de não expor a confidencialidade dos clientes (por problemas ligados à privacidade e segurança). Sendo assim, as *features* são representadas por $[V1, V2, V3 \\dots, V28]$.\n",
        "\n",
        "[Na fonte dos dados, ](https://www.kaggle.com/mlg-ulb/creditcardfraud) nos é informado que as *features*, para ter essa anonimização, foram transformadas por uma técnica conhecida como Análise de Componentes Principais [(*Principal Component Analysis* - PCA)](http://www2.ic.uff.br/~aconci/PCA-ACP.pdf).\n",
        "\n",
        "Em suma, PCA permite **reduzir dimensão** dos dados, enquanto mantém o maior número possível de **informações**. É um algorítmo de otimização que encontra um conjunto novo de recursos - os chamados **componentes**. Podemo deduzir que os componentes achados pela transformação da *PCA*, no dataSet original são as próprias *features* $[V1, V2, V3 \\dots, V28]$."
      ]
    },
    {
      "cell_type": "markdown",
      "metadata": {
        "id": "l2bv7l7iSpiY"
      },
      "source": [
        "### 2.1 Carga dados\n",
        "DICA: até 3 dimensões PANDAS (1Series, 2DataFrame e 3Panel); acima 3 dim NUMPY (nparray)"
      ]
    },
    {
      "cell_type": "code",
      "execution_count": 3,
      "metadata": {
        "id": "uP7Hp7vv2qz5"
      },
      "outputs": [],
      "source": [
        "file_path = \"https://www.dropbox.com/s/b44o3t3ehmnx2b7/creditcard.csv?dl=1\"\n",
        "\n",
        "# importar os dados para um dataframe\n",
        "dados = pd.read_csv(file_path)"
      ]
    },
    {
      "cell_type": "code",
      "execution_count": 4,
      "metadata": {
        "colab": {
          "base_uri": "https://localhost:8080/",
          "height": 270
        },
        "id": "ypT-d0lo3YIi",
        "outputId": "71e1be2d-8fbf-4d43-cae3-2e6b45dcdb03"
      },
      "outputs": [
        {
          "output_type": "execute_result",
          "data": {
            "text/html": [
              "\n",
              "  <div id=\"df-f3d91d45-81ea-4393-ab08-830c50ef8716\">\n",
              "    <div class=\"colab-df-container\">\n",
              "      <div>\n",
              "<style scoped>\n",
              "    .dataframe tbody tr th:only-of-type {\n",
              "        vertical-align: middle;\n",
              "    }\n",
              "\n",
              "    .dataframe tbody tr th {\n",
              "        vertical-align: top;\n",
              "    }\n",
              "\n",
              "    .dataframe thead th {\n",
              "        text-align: right;\n",
              "    }\n",
              "</style>\n",
              "<table border=\"1\" class=\"dataframe\">\n",
              "  <thead>\n",
              "    <tr style=\"text-align: right;\">\n",
              "      <th></th>\n",
              "      <th>Time</th>\n",
              "      <th>V1</th>\n",
              "      <th>V2</th>\n",
              "      <th>V3</th>\n",
              "      <th>V4</th>\n",
              "      <th>V5</th>\n",
              "      <th>V6</th>\n",
              "      <th>V7</th>\n",
              "      <th>V8</th>\n",
              "      <th>V9</th>\n",
              "      <th>V10</th>\n",
              "      <th>V11</th>\n",
              "      <th>V12</th>\n",
              "      <th>V13</th>\n",
              "      <th>V14</th>\n",
              "      <th>V15</th>\n",
              "      <th>V16</th>\n",
              "      <th>V17</th>\n",
              "      <th>V18</th>\n",
              "      <th>V19</th>\n",
              "      <th>V20</th>\n",
              "      <th>V21</th>\n",
              "      <th>V22</th>\n",
              "      <th>V23</th>\n",
              "      <th>V24</th>\n",
              "      <th>V25</th>\n",
              "      <th>V26</th>\n",
              "      <th>V27</th>\n",
              "      <th>V28</th>\n",
              "      <th>Amount</th>\n",
              "      <th>Class</th>\n",
              "    </tr>\n",
              "  </thead>\n",
              "  <tbody>\n",
              "    <tr>\n",
              "      <th>0</th>\n",
              "      <td>0.0</td>\n",
              "      <td>-1.359807</td>\n",
              "      <td>-0.072781</td>\n",
              "      <td>2.536347</td>\n",
              "      <td>1.378155</td>\n",
              "      <td>-0.338321</td>\n",
              "      <td>0.462388</td>\n",
              "      <td>0.239599</td>\n",
              "      <td>0.098698</td>\n",
              "      <td>0.363787</td>\n",
              "      <td>0.090794</td>\n",
              "      <td>-0.551600</td>\n",
              "      <td>-0.617801</td>\n",
              "      <td>-0.991390</td>\n",
              "      <td>-0.311169</td>\n",
              "      <td>1.468177</td>\n",
              "      <td>-0.470401</td>\n",
              "      <td>0.207971</td>\n",
              "      <td>0.025791</td>\n",
              "      <td>0.403993</td>\n",
              "      <td>0.251412</td>\n",
              "      <td>-0.018307</td>\n",
              "      <td>0.277838</td>\n",
              "      <td>-0.110474</td>\n",
              "      <td>0.066928</td>\n",
              "      <td>0.128539</td>\n",
              "      <td>-0.189115</td>\n",
              "      <td>0.133558</td>\n",
              "      <td>-0.021053</td>\n",
              "      <td>149.62</td>\n",
              "      <td>0</td>\n",
              "    </tr>\n",
              "    <tr>\n",
              "      <th>1</th>\n",
              "      <td>0.0</td>\n",
              "      <td>1.191857</td>\n",
              "      <td>0.266151</td>\n",
              "      <td>0.166480</td>\n",
              "      <td>0.448154</td>\n",
              "      <td>0.060018</td>\n",
              "      <td>-0.082361</td>\n",
              "      <td>-0.078803</td>\n",
              "      <td>0.085102</td>\n",
              "      <td>-0.255425</td>\n",
              "      <td>-0.166974</td>\n",
              "      <td>1.612727</td>\n",
              "      <td>1.065235</td>\n",
              "      <td>0.489095</td>\n",
              "      <td>-0.143772</td>\n",
              "      <td>0.635558</td>\n",
              "      <td>0.463917</td>\n",
              "      <td>-0.114805</td>\n",
              "      <td>-0.183361</td>\n",
              "      <td>-0.145783</td>\n",
              "      <td>-0.069083</td>\n",
              "      <td>-0.225775</td>\n",
              "      <td>-0.638672</td>\n",
              "      <td>0.101288</td>\n",
              "      <td>-0.339846</td>\n",
              "      <td>0.167170</td>\n",
              "      <td>0.125895</td>\n",
              "      <td>-0.008983</td>\n",
              "      <td>0.014724</td>\n",
              "      <td>2.69</td>\n",
              "      <td>0</td>\n",
              "    </tr>\n",
              "    <tr>\n",
              "      <th>2</th>\n",
              "      <td>1.0</td>\n",
              "      <td>-1.358354</td>\n",
              "      <td>-1.340163</td>\n",
              "      <td>1.773209</td>\n",
              "      <td>0.379780</td>\n",
              "      <td>-0.503198</td>\n",
              "      <td>1.800499</td>\n",
              "      <td>0.791461</td>\n",
              "      <td>0.247676</td>\n",
              "      <td>-1.514654</td>\n",
              "      <td>0.207643</td>\n",
              "      <td>0.624501</td>\n",
              "      <td>0.066084</td>\n",
              "      <td>0.717293</td>\n",
              "      <td>-0.165946</td>\n",
              "      <td>2.345865</td>\n",
              "      <td>-2.890083</td>\n",
              "      <td>1.109969</td>\n",
              "      <td>-0.121359</td>\n",
              "      <td>-2.261857</td>\n",
              "      <td>0.524980</td>\n",
              "      <td>0.247998</td>\n",
              "      <td>0.771679</td>\n",
              "      <td>0.909412</td>\n",
              "      <td>-0.689281</td>\n",
              "      <td>-0.327642</td>\n",
              "      <td>-0.139097</td>\n",
              "      <td>-0.055353</td>\n",
              "      <td>-0.059752</td>\n",
              "      <td>378.66</td>\n",
              "      <td>0</td>\n",
              "    </tr>\n",
              "    <tr>\n",
              "      <th>3</th>\n",
              "      <td>1.0</td>\n",
              "      <td>-0.966272</td>\n",
              "      <td>-0.185226</td>\n",
              "      <td>1.792993</td>\n",
              "      <td>-0.863291</td>\n",
              "      <td>-0.010309</td>\n",
              "      <td>1.247203</td>\n",
              "      <td>0.237609</td>\n",
              "      <td>0.377436</td>\n",
              "      <td>-1.387024</td>\n",
              "      <td>-0.054952</td>\n",
              "      <td>-0.226487</td>\n",
              "      <td>0.178228</td>\n",
              "      <td>0.507757</td>\n",
              "      <td>-0.287924</td>\n",
              "      <td>-0.631418</td>\n",
              "      <td>-1.059647</td>\n",
              "      <td>-0.684093</td>\n",
              "      <td>1.965775</td>\n",
              "      <td>-1.232622</td>\n",
              "      <td>-0.208038</td>\n",
              "      <td>-0.108300</td>\n",
              "      <td>0.005274</td>\n",
              "      <td>-0.190321</td>\n",
              "      <td>-1.175575</td>\n",
              "      <td>0.647376</td>\n",
              "      <td>-0.221929</td>\n",
              "      <td>0.062723</td>\n",
              "      <td>0.061458</td>\n",
              "      <td>123.50</td>\n",
              "      <td>0</td>\n",
              "    </tr>\n",
              "    <tr>\n",
              "      <th>4</th>\n",
              "      <td>2.0</td>\n",
              "      <td>-1.158233</td>\n",
              "      <td>0.877737</td>\n",
              "      <td>1.548718</td>\n",
              "      <td>0.403034</td>\n",
              "      <td>-0.407193</td>\n",
              "      <td>0.095921</td>\n",
              "      <td>0.592941</td>\n",
              "      <td>-0.270533</td>\n",
              "      <td>0.817739</td>\n",
              "      <td>0.753074</td>\n",
              "      <td>-0.822843</td>\n",
              "      <td>0.538196</td>\n",
              "      <td>1.345852</td>\n",
              "      <td>-1.119670</td>\n",
              "      <td>0.175121</td>\n",
              "      <td>-0.451449</td>\n",
              "      <td>-0.237033</td>\n",
              "      <td>-0.038195</td>\n",
              "      <td>0.803487</td>\n",
              "      <td>0.408542</td>\n",
              "      <td>-0.009431</td>\n",
              "      <td>0.798278</td>\n",
              "      <td>-0.137458</td>\n",
              "      <td>0.141267</td>\n",
              "      <td>-0.206010</td>\n",
              "      <td>0.502292</td>\n",
              "      <td>0.219422</td>\n",
              "      <td>0.215153</td>\n",
              "      <td>69.99</td>\n",
              "      <td>0</td>\n",
              "    </tr>\n",
              "  </tbody>\n",
              "</table>\n",
              "</div>\n",
              "      <button class=\"colab-df-convert\" onclick=\"convertToInteractive('df-f3d91d45-81ea-4393-ab08-830c50ef8716')\"\n",
              "              title=\"Convert this dataframe to an interactive table.\"\n",
              "              style=\"display:none;\">\n",
              "        \n",
              "  <svg xmlns=\"http://www.w3.org/2000/svg\" height=\"24px\"viewBox=\"0 0 24 24\"\n",
              "       width=\"24px\">\n",
              "    <path d=\"M0 0h24v24H0V0z\" fill=\"none\"/>\n",
              "    <path d=\"M18.56 5.44l.94 2.06.94-2.06 2.06-.94-2.06-.94-.94-2.06-.94 2.06-2.06.94zm-11 1L8.5 8.5l.94-2.06 2.06-.94-2.06-.94L8.5 2.5l-.94 2.06-2.06.94zm10 10l.94 2.06.94-2.06 2.06-.94-2.06-.94-.94-2.06-.94 2.06-2.06.94z\"/><path d=\"M17.41 7.96l-1.37-1.37c-.4-.4-.92-.59-1.43-.59-.52 0-1.04.2-1.43.59L10.3 9.45l-7.72 7.72c-.78.78-.78 2.05 0 2.83L4 21.41c.39.39.9.59 1.41.59.51 0 1.02-.2 1.41-.59l7.78-7.78 2.81-2.81c.8-.78.8-2.07 0-2.86zM5.41 20L4 18.59l7.72-7.72 1.47 1.35L5.41 20z\"/>\n",
              "  </svg>\n",
              "      </button>\n",
              "      \n",
              "  <style>\n",
              "    .colab-df-container {\n",
              "      display:flex;\n",
              "      flex-wrap:wrap;\n",
              "      gap: 12px;\n",
              "    }\n",
              "\n",
              "    .colab-df-convert {\n",
              "      background-color: #E8F0FE;\n",
              "      border: none;\n",
              "      border-radius: 50%;\n",
              "      cursor: pointer;\n",
              "      display: none;\n",
              "      fill: #1967D2;\n",
              "      height: 32px;\n",
              "      padding: 0 0 0 0;\n",
              "      width: 32px;\n",
              "    }\n",
              "\n",
              "    .colab-df-convert:hover {\n",
              "      background-color: #E2EBFA;\n",
              "      box-shadow: 0px 1px 2px rgba(60, 64, 67, 0.3), 0px 1px 3px 1px rgba(60, 64, 67, 0.15);\n",
              "      fill: #174EA6;\n",
              "    }\n",
              "\n",
              "    [theme=dark] .colab-df-convert {\n",
              "      background-color: #3B4455;\n",
              "      fill: #D2E3FC;\n",
              "    }\n",
              "\n",
              "    [theme=dark] .colab-df-convert:hover {\n",
              "      background-color: #434B5C;\n",
              "      box-shadow: 0px 1px 3px 1px rgba(0, 0, 0, 0.15);\n",
              "      filter: drop-shadow(0px 1px 2px rgba(0, 0, 0, 0.3));\n",
              "      fill: #FFFFFF;\n",
              "    }\n",
              "  </style>\n",
              "\n",
              "      <script>\n",
              "        const buttonEl =\n",
              "          document.querySelector('#df-f3d91d45-81ea-4393-ab08-830c50ef8716 button.colab-df-convert');\n",
              "        buttonEl.style.display =\n",
              "          google.colab.kernel.accessAllowed ? 'block' : 'none';\n",
              "\n",
              "        async function convertToInteractive(key) {\n",
              "          const element = document.querySelector('#df-f3d91d45-81ea-4393-ab08-830c50ef8716');\n",
              "          const dataTable =\n",
              "            await google.colab.kernel.invokeFunction('convertToInteractive',\n",
              "                                                     [key], {});\n",
              "          if (!dataTable) return;\n",
              "\n",
              "          const docLinkHtml = 'Like what you see? Visit the ' +\n",
              "            '<a target=\"_blank\" href=https://colab.research.google.com/notebooks/data_table.ipynb>data table notebook</a>'\n",
              "            + ' to learn more about interactive tables.';\n",
              "          element.innerHTML = '';\n",
              "          dataTable['output_type'] = 'display_data';\n",
              "          await google.colab.output.renderOutput(dataTable, element);\n",
              "          const docLink = document.createElement('div');\n",
              "          docLink.innerHTML = docLinkHtml;\n",
              "          element.appendChild(docLink);\n",
              "        }\n",
              "      </script>\n",
              "    </div>\n",
              "  </div>\n",
              "  "
            ],
            "text/plain": [
              "   Time        V1        V2        V3  ...       V27       V28  Amount  Class\n",
              "0   0.0 -1.359807 -0.072781  2.536347  ...  0.133558 -0.021053  149.62      0\n",
              "1   0.0  1.191857  0.266151  0.166480  ... -0.008983  0.014724    2.69      0\n",
              "2   1.0 -1.358354 -1.340163  1.773209  ... -0.055353 -0.059752  378.66      0\n",
              "3   1.0 -0.966272 -0.185226  1.792993  ...  0.062723  0.061458  123.50      0\n",
              "4   2.0 -1.158233  0.877737  1.548718  ...  0.219422  0.215153   69.99      0\n",
              "\n",
              "[5 rows x 31 columns]"
            ]
          },
          "metadata": {},
          "execution_count": 4
        }
      ],
      "source": [
        "dados.head()"
      ]
    },
    {
      "cell_type": "markdown",
      "metadata": {
        "id": "AhlgRTLnSpiZ"
      },
      "source": [
        "## 3. **Análise Exploratória**\n",
        "\n",
        "\n",
        "### 3.1 Visão Geral dataSet\n",
        "Estatística Descritiva:\n",
        " * Tipo Objeto\n",
        " * Tipo Dados\n",
        " * Shape - Dimensionalidade\n",
        " * Indices\n",
        " * Describe dados\n"
      ]
    },
    {
      "cell_type": "code",
      "execution_count": 5,
      "metadata": {
        "id": "BvSf2I23Spia"
      },
      "outputs": [],
      "source": [
        "def visaogeral(df, messagem):\n",
        "    print(f'{messagem}:\\n')\n",
        "    print(\"Qtd Observações:\", df.shape[0])\n",
        "    print(\"\\nQtd Atributos:\", df.shape[1])\n",
        "    print(\"\\nAtributos:\")\n",
        "    print(dados.columns.tolist())\n",
        "    print(\"\\nQtd Valores missing:\", df.isnull().sum().values.sum())\n",
        "    print(\"\\nValores Unicos:\")\n",
        "    print(df.nunique())"
      ]
    },
    {
      "cell_type": "code",
      "execution_count": 6,
      "metadata": {
        "colab": {
          "base_uri": "https://localhost:8080/"
        },
        "id": "ATW7l_auSpib",
        "outputId": "20f5d5ab-a697-4fde-c782-29f4c1c78960"
      },
      "outputs": [
        {
          "output_type": "stream",
          "name": "stdout",
          "text": [
            "Visão Geral dataSet treino:\n",
            "\n",
            "Qtd Observações: 284807\n",
            "\n",
            "Qtd Atributos: 31\n",
            "\n",
            "Atributos:\n",
            "['Time', 'V1', 'V2', 'V3', 'V4', 'V5', 'V6', 'V7', 'V8', 'V9', 'V10', 'V11', 'V12', 'V13', 'V14', 'V15', 'V16', 'V17', 'V18', 'V19', 'V20', 'V21', 'V22', 'V23', 'V24', 'V25', 'V26', 'V27', 'V28', 'Amount', 'Class']\n",
            "\n",
            "Qtd Valores missing: 0\n",
            "\n",
            "Valores Unicos:\n",
            "Time      124592\n",
            "V1        275663\n",
            "V2        275663\n",
            "V3        275663\n",
            "V4        275663\n",
            "V5        275663\n",
            "V6        275663\n",
            "V7        275663\n",
            "V8        275663\n",
            "V9        275663\n",
            "V10       275663\n",
            "V11       275663\n",
            "V12       275663\n",
            "V13       275663\n",
            "V14       275663\n",
            "V15       275663\n",
            "V16       275663\n",
            "V17       275663\n",
            "V18       275663\n",
            "V19       275663\n",
            "V20       275663\n",
            "V21       275663\n",
            "V22       275663\n",
            "V23       275663\n",
            "V24       275663\n",
            "V25       275663\n",
            "V26       275663\n",
            "V27       275663\n",
            "V28       275663\n",
            "Amount     32767\n",
            "Class          2\n",
            "dtype: int64\n"
          ]
        }
      ],
      "source": [
        "visaogeral(dados,'Visão Geral dataSet treino')"
      ]
    },
    {
      "cell_type": "code",
      "execution_count": 7,
      "metadata": {
        "colab": {
          "base_uri": "https://localhost:8080/"
        },
        "id": "iLq_6QbXCDjz",
        "outputId": "147469fd-8930-4f17-e03b-9cd8076a5b7a"
      },
      "outputs": [
        {
          "output_type": "stream",
          "name": "stdout",
          "text": [
            "<class 'pandas.core.frame.DataFrame'>\n",
            "RangeIndex: 284807 entries, 0 to 284806\n",
            "Data columns (total 31 columns):\n",
            " #   Column  Non-Null Count   Dtype  \n",
            "---  ------  --------------   -----  \n",
            " 0   Time    284807 non-null  float64\n",
            " 1   V1      284807 non-null  float64\n",
            " 2   V2      284807 non-null  float64\n",
            " 3   V3      284807 non-null  float64\n",
            " 4   V4      284807 non-null  float64\n",
            " 5   V5      284807 non-null  float64\n",
            " 6   V6      284807 non-null  float64\n",
            " 7   V7      284807 non-null  float64\n",
            " 8   V8      284807 non-null  float64\n",
            " 9   V9      284807 non-null  float64\n",
            " 10  V10     284807 non-null  float64\n",
            " 11  V11     284807 non-null  float64\n",
            " 12  V12     284807 non-null  float64\n",
            " 13  V13     284807 non-null  float64\n",
            " 14  V14     284807 non-null  float64\n",
            " 15  V15     284807 non-null  float64\n",
            " 16  V16     284807 non-null  float64\n",
            " 17  V17     284807 non-null  float64\n",
            " 18  V18     284807 non-null  float64\n",
            " 19  V19     284807 non-null  float64\n",
            " 20  V20     284807 non-null  float64\n",
            " 21  V21     284807 non-null  float64\n",
            " 22  V22     284807 non-null  float64\n",
            " 23  V23     284807 non-null  float64\n",
            " 24  V24     284807 non-null  float64\n",
            " 25  V25     284807 non-null  float64\n",
            " 26  V26     284807 non-null  float64\n",
            " 27  V27     284807 non-null  float64\n",
            " 28  V28     284807 non-null  float64\n",
            " 29  Amount  284807 non-null  float64\n",
            " 30  Class   284807 non-null  int64  \n",
            "dtypes: float64(30), int64(1)\n",
            "memory usage: 67.4 MB\n"
          ]
        }
      ],
      "source": [
        "dados.info()"
      ]
    },
    {
      "cell_type": "markdown",
      "metadata": {
        "id": "tN3IaQ7zCkhq"
      },
      "source": [
        "Qual tipo de dados é nosso dataSet?\n",
        "\n"
      ]
    },
    {
      "cell_type": "code",
      "execution_count": 8,
      "metadata": {
        "colab": {
          "base_uri": "https://localhost:8080/"
        },
        "id": "yU2dl94xCgCp",
        "outputId": "7cbbf919-0572-4b46-c007-6078359841db"
      },
      "outputs": [
        {
          "output_type": "stream",
          "name": "stdout",
          "text": [
            "Nossos dados são do tipo: <class 'pandas.core.frame.DataFrame'>\n"
          ]
        }
      ],
      "source": [
        "print('Nossos dados são do tipo:', type(dados))"
      ]
    },
    {
      "cell_type": "markdown",
      "metadata": {
        "id": "WZWAhAsuC6S9"
      },
      "source": [
        "DICA: Se o número de linhas/observações no seu arquivo for muito grande, o algoritmo pode levar muito tempo para ser treinado. Se o número de registros for muito pequeno, você pode não ter registros suficientes para treinar seu modelo (underfitting- decora ponto dos dados).\n",
        "\n",
        "Se você tiver muitas colunas/atributos em seu arquivo, o algoritmo pode apresentar problemas de performance devido a alta dimensionalidade.\n",
        "\n",
        "A melhor solução vai depender de cada caso. Mas lembre-se: treine seu modelo em um subset do seu conjunto de dados maior (70% treino) e depois aplique o modelo a novos dados (30% teste) para verificar a performance. Uma boa prática é ter uma massa de dados para validação durante o treinamento."
      ]
    },
    {
      "cell_type": "code",
      "execution_count": 9,
      "metadata": {
        "colab": {
          "base_uri": "https://localhost:8080/",
          "height": 270
        },
        "id": "rp7IHSIlCg30",
        "outputId": "1ef04474-7799-43c4-ce86-10802cc93278"
      },
      "outputs": [
        {
          "output_type": "execute_result",
          "data": {
            "text/html": [
              "\n",
              "  <div id=\"df-81cc19bd-4b7f-48ad-b8da-82d90eefe6f5\">\n",
              "    <div class=\"colab-df-container\">\n",
              "      <div>\n",
              "<style scoped>\n",
              "    .dataframe tbody tr th:only-of-type {\n",
              "        vertical-align: middle;\n",
              "    }\n",
              "\n",
              "    .dataframe tbody tr th {\n",
              "        vertical-align: top;\n",
              "    }\n",
              "\n",
              "    .dataframe thead th {\n",
              "        text-align: right;\n",
              "    }\n",
              "</style>\n",
              "<table border=\"1\" class=\"dataframe\">\n",
              "  <thead>\n",
              "    <tr style=\"text-align: right;\">\n",
              "      <th></th>\n",
              "      <th>Time</th>\n",
              "      <th>V1</th>\n",
              "      <th>V2</th>\n",
              "      <th>V3</th>\n",
              "      <th>V4</th>\n",
              "      <th>V5</th>\n",
              "      <th>V6</th>\n",
              "      <th>V7</th>\n",
              "      <th>V8</th>\n",
              "      <th>V9</th>\n",
              "      <th>V10</th>\n",
              "      <th>V11</th>\n",
              "      <th>V12</th>\n",
              "      <th>V13</th>\n",
              "      <th>V14</th>\n",
              "      <th>V15</th>\n",
              "      <th>V16</th>\n",
              "      <th>V17</th>\n",
              "      <th>V18</th>\n",
              "      <th>V19</th>\n",
              "      <th>V20</th>\n",
              "      <th>V21</th>\n",
              "      <th>V22</th>\n",
              "      <th>V23</th>\n",
              "      <th>V24</th>\n",
              "      <th>V25</th>\n",
              "      <th>V26</th>\n",
              "      <th>V27</th>\n",
              "      <th>V28</th>\n",
              "      <th>Amount</th>\n",
              "      <th>Class</th>\n",
              "    </tr>\n",
              "  </thead>\n",
              "  <tbody>\n",
              "    <tr>\n",
              "      <th>284802</th>\n",
              "      <td>172786.0</td>\n",
              "      <td>-11.881118</td>\n",
              "      <td>10.071785</td>\n",
              "      <td>-9.834783</td>\n",
              "      <td>-2.066656</td>\n",
              "      <td>-5.364473</td>\n",
              "      <td>-2.606837</td>\n",
              "      <td>-4.918215</td>\n",
              "      <td>7.305334</td>\n",
              "      <td>1.914428</td>\n",
              "      <td>4.356170</td>\n",
              "      <td>-1.593105</td>\n",
              "      <td>2.711941</td>\n",
              "      <td>-0.689256</td>\n",
              "      <td>4.626942</td>\n",
              "      <td>-0.924459</td>\n",
              "      <td>1.107641</td>\n",
              "      <td>1.991691</td>\n",
              "      <td>0.510632</td>\n",
              "      <td>-0.682920</td>\n",
              "      <td>1.475829</td>\n",
              "      <td>0.213454</td>\n",
              "      <td>0.111864</td>\n",
              "      <td>1.014480</td>\n",
              "      <td>-0.509348</td>\n",
              "      <td>1.436807</td>\n",
              "      <td>0.250034</td>\n",
              "      <td>0.943651</td>\n",
              "      <td>0.823731</td>\n",
              "      <td>0.77</td>\n",
              "      <td>0</td>\n",
              "    </tr>\n",
              "    <tr>\n",
              "      <th>284803</th>\n",
              "      <td>172787.0</td>\n",
              "      <td>-0.732789</td>\n",
              "      <td>-0.055080</td>\n",
              "      <td>2.035030</td>\n",
              "      <td>-0.738589</td>\n",
              "      <td>0.868229</td>\n",
              "      <td>1.058415</td>\n",
              "      <td>0.024330</td>\n",
              "      <td>0.294869</td>\n",
              "      <td>0.584800</td>\n",
              "      <td>-0.975926</td>\n",
              "      <td>-0.150189</td>\n",
              "      <td>0.915802</td>\n",
              "      <td>1.214756</td>\n",
              "      <td>-0.675143</td>\n",
              "      <td>1.164931</td>\n",
              "      <td>-0.711757</td>\n",
              "      <td>-0.025693</td>\n",
              "      <td>-1.221179</td>\n",
              "      <td>-1.545556</td>\n",
              "      <td>0.059616</td>\n",
              "      <td>0.214205</td>\n",
              "      <td>0.924384</td>\n",
              "      <td>0.012463</td>\n",
              "      <td>-1.016226</td>\n",
              "      <td>-0.606624</td>\n",
              "      <td>-0.395255</td>\n",
              "      <td>0.068472</td>\n",
              "      <td>-0.053527</td>\n",
              "      <td>24.79</td>\n",
              "      <td>0</td>\n",
              "    </tr>\n",
              "    <tr>\n",
              "      <th>284804</th>\n",
              "      <td>172788.0</td>\n",
              "      <td>1.919565</td>\n",
              "      <td>-0.301254</td>\n",
              "      <td>-3.249640</td>\n",
              "      <td>-0.557828</td>\n",
              "      <td>2.630515</td>\n",
              "      <td>3.031260</td>\n",
              "      <td>-0.296827</td>\n",
              "      <td>0.708417</td>\n",
              "      <td>0.432454</td>\n",
              "      <td>-0.484782</td>\n",
              "      <td>0.411614</td>\n",
              "      <td>0.063119</td>\n",
              "      <td>-0.183699</td>\n",
              "      <td>-0.510602</td>\n",
              "      <td>1.329284</td>\n",
              "      <td>0.140716</td>\n",
              "      <td>0.313502</td>\n",
              "      <td>0.395652</td>\n",
              "      <td>-0.577252</td>\n",
              "      <td>0.001396</td>\n",
              "      <td>0.232045</td>\n",
              "      <td>0.578229</td>\n",
              "      <td>-0.037501</td>\n",
              "      <td>0.640134</td>\n",
              "      <td>0.265745</td>\n",
              "      <td>-0.087371</td>\n",
              "      <td>0.004455</td>\n",
              "      <td>-0.026561</td>\n",
              "      <td>67.88</td>\n",
              "      <td>0</td>\n",
              "    </tr>\n",
              "    <tr>\n",
              "      <th>284805</th>\n",
              "      <td>172788.0</td>\n",
              "      <td>-0.240440</td>\n",
              "      <td>0.530483</td>\n",
              "      <td>0.702510</td>\n",
              "      <td>0.689799</td>\n",
              "      <td>-0.377961</td>\n",
              "      <td>0.623708</td>\n",
              "      <td>-0.686180</td>\n",
              "      <td>0.679145</td>\n",
              "      <td>0.392087</td>\n",
              "      <td>-0.399126</td>\n",
              "      <td>-1.933849</td>\n",
              "      <td>-0.962886</td>\n",
              "      <td>-1.042082</td>\n",
              "      <td>0.449624</td>\n",
              "      <td>1.962563</td>\n",
              "      <td>-0.608577</td>\n",
              "      <td>0.509928</td>\n",
              "      <td>1.113981</td>\n",
              "      <td>2.897849</td>\n",
              "      <td>0.127434</td>\n",
              "      <td>0.265245</td>\n",
              "      <td>0.800049</td>\n",
              "      <td>-0.163298</td>\n",
              "      <td>0.123205</td>\n",
              "      <td>-0.569159</td>\n",
              "      <td>0.546668</td>\n",
              "      <td>0.108821</td>\n",
              "      <td>0.104533</td>\n",
              "      <td>10.00</td>\n",
              "      <td>0</td>\n",
              "    </tr>\n",
              "    <tr>\n",
              "      <th>284806</th>\n",
              "      <td>172792.0</td>\n",
              "      <td>-0.533413</td>\n",
              "      <td>-0.189733</td>\n",
              "      <td>0.703337</td>\n",
              "      <td>-0.506271</td>\n",
              "      <td>-0.012546</td>\n",
              "      <td>-0.649617</td>\n",
              "      <td>1.577006</td>\n",
              "      <td>-0.414650</td>\n",
              "      <td>0.486180</td>\n",
              "      <td>-0.915427</td>\n",
              "      <td>-1.040458</td>\n",
              "      <td>-0.031513</td>\n",
              "      <td>-0.188093</td>\n",
              "      <td>-0.084316</td>\n",
              "      <td>0.041333</td>\n",
              "      <td>-0.302620</td>\n",
              "      <td>-0.660377</td>\n",
              "      <td>0.167430</td>\n",
              "      <td>-0.256117</td>\n",
              "      <td>0.382948</td>\n",
              "      <td>0.261057</td>\n",
              "      <td>0.643078</td>\n",
              "      <td>0.376777</td>\n",
              "      <td>0.008797</td>\n",
              "      <td>-0.473649</td>\n",
              "      <td>-0.818267</td>\n",
              "      <td>-0.002415</td>\n",
              "      <td>0.013649</td>\n",
              "      <td>217.00</td>\n",
              "      <td>0</td>\n",
              "    </tr>\n",
              "  </tbody>\n",
              "</table>\n",
              "</div>\n",
              "      <button class=\"colab-df-convert\" onclick=\"convertToInteractive('df-81cc19bd-4b7f-48ad-b8da-82d90eefe6f5')\"\n",
              "              title=\"Convert this dataframe to an interactive table.\"\n",
              "              style=\"display:none;\">\n",
              "        \n",
              "  <svg xmlns=\"http://www.w3.org/2000/svg\" height=\"24px\"viewBox=\"0 0 24 24\"\n",
              "       width=\"24px\">\n",
              "    <path d=\"M0 0h24v24H0V0z\" fill=\"none\"/>\n",
              "    <path d=\"M18.56 5.44l.94 2.06.94-2.06 2.06-.94-2.06-.94-.94-2.06-.94 2.06-2.06.94zm-11 1L8.5 8.5l.94-2.06 2.06-.94-2.06-.94L8.5 2.5l-.94 2.06-2.06.94zm10 10l.94 2.06.94-2.06 2.06-.94-2.06-.94-.94-2.06-.94 2.06-2.06.94z\"/><path d=\"M17.41 7.96l-1.37-1.37c-.4-.4-.92-.59-1.43-.59-.52 0-1.04.2-1.43.59L10.3 9.45l-7.72 7.72c-.78.78-.78 2.05 0 2.83L4 21.41c.39.39.9.59 1.41.59.51 0 1.02-.2 1.41-.59l7.78-7.78 2.81-2.81c.8-.78.8-2.07 0-2.86zM5.41 20L4 18.59l7.72-7.72 1.47 1.35L5.41 20z\"/>\n",
              "  </svg>\n",
              "      </button>\n",
              "      \n",
              "  <style>\n",
              "    .colab-df-container {\n",
              "      display:flex;\n",
              "      flex-wrap:wrap;\n",
              "      gap: 12px;\n",
              "    }\n",
              "\n",
              "    .colab-df-convert {\n",
              "      background-color: #E8F0FE;\n",
              "      border: none;\n",
              "      border-radius: 50%;\n",
              "      cursor: pointer;\n",
              "      display: none;\n",
              "      fill: #1967D2;\n",
              "      height: 32px;\n",
              "      padding: 0 0 0 0;\n",
              "      width: 32px;\n",
              "    }\n",
              "\n",
              "    .colab-df-convert:hover {\n",
              "      background-color: #E2EBFA;\n",
              "      box-shadow: 0px 1px 2px rgba(60, 64, 67, 0.3), 0px 1px 3px 1px rgba(60, 64, 67, 0.15);\n",
              "      fill: #174EA6;\n",
              "    }\n",
              "\n",
              "    [theme=dark] .colab-df-convert {\n",
              "      background-color: #3B4455;\n",
              "      fill: #D2E3FC;\n",
              "    }\n",
              "\n",
              "    [theme=dark] .colab-df-convert:hover {\n",
              "      background-color: #434B5C;\n",
              "      box-shadow: 0px 1px 3px 1px rgba(0, 0, 0, 0.15);\n",
              "      filter: drop-shadow(0px 1px 2px rgba(0, 0, 0, 0.3));\n",
              "      fill: #FFFFFF;\n",
              "    }\n",
              "  </style>\n",
              "\n",
              "      <script>\n",
              "        const buttonEl =\n",
              "          document.querySelector('#df-81cc19bd-4b7f-48ad-b8da-82d90eefe6f5 button.colab-df-convert');\n",
              "        buttonEl.style.display =\n",
              "          google.colab.kernel.accessAllowed ? 'block' : 'none';\n",
              "\n",
              "        async function convertToInteractive(key) {\n",
              "          const element = document.querySelector('#df-81cc19bd-4b7f-48ad-b8da-82d90eefe6f5');\n",
              "          const dataTable =\n",
              "            await google.colab.kernel.invokeFunction('convertToInteractive',\n",
              "                                                     [key], {});\n",
              "          if (!dataTable) return;\n",
              "\n",
              "          const docLinkHtml = 'Like what you see? Visit the ' +\n",
              "            '<a target=\"_blank\" href=https://colab.research.google.com/notebooks/data_table.ipynb>data table notebook</a>'\n",
              "            + ' to learn more about interactive tables.';\n",
              "          element.innerHTML = '';\n",
              "          dataTable['output_type'] = 'display_data';\n",
              "          await google.colab.output.renderOutput(dataTable, element);\n",
              "          const docLink = document.createElement('div');\n",
              "          docLink.innerHTML = docLinkHtml;\n",
              "          element.appendChild(docLink);\n",
              "        }\n",
              "      </script>\n",
              "    </div>\n",
              "  </div>\n",
              "  "
            ],
            "text/plain": [
              "            Time         V1         V2  ...       V28  Amount  Class\n",
              "284802  172786.0 -11.881118  10.071785  ...  0.823731    0.77      0\n",
              "284803  172787.0  -0.732789  -0.055080  ... -0.053527   24.79      0\n",
              "284804  172788.0   1.919565  -0.301254  ... -0.026561   67.88      0\n",
              "284805  172788.0  -0.240440   0.530483  ...  0.104533   10.00      0\n",
              "284806  172792.0  -0.533413  -0.189733  ...  0.013649  217.00      0\n",
              "\n",
              "[5 rows x 31 columns]"
            ]
          },
          "metadata": {},
          "execution_count": 9
        }
      ],
      "source": [
        "# Observando os dados finais do dataSet\n",
        "dados.tail()"
      ]
    },
    {
      "cell_type": "code",
      "execution_count": 10,
      "metadata": {
        "colab": {
          "base_uri": "https://localhost:8080/"
        },
        "id": "9wN6Rt-fChuc",
        "outputId": "b9320a70-d84f-450a-f17f-28efec29a71f"
      },
      "outputs": [
        {
          "output_type": "stream",
          "name": "stdout",
          "text": [
            "Os dados possuem 284807.000000 observações/linhas e 31 atributos/colunas.\n"
          ]
        }
      ],
      "source": [
        "print('Os dados possuem {:f} observações/linhas e {} atributos/colunas.'.format(dados.shape[0], dados.shape[1]))             "
      ]
    },
    {
      "cell_type": "markdown",
      "metadata": {
        "id": "DcNhruk6EVPG"
      },
      "source": [
        "DICA: verificar tipo dos dados é muito importante. Pode ser necessário converter strings, ou colunas com números inteiros podem representar variáveis categóricas ou valores ordinários. (**informação representa o que está informando**)"
      ]
    },
    {
      "cell_type": "code",
      "execution_count": 11,
      "metadata": {
        "colab": {
          "base_uri": "https://localhost:8080/",
          "height": 1000
        },
        "id": "W2V1CGp2CiIo",
        "outputId": "1a15265e-0949-4d02-f89d-8015ddf5a4a8"
      },
      "outputs": [
        {
          "output_type": "execute_result",
          "data": {
            "text/html": [
              "\n",
              "  <div id=\"df-ff4b7e8c-95f8-4c44-a5b9-ddceac206dfd\">\n",
              "    <div class=\"colab-df-container\">\n",
              "      <div>\n",
              "<style scoped>\n",
              "    .dataframe tbody tr th:only-of-type {\n",
              "        vertical-align: middle;\n",
              "    }\n",
              "\n",
              "    .dataframe tbody tr th {\n",
              "        vertical-align: top;\n",
              "    }\n",
              "\n",
              "    .dataframe thead th {\n",
              "        text-align: right;\n",
              "    }\n",
              "</style>\n",
              "<table border=\"1\" class=\"dataframe\">\n",
              "  <thead>\n",
              "    <tr style=\"text-align: right;\">\n",
              "      <th>Variáveis</th>\n",
              "      <th>Tipos de dado</th>\n",
              "    </tr>\n",
              "  </thead>\n",
              "  <tbody>\n",
              "    <tr>\n",
              "      <th>Time</th>\n",
              "      <td>float64</td>\n",
              "    </tr>\n",
              "    <tr>\n",
              "      <th>V1</th>\n",
              "      <td>float64</td>\n",
              "    </tr>\n",
              "    <tr>\n",
              "      <th>V2</th>\n",
              "      <td>float64</td>\n",
              "    </tr>\n",
              "    <tr>\n",
              "      <th>V3</th>\n",
              "      <td>float64</td>\n",
              "    </tr>\n",
              "    <tr>\n",
              "      <th>V4</th>\n",
              "      <td>float64</td>\n",
              "    </tr>\n",
              "    <tr>\n",
              "      <th>V5</th>\n",
              "      <td>float64</td>\n",
              "    </tr>\n",
              "    <tr>\n",
              "      <th>V6</th>\n",
              "      <td>float64</td>\n",
              "    </tr>\n",
              "    <tr>\n",
              "      <th>V7</th>\n",
              "      <td>float64</td>\n",
              "    </tr>\n",
              "    <tr>\n",
              "      <th>V8</th>\n",
              "      <td>float64</td>\n",
              "    </tr>\n",
              "    <tr>\n",
              "      <th>V9</th>\n",
              "      <td>float64</td>\n",
              "    </tr>\n",
              "    <tr>\n",
              "      <th>V10</th>\n",
              "      <td>float64</td>\n",
              "    </tr>\n",
              "    <tr>\n",
              "      <th>V11</th>\n",
              "      <td>float64</td>\n",
              "    </tr>\n",
              "    <tr>\n",
              "      <th>V12</th>\n",
              "      <td>float64</td>\n",
              "    </tr>\n",
              "    <tr>\n",
              "      <th>V13</th>\n",
              "      <td>float64</td>\n",
              "    </tr>\n",
              "    <tr>\n",
              "      <th>V14</th>\n",
              "      <td>float64</td>\n",
              "    </tr>\n",
              "    <tr>\n",
              "      <th>V15</th>\n",
              "      <td>float64</td>\n",
              "    </tr>\n",
              "    <tr>\n",
              "      <th>V16</th>\n",
              "      <td>float64</td>\n",
              "    </tr>\n",
              "    <tr>\n",
              "      <th>V17</th>\n",
              "      <td>float64</td>\n",
              "    </tr>\n",
              "    <tr>\n",
              "      <th>V18</th>\n",
              "      <td>float64</td>\n",
              "    </tr>\n",
              "    <tr>\n",
              "      <th>V19</th>\n",
              "      <td>float64</td>\n",
              "    </tr>\n",
              "    <tr>\n",
              "      <th>V20</th>\n",
              "      <td>float64</td>\n",
              "    </tr>\n",
              "    <tr>\n",
              "      <th>V21</th>\n",
              "      <td>float64</td>\n",
              "    </tr>\n",
              "    <tr>\n",
              "      <th>V22</th>\n",
              "      <td>float64</td>\n",
              "    </tr>\n",
              "    <tr>\n",
              "      <th>V23</th>\n",
              "      <td>float64</td>\n",
              "    </tr>\n",
              "    <tr>\n",
              "      <th>V24</th>\n",
              "      <td>float64</td>\n",
              "    </tr>\n",
              "    <tr>\n",
              "      <th>V25</th>\n",
              "      <td>float64</td>\n",
              "    </tr>\n",
              "    <tr>\n",
              "      <th>V26</th>\n",
              "      <td>float64</td>\n",
              "    </tr>\n",
              "    <tr>\n",
              "      <th>V27</th>\n",
              "      <td>float64</td>\n",
              "    </tr>\n",
              "    <tr>\n",
              "      <th>V28</th>\n",
              "      <td>float64</td>\n",
              "    </tr>\n",
              "    <tr>\n",
              "      <th>Amount</th>\n",
              "      <td>float64</td>\n",
              "    </tr>\n",
              "    <tr>\n",
              "      <th>Class</th>\n",
              "      <td>int64</td>\n",
              "    </tr>\n",
              "  </tbody>\n",
              "</table>\n",
              "</div>\n",
              "      <button class=\"colab-df-convert\" onclick=\"convertToInteractive('df-ff4b7e8c-95f8-4c44-a5b9-ddceac206dfd')\"\n",
              "              title=\"Convert this dataframe to an interactive table.\"\n",
              "              style=\"display:none;\">\n",
              "        \n",
              "  <svg xmlns=\"http://www.w3.org/2000/svg\" height=\"24px\"viewBox=\"0 0 24 24\"\n",
              "       width=\"24px\">\n",
              "    <path d=\"M0 0h24v24H0V0z\" fill=\"none\"/>\n",
              "    <path d=\"M18.56 5.44l.94 2.06.94-2.06 2.06-.94-2.06-.94-.94-2.06-.94 2.06-2.06.94zm-11 1L8.5 8.5l.94-2.06 2.06-.94-2.06-.94L8.5 2.5l-.94 2.06-2.06.94zm10 10l.94 2.06.94-2.06 2.06-.94-2.06-.94-.94-2.06-.94 2.06-2.06.94z\"/><path d=\"M17.41 7.96l-1.37-1.37c-.4-.4-.92-.59-1.43-.59-.52 0-1.04.2-1.43.59L10.3 9.45l-7.72 7.72c-.78.78-.78 2.05 0 2.83L4 21.41c.39.39.9.59 1.41.59.51 0 1.02-.2 1.41-.59l7.78-7.78 2.81-2.81c.8-.78.8-2.07 0-2.86zM5.41 20L4 18.59l7.72-7.72 1.47 1.35L5.41 20z\"/>\n",
              "  </svg>\n",
              "      </button>\n",
              "      \n",
              "  <style>\n",
              "    .colab-df-container {\n",
              "      display:flex;\n",
              "      flex-wrap:wrap;\n",
              "      gap: 12px;\n",
              "    }\n",
              "\n",
              "    .colab-df-convert {\n",
              "      background-color: #E8F0FE;\n",
              "      border: none;\n",
              "      border-radius: 50%;\n",
              "      cursor: pointer;\n",
              "      display: none;\n",
              "      fill: #1967D2;\n",
              "      height: 32px;\n",
              "      padding: 0 0 0 0;\n",
              "      width: 32px;\n",
              "    }\n",
              "\n",
              "    .colab-df-convert:hover {\n",
              "      background-color: #E2EBFA;\n",
              "      box-shadow: 0px 1px 2px rgba(60, 64, 67, 0.3), 0px 1px 3px 1px rgba(60, 64, 67, 0.15);\n",
              "      fill: #174EA6;\n",
              "    }\n",
              "\n",
              "    [theme=dark] .colab-df-convert {\n",
              "      background-color: #3B4455;\n",
              "      fill: #D2E3FC;\n",
              "    }\n",
              "\n",
              "    [theme=dark] .colab-df-convert:hover {\n",
              "      background-color: #434B5C;\n",
              "      box-shadow: 0px 1px 3px 1px rgba(0, 0, 0, 0.15);\n",
              "      filter: drop-shadow(0px 1px 2px rgba(0, 0, 0, 0.3));\n",
              "      fill: #FFFFFF;\n",
              "    }\n",
              "  </style>\n",
              "\n",
              "      <script>\n",
              "        const buttonEl =\n",
              "          document.querySelector('#df-ff4b7e8c-95f8-4c44-a5b9-ddceac206dfd button.colab-df-convert');\n",
              "        buttonEl.style.display =\n",
              "          google.colab.kernel.accessAllowed ? 'block' : 'none';\n",
              "\n",
              "        async function convertToInteractive(key) {\n",
              "          const element = document.querySelector('#df-ff4b7e8c-95f8-4c44-a5b9-ddceac206dfd');\n",
              "          const dataTable =\n",
              "            await google.colab.kernel.invokeFunction('convertToInteractive',\n",
              "                                                     [key], {});\n",
              "          if (!dataTable) return;\n",
              "\n",
              "          const docLinkHtml = 'Like what you see? Visit the ' +\n",
              "            '<a target=\"_blank\" href=https://colab.research.google.com/notebooks/data_table.ipynb>data table notebook</a>'\n",
              "            + ' to learn more about interactive tables.';\n",
              "          element.innerHTML = '';\n",
              "          dataTable['output_type'] = 'display_data';\n",
              "          await google.colab.output.renderOutput(dataTable, element);\n",
              "          const docLink = document.createElement('div');\n",
              "          docLink.innerHTML = docLinkHtml;\n",
              "          element.appendChild(docLink);\n",
              "        }\n",
              "      </script>\n",
              "    </div>\n",
              "  </div>\n",
              "  "
            ],
            "text/plain": [
              "Variáveis Tipos de dado\n",
              "Time            float64\n",
              "V1              float64\n",
              "V2              float64\n",
              "V3              float64\n",
              "V4              float64\n",
              "V5              float64\n",
              "V6              float64\n",
              "V7              float64\n",
              "V8              float64\n",
              "V9              float64\n",
              "V10             float64\n",
              "V11             float64\n",
              "V12             float64\n",
              "V13             float64\n",
              "V14             float64\n",
              "V15             float64\n",
              "V16             float64\n",
              "V17             float64\n",
              "V18             float64\n",
              "V19             float64\n",
              "V20             float64\n",
              "V21             float64\n",
              "V22             float64\n",
              "V23             float64\n",
              "V24             float64\n",
              "V25             float64\n",
              "V26             float64\n",
              "V27             float64\n",
              "V28             float64\n",
              "Amount          float64\n",
              "Class             int64"
            ]
          },
          "metadata": {},
          "execution_count": 11
        }
      ],
      "source": [
        "tipo = pd.DataFrame(dados.dtypes, columns= ['Tipos de dado'])\n",
        "tipo.columns.name = 'Variáveis'\n",
        "tipo"
      ]
    },
    {
      "cell_type": "markdown",
      "metadata": {
        "id": "Gw9t2xdjFMEQ"
      },
      "source": [
        "Verificamos que as informações estão sendo representadas por dados do tipo `float64`, ou seja, dados numéricos decimais. A última variável, a de interesse, está sendo representada por tipo `int64` dados núméricos inteiros.    "
      ]
    },
    {
      "cell_type": "code",
      "execution_count": 12,
      "metadata": {
        "colab": {
          "base_uri": "https://localhost:8080/"
        },
        "id": "IOtLorJdCiWR",
        "outputId": "d83937c6-c5c4-4823-c4f2-20d84d0a8643"
      },
      "outputs": [
        {
          "output_type": "execute_result",
          "data": {
            "text/plain": [
              "RangeIndex(start=0, stop=284807, step=1)"
            ]
          },
          "metadata": {},
          "execution_count": 12
        }
      ],
      "source": [
        "# checando índice e sua distribuição\n",
        "dados.index"
      ]
    },
    {
      "cell_type": "code",
      "execution_count": 13,
      "metadata": {
        "colab": {
          "base_uri": "https://localhost:8080/"
        },
        "id": "NQVZzBJgCijN",
        "outputId": "ceeb71c1-f47f-4334-b59e-cbd669bdc039"
      },
      "outputs": [
        {
          "output_type": "execute_result",
          "data": {
            "text/plain": [
              "Index(['Time', 'V1', 'V2', 'V3', 'V4', 'V5', 'V6', 'V7', 'V8', 'V9', 'V10',\n",
              "       'V11', 'V12', 'V13', 'V14', 'V15', 'V16', 'V17', 'V18', 'V19', 'V20',\n",
              "       'V21', 'V22', 'V23', 'V24', 'V25', 'V26', 'V27', 'V28', 'Amount',\n",
              "       'Class'],\n",
              "      dtype='object')"
            ]
          },
          "metadata": {},
          "execution_count": 13
        }
      ],
      "source": [
        "# checando os nomes das colunas\n",
        "dados.columns"
      ]
    },
    {
      "cell_type": "markdown",
      "metadata": {
        "id": "SOvasbvlD_bq"
      },
      "source": [
        "Resumo das principais estatísticas dos dados."
      ]
    },
    {
      "cell_type": "code",
      "execution_count": 14,
      "metadata": {
        "colab": {
          "base_uri": "https://localhost:8080/",
          "height": 364
        },
        "id": "NbAOGhqmCi2m",
        "outputId": "9a167c27-a58c-4906-f7ee-16da7b3fe3c3"
      },
      "outputs": [
        {
          "output_type": "execute_result",
          "data": {
            "text/html": [
              "\n",
              "  <div id=\"df-8cdad90e-9f9b-404f-beb8-7552b0086130\">\n",
              "    <div class=\"colab-df-container\">\n",
              "      <div>\n",
              "<style scoped>\n",
              "    .dataframe tbody tr th:only-of-type {\n",
              "        vertical-align: middle;\n",
              "    }\n",
              "\n",
              "    .dataframe tbody tr th {\n",
              "        vertical-align: top;\n",
              "    }\n",
              "\n",
              "    .dataframe thead th {\n",
              "        text-align: right;\n",
              "    }\n",
              "</style>\n",
              "<table border=\"1\" class=\"dataframe\">\n",
              "  <thead>\n",
              "    <tr style=\"text-align: right;\">\n",
              "      <th></th>\n",
              "      <th>Time</th>\n",
              "      <th>V1</th>\n",
              "      <th>V2</th>\n",
              "      <th>V3</th>\n",
              "      <th>V4</th>\n",
              "      <th>V5</th>\n",
              "      <th>V6</th>\n",
              "      <th>V7</th>\n",
              "      <th>V8</th>\n",
              "      <th>V9</th>\n",
              "      <th>V10</th>\n",
              "      <th>V11</th>\n",
              "      <th>V12</th>\n",
              "      <th>V13</th>\n",
              "      <th>V14</th>\n",
              "      <th>V15</th>\n",
              "      <th>V16</th>\n",
              "      <th>V17</th>\n",
              "      <th>V18</th>\n",
              "      <th>V19</th>\n",
              "      <th>V20</th>\n",
              "      <th>V21</th>\n",
              "      <th>V22</th>\n",
              "      <th>V23</th>\n",
              "      <th>V24</th>\n",
              "      <th>V25</th>\n",
              "      <th>V26</th>\n",
              "      <th>V27</th>\n",
              "      <th>V28</th>\n",
              "      <th>Amount</th>\n",
              "      <th>Class</th>\n",
              "    </tr>\n",
              "  </thead>\n",
              "  <tbody>\n",
              "    <tr>\n",
              "      <th>count</th>\n",
              "      <td>284807.000000</td>\n",
              "      <td>2.848070e+05</td>\n",
              "      <td>2.848070e+05</td>\n",
              "      <td>2.848070e+05</td>\n",
              "      <td>2.848070e+05</td>\n",
              "      <td>2.848070e+05</td>\n",
              "      <td>2.848070e+05</td>\n",
              "      <td>2.848070e+05</td>\n",
              "      <td>2.848070e+05</td>\n",
              "      <td>2.848070e+05</td>\n",
              "      <td>2.848070e+05</td>\n",
              "      <td>2.848070e+05</td>\n",
              "      <td>2.848070e+05</td>\n",
              "      <td>2.848070e+05</td>\n",
              "      <td>2.848070e+05</td>\n",
              "      <td>2.848070e+05</td>\n",
              "      <td>2.848070e+05</td>\n",
              "      <td>2.848070e+05</td>\n",
              "      <td>2.848070e+05</td>\n",
              "      <td>2.848070e+05</td>\n",
              "      <td>2.848070e+05</td>\n",
              "      <td>2.848070e+05</td>\n",
              "      <td>2.848070e+05</td>\n",
              "      <td>2.848070e+05</td>\n",
              "      <td>2.848070e+05</td>\n",
              "      <td>2.848070e+05</td>\n",
              "      <td>2.848070e+05</td>\n",
              "      <td>2.848070e+05</td>\n",
              "      <td>2.848070e+05</td>\n",
              "      <td>284807.000000</td>\n",
              "      <td>284807.000000</td>\n",
              "    </tr>\n",
              "    <tr>\n",
              "      <th>mean</th>\n",
              "      <td>94813.859575</td>\n",
              "      <td>3.919560e-15</td>\n",
              "      <td>5.688174e-16</td>\n",
              "      <td>-8.769071e-15</td>\n",
              "      <td>2.782312e-15</td>\n",
              "      <td>-1.552563e-15</td>\n",
              "      <td>2.010663e-15</td>\n",
              "      <td>-1.694249e-15</td>\n",
              "      <td>-1.927028e-16</td>\n",
              "      <td>-3.137024e-15</td>\n",
              "      <td>1.768627e-15</td>\n",
              "      <td>9.170318e-16</td>\n",
              "      <td>-1.810658e-15</td>\n",
              "      <td>1.693438e-15</td>\n",
              "      <td>1.479045e-15</td>\n",
              "      <td>3.482336e-15</td>\n",
              "      <td>1.392007e-15</td>\n",
              "      <td>-7.528491e-16</td>\n",
              "      <td>4.328772e-16</td>\n",
              "      <td>9.049732e-16</td>\n",
              "      <td>5.085503e-16</td>\n",
              "      <td>1.537294e-16</td>\n",
              "      <td>7.959909e-16</td>\n",
              "      <td>5.367590e-16</td>\n",
              "      <td>4.458112e-15</td>\n",
              "      <td>1.453003e-15</td>\n",
              "      <td>1.699104e-15</td>\n",
              "      <td>-3.660161e-16</td>\n",
              "      <td>-1.206049e-16</td>\n",
              "      <td>88.349619</td>\n",
              "      <td>0.001727</td>\n",
              "    </tr>\n",
              "    <tr>\n",
              "      <th>std</th>\n",
              "      <td>47488.145955</td>\n",
              "      <td>1.958696e+00</td>\n",
              "      <td>1.651309e+00</td>\n",
              "      <td>1.516255e+00</td>\n",
              "      <td>1.415869e+00</td>\n",
              "      <td>1.380247e+00</td>\n",
              "      <td>1.332271e+00</td>\n",
              "      <td>1.237094e+00</td>\n",
              "      <td>1.194353e+00</td>\n",
              "      <td>1.098632e+00</td>\n",
              "      <td>1.088850e+00</td>\n",
              "      <td>1.020713e+00</td>\n",
              "      <td>9.992014e-01</td>\n",
              "      <td>9.952742e-01</td>\n",
              "      <td>9.585956e-01</td>\n",
              "      <td>9.153160e-01</td>\n",
              "      <td>8.762529e-01</td>\n",
              "      <td>8.493371e-01</td>\n",
              "      <td>8.381762e-01</td>\n",
              "      <td>8.140405e-01</td>\n",
              "      <td>7.709250e-01</td>\n",
              "      <td>7.345240e-01</td>\n",
              "      <td>7.257016e-01</td>\n",
              "      <td>6.244603e-01</td>\n",
              "      <td>6.056471e-01</td>\n",
              "      <td>5.212781e-01</td>\n",
              "      <td>4.822270e-01</td>\n",
              "      <td>4.036325e-01</td>\n",
              "      <td>3.300833e-01</td>\n",
              "      <td>250.120109</td>\n",
              "      <td>0.041527</td>\n",
              "    </tr>\n",
              "    <tr>\n",
              "      <th>min</th>\n",
              "      <td>0.000000</td>\n",
              "      <td>-5.640751e+01</td>\n",
              "      <td>-7.271573e+01</td>\n",
              "      <td>-4.832559e+01</td>\n",
              "      <td>-5.683171e+00</td>\n",
              "      <td>-1.137433e+02</td>\n",
              "      <td>-2.616051e+01</td>\n",
              "      <td>-4.355724e+01</td>\n",
              "      <td>-7.321672e+01</td>\n",
              "      <td>-1.343407e+01</td>\n",
              "      <td>-2.458826e+01</td>\n",
              "      <td>-4.797473e+00</td>\n",
              "      <td>-1.868371e+01</td>\n",
              "      <td>-5.791881e+00</td>\n",
              "      <td>-1.921433e+01</td>\n",
              "      <td>-4.498945e+00</td>\n",
              "      <td>-1.412985e+01</td>\n",
              "      <td>-2.516280e+01</td>\n",
              "      <td>-9.498746e+00</td>\n",
              "      <td>-7.213527e+00</td>\n",
              "      <td>-5.449772e+01</td>\n",
              "      <td>-3.483038e+01</td>\n",
              "      <td>-1.093314e+01</td>\n",
              "      <td>-4.480774e+01</td>\n",
              "      <td>-2.836627e+00</td>\n",
              "      <td>-1.029540e+01</td>\n",
              "      <td>-2.604551e+00</td>\n",
              "      <td>-2.256568e+01</td>\n",
              "      <td>-1.543008e+01</td>\n",
              "      <td>0.000000</td>\n",
              "      <td>0.000000</td>\n",
              "    </tr>\n",
              "    <tr>\n",
              "      <th>25%</th>\n",
              "      <td>54201.500000</td>\n",
              "      <td>-9.203734e-01</td>\n",
              "      <td>-5.985499e-01</td>\n",
              "      <td>-8.903648e-01</td>\n",
              "      <td>-8.486401e-01</td>\n",
              "      <td>-6.915971e-01</td>\n",
              "      <td>-7.682956e-01</td>\n",
              "      <td>-5.540759e-01</td>\n",
              "      <td>-2.086297e-01</td>\n",
              "      <td>-6.430976e-01</td>\n",
              "      <td>-5.354257e-01</td>\n",
              "      <td>-7.624942e-01</td>\n",
              "      <td>-4.055715e-01</td>\n",
              "      <td>-6.485393e-01</td>\n",
              "      <td>-4.255740e-01</td>\n",
              "      <td>-5.828843e-01</td>\n",
              "      <td>-4.680368e-01</td>\n",
              "      <td>-4.837483e-01</td>\n",
              "      <td>-4.988498e-01</td>\n",
              "      <td>-4.562989e-01</td>\n",
              "      <td>-2.117214e-01</td>\n",
              "      <td>-2.283949e-01</td>\n",
              "      <td>-5.423504e-01</td>\n",
              "      <td>-1.618463e-01</td>\n",
              "      <td>-3.545861e-01</td>\n",
              "      <td>-3.171451e-01</td>\n",
              "      <td>-3.269839e-01</td>\n",
              "      <td>-7.083953e-02</td>\n",
              "      <td>-5.295979e-02</td>\n",
              "      <td>5.600000</td>\n",
              "      <td>0.000000</td>\n",
              "    </tr>\n",
              "    <tr>\n",
              "      <th>50%</th>\n",
              "      <td>84692.000000</td>\n",
              "      <td>1.810880e-02</td>\n",
              "      <td>6.548556e-02</td>\n",
              "      <td>1.798463e-01</td>\n",
              "      <td>-1.984653e-02</td>\n",
              "      <td>-5.433583e-02</td>\n",
              "      <td>-2.741871e-01</td>\n",
              "      <td>4.010308e-02</td>\n",
              "      <td>2.235804e-02</td>\n",
              "      <td>-5.142873e-02</td>\n",
              "      <td>-9.291738e-02</td>\n",
              "      <td>-3.275735e-02</td>\n",
              "      <td>1.400326e-01</td>\n",
              "      <td>-1.356806e-02</td>\n",
              "      <td>5.060132e-02</td>\n",
              "      <td>4.807155e-02</td>\n",
              "      <td>6.641332e-02</td>\n",
              "      <td>-6.567575e-02</td>\n",
              "      <td>-3.636312e-03</td>\n",
              "      <td>3.734823e-03</td>\n",
              "      <td>-6.248109e-02</td>\n",
              "      <td>-2.945017e-02</td>\n",
              "      <td>6.781943e-03</td>\n",
              "      <td>-1.119293e-02</td>\n",
              "      <td>4.097606e-02</td>\n",
              "      <td>1.659350e-02</td>\n",
              "      <td>-5.213911e-02</td>\n",
              "      <td>1.342146e-03</td>\n",
              "      <td>1.124383e-02</td>\n",
              "      <td>22.000000</td>\n",
              "      <td>0.000000</td>\n",
              "    </tr>\n",
              "    <tr>\n",
              "      <th>75%</th>\n",
              "      <td>139320.500000</td>\n",
              "      <td>1.315642e+00</td>\n",
              "      <td>8.037239e-01</td>\n",
              "      <td>1.027196e+00</td>\n",
              "      <td>7.433413e-01</td>\n",
              "      <td>6.119264e-01</td>\n",
              "      <td>3.985649e-01</td>\n",
              "      <td>5.704361e-01</td>\n",
              "      <td>3.273459e-01</td>\n",
              "      <td>5.971390e-01</td>\n",
              "      <td>4.539234e-01</td>\n",
              "      <td>7.395934e-01</td>\n",
              "      <td>6.182380e-01</td>\n",
              "      <td>6.625050e-01</td>\n",
              "      <td>4.931498e-01</td>\n",
              "      <td>6.488208e-01</td>\n",
              "      <td>5.232963e-01</td>\n",
              "      <td>3.996750e-01</td>\n",
              "      <td>5.008067e-01</td>\n",
              "      <td>4.589494e-01</td>\n",
              "      <td>1.330408e-01</td>\n",
              "      <td>1.863772e-01</td>\n",
              "      <td>5.285536e-01</td>\n",
              "      <td>1.476421e-01</td>\n",
              "      <td>4.395266e-01</td>\n",
              "      <td>3.507156e-01</td>\n",
              "      <td>2.409522e-01</td>\n",
              "      <td>9.104512e-02</td>\n",
              "      <td>7.827995e-02</td>\n",
              "      <td>77.165000</td>\n",
              "      <td>0.000000</td>\n",
              "    </tr>\n",
              "    <tr>\n",
              "      <th>max</th>\n",
              "      <td>172792.000000</td>\n",
              "      <td>2.454930e+00</td>\n",
              "      <td>2.205773e+01</td>\n",
              "      <td>9.382558e+00</td>\n",
              "      <td>1.687534e+01</td>\n",
              "      <td>3.480167e+01</td>\n",
              "      <td>7.330163e+01</td>\n",
              "      <td>1.205895e+02</td>\n",
              "      <td>2.000721e+01</td>\n",
              "      <td>1.559499e+01</td>\n",
              "      <td>2.374514e+01</td>\n",
              "      <td>1.201891e+01</td>\n",
              "      <td>7.848392e+00</td>\n",
              "      <td>7.126883e+00</td>\n",
              "      <td>1.052677e+01</td>\n",
              "      <td>8.877742e+00</td>\n",
              "      <td>1.731511e+01</td>\n",
              "      <td>9.253526e+00</td>\n",
              "      <td>5.041069e+00</td>\n",
              "      <td>5.591971e+00</td>\n",
              "      <td>3.942090e+01</td>\n",
              "      <td>2.720284e+01</td>\n",
              "      <td>1.050309e+01</td>\n",
              "      <td>2.252841e+01</td>\n",
              "      <td>4.584549e+00</td>\n",
              "      <td>7.519589e+00</td>\n",
              "      <td>3.517346e+00</td>\n",
              "      <td>3.161220e+01</td>\n",
              "      <td>3.384781e+01</td>\n",
              "      <td>25691.160000</td>\n",
              "      <td>1.000000</td>\n",
              "    </tr>\n",
              "  </tbody>\n",
              "</table>\n",
              "</div>\n",
              "      <button class=\"colab-df-convert\" onclick=\"convertToInteractive('df-8cdad90e-9f9b-404f-beb8-7552b0086130')\"\n",
              "              title=\"Convert this dataframe to an interactive table.\"\n",
              "              style=\"display:none;\">\n",
              "        \n",
              "  <svg xmlns=\"http://www.w3.org/2000/svg\" height=\"24px\"viewBox=\"0 0 24 24\"\n",
              "       width=\"24px\">\n",
              "    <path d=\"M0 0h24v24H0V0z\" fill=\"none\"/>\n",
              "    <path d=\"M18.56 5.44l.94 2.06.94-2.06 2.06-.94-2.06-.94-.94-2.06-.94 2.06-2.06.94zm-11 1L8.5 8.5l.94-2.06 2.06-.94-2.06-.94L8.5 2.5l-.94 2.06-2.06.94zm10 10l.94 2.06.94-2.06 2.06-.94-2.06-.94-.94-2.06-.94 2.06-2.06.94z\"/><path d=\"M17.41 7.96l-1.37-1.37c-.4-.4-.92-.59-1.43-.59-.52 0-1.04.2-1.43.59L10.3 9.45l-7.72 7.72c-.78.78-.78 2.05 0 2.83L4 21.41c.39.39.9.59 1.41.59.51 0 1.02-.2 1.41-.59l7.78-7.78 2.81-2.81c.8-.78.8-2.07 0-2.86zM5.41 20L4 18.59l7.72-7.72 1.47 1.35L5.41 20z\"/>\n",
              "  </svg>\n",
              "      </button>\n",
              "      \n",
              "  <style>\n",
              "    .colab-df-container {\n",
              "      display:flex;\n",
              "      flex-wrap:wrap;\n",
              "      gap: 12px;\n",
              "    }\n",
              "\n",
              "    .colab-df-convert {\n",
              "      background-color: #E8F0FE;\n",
              "      border: none;\n",
              "      border-radius: 50%;\n",
              "      cursor: pointer;\n",
              "      display: none;\n",
              "      fill: #1967D2;\n",
              "      height: 32px;\n",
              "      padding: 0 0 0 0;\n",
              "      width: 32px;\n",
              "    }\n",
              "\n",
              "    .colab-df-convert:hover {\n",
              "      background-color: #E2EBFA;\n",
              "      box-shadow: 0px 1px 2px rgba(60, 64, 67, 0.3), 0px 1px 3px 1px rgba(60, 64, 67, 0.15);\n",
              "      fill: #174EA6;\n",
              "    }\n",
              "\n",
              "    [theme=dark] .colab-df-convert {\n",
              "      background-color: #3B4455;\n",
              "      fill: #D2E3FC;\n",
              "    }\n",
              "\n",
              "    [theme=dark] .colab-df-convert:hover {\n",
              "      background-color: #434B5C;\n",
              "      box-shadow: 0px 1px 3px 1px rgba(0, 0, 0, 0.15);\n",
              "      filter: drop-shadow(0px 1px 2px rgba(0, 0, 0, 0.3));\n",
              "      fill: #FFFFFF;\n",
              "    }\n",
              "  </style>\n",
              "\n",
              "      <script>\n",
              "        const buttonEl =\n",
              "          document.querySelector('#df-8cdad90e-9f9b-404f-beb8-7552b0086130 button.colab-df-convert');\n",
              "        buttonEl.style.display =\n",
              "          google.colab.kernel.accessAllowed ? 'block' : 'none';\n",
              "\n",
              "        async function convertToInteractive(key) {\n",
              "          const element = document.querySelector('#df-8cdad90e-9f9b-404f-beb8-7552b0086130');\n",
              "          const dataTable =\n",
              "            await google.colab.kernel.invokeFunction('convertToInteractive',\n",
              "                                                     [key], {});\n",
              "          if (!dataTable) return;\n",
              "\n",
              "          const docLinkHtml = 'Like what you see? Visit the ' +\n",
              "            '<a target=\"_blank\" href=https://colab.research.google.com/notebooks/data_table.ipynb>data table notebook</a>'\n",
              "            + ' to learn more about interactive tables.';\n",
              "          element.innerHTML = '';\n",
              "          dataTable['output_type'] = 'display_data';\n",
              "          await google.colab.output.renderOutput(dataTable, element);\n",
              "          const docLink = document.createElement('div');\n",
              "          docLink.innerHTML = docLinkHtml;\n",
              "          element.appendChild(docLink);\n",
              "        }\n",
              "      </script>\n",
              "    </div>\n",
              "  </div>\n",
              "  "
            ],
            "text/plain": [
              "                Time            V1  ...         Amount          Class\n",
              "count  284807.000000  2.848070e+05  ...  284807.000000  284807.000000\n",
              "mean    94813.859575  3.919560e-15  ...      88.349619       0.001727\n",
              "std     47488.145955  1.958696e+00  ...     250.120109       0.041527\n",
              "min         0.000000 -5.640751e+01  ...       0.000000       0.000000\n",
              "25%     54201.500000 -9.203734e-01  ...       5.600000       0.000000\n",
              "50%     84692.000000  1.810880e-02  ...      22.000000       0.000000\n",
              "75%    139320.500000  1.315642e+00  ...      77.165000       0.000000\n",
              "max    172792.000000  2.454930e+00  ...   25691.160000       1.000000\n",
              "\n",
              "[8 rows x 31 columns]"
            ]
          },
          "metadata": {},
          "execution_count": 14
        }
      ],
      "source": [
        "dados.describe()"
      ]
    },
    {
      "cell_type": "code",
      "execution_count": 15,
      "metadata": {
        "colab": {
          "base_uri": "https://localhost:8080/"
        },
        "id": "P9_wcAcUAIZG",
        "outputId": "86d092d3-5744-470a-cc3f-2cf5a730e123"
      },
      "outputs": [
        {
          "output_type": "execute_result",
          "data": {
            "text/plain": [
              "count    284807.000000\n",
              "mean         88.349619\n",
              "std         250.120109\n",
              "min           0.000000\n",
              "25%           5.600000\n",
              "50%          22.000000\n",
              "75%          77.165000\n",
              "max       25691.160000\n",
              "Name: Amount, dtype: float64"
            ]
          },
          "metadata": {},
          "execution_count": 15
        }
      ],
      "source": [
        "dados.Amount.describe()"
      ]
    },
    {
      "cell_type": "markdown",
      "metadata": {
        "id": "f0Q6GOab_jqt"
      },
      "source": [
        "A variável `Amount`, que indicado o montante envolvido nas transações, observamos que o valor médio das transações, tanto fraudulentas, quanto genuínas é de 88,34, sendo o valor de 22,00 que divide a amostra ao meio (mediana) e com um desvio padrão de 250,12. Notamos um valor máximo de 25.691,16, candidato a um possível *outlier*. Com isso inferimos que a maioria dos montantes envolvidos é composta por quantias menores."
      ]
    },
    {
      "cell_type": "markdown",
      "metadata": {
        "id": "1wLMaxcrSpie"
      },
      "source": [
        "####  3.1.1  Verificando Missing "
      ]
    },
    {
      "cell_type": "code",
      "execution_count": 16,
      "metadata": {
        "colab": {
          "base_uri": "https://localhost:8080/"
        },
        "id": "ZzJS_t_XEX0X",
        "outputId": "7922442e-2442-4c0f-c032-27ae607d16d7"
      },
      "outputs": [
        {
          "output_type": "execute_result",
          "data": {
            "text/plain": [
              "Time      0.0\n",
              "V1        0.0\n",
              "V2        0.0\n",
              "V3        0.0\n",
              "V4        0.0\n",
              "V5        0.0\n",
              "V6        0.0\n",
              "V7        0.0\n",
              "V8        0.0\n",
              "V9        0.0\n",
              "V10       0.0\n",
              "V11       0.0\n",
              "V12       0.0\n",
              "V13       0.0\n",
              "V14       0.0\n",
              "V15       0.0\n",
              "V16       0.0\n",
              "V17       0.0\n",
              "V18       0.0\n",
              "V19       0.0\n",
              "V20       0.0\n",
              "V21       0.0\n",
              "V22       0.0\n",
              "V23       0.0\n",
              "V24       0.0\n",
              "V25       0.0\n",
              "V26       0.0\n",
              "V27       0.0\n",
              "V28       0.0\n",
              "Amount    0.0\n",
              "Class     0.0\n",
              "dtype: float64"
            ]
          },
          "metadata": {},
          "execution_count": 16
        }
      ],
      "source": [
        "dados.isnull().sum()/dados.shape[0]"
      ]
    },
    {
      "cell_type": "markdown",
      "metadata": {
        "id": "b3NL9R4gFBOJ"
      },
      "source": [
        "Verificamos que os dados não possuem dados ausentes. Demonstra a qualidade dos dados. Cabe ressaltar que na fonte dos dados já nos indicou que os mesmos já haviam passados por uma fase preparação, dado as questões de sigilos. No entanto, é muito comum nos trabalhos de data science lidar com dados ausentes."
      ]
    },
    {
      "cell_type": "markdown",
      "metadata": {
        "id": "X6bEz_E3Spie"
      },
      "source": [
        "\n",
        "#### 3.1.2 Var_Explanatória e Var_Target"
      ]
    },
    {
      "cell_type": "code",
      "execution_count": 17,
      "metadata": {
        "id": "rA2hmOPiBGta"
      },
      "outputs": [],
      "source": [
        "X = dados.drop(columns= 'Class', axis= 1)\n",
        "y = pd.DataFrame(dados.Class)"
      ]
    },
    {
      "cell_type": "code",
      "execution_count": 18,
      "metadata": {
        "colab": {
          "base_uri": "https://localhost:8080/"
        },
        "id": "hctG1TPjKH__",
        "outputId": "518c4cc4-d7d3-4273-ab74-bab2fa43c7d2"
      },
      "outputs": [
        {
          "output_type": "stream",
          "name": "stdout",
          "text": [
            "DataSet original com 31 atributos e 284807 observações\n",
            "As variáveis independentes com 30 atributos e 284807 observações\n",
            "A variável dependente - iremos prever com 1 atributo e 284807 observações\n"
          ]
        }
      ],
      "source": [
        "print('DataSet original com {} atributos e {} observações'.format(dados.shape[1], dados.shape[0]))\n",
        "print('As variáveis independentes com {} atributos e {} observações'.format(X.shape[1], X.shape[0]))\n",
        "print('A variável dependente - iremos prever com {} atributo e {} observações'.format(y.shape[1], y.shape[0]))"
      ]
    },
    {
      "cell_type": "markdown",
      "metadata": {
        "id": "aALMFjaWSpif"
      },
      "source": [
        "####  3.1.3  Análise da Var_Target\n",
        "\n",
        "A variável de interesse é o atributo `Class` do nosso data Set. É a variável que indica se a transação do cartão de crédito foi **genuína** ou se tratava de uma **fraude**. Separamos ela para o objeto `y` (item 3.1.2).\n",
        "As demais variáveis que chamamos de variáveis independentes e as trataremos mais abaixo. Focaremos agora na **variável predita**."
      ]
    },
    {
      "cell_type": "markdown",
      "metadata": {
        "id": "_p6Qhh1USpif"
      },
      "source": [
        "#####  3.1.3.1  Amplitude"
      ]
    },
    {
      "cell_type": "code",
      "execution_count": 19,
      "metadata": {
        "colab": {
          "base_uri": "https://localhost:8080/",
          "height": 300
        },
        "id": "JgCMGyRUM7Nw",
        "outputId": "81b45a4d-c016-4ccf-fd7d-7f39ae8f6dab"
      },
      "outputs": [
        {
          "output_type": "execute_result",
          "data": {
            "text/html": [
              "\n",
              "  <div id=\"df-3231fd44-2b05-4cf2-b706-11e8e175ed28\">\n",
              "    <div class=\"colab-df-container\">\n",
              "      <div>\n",
              "<style scoped>\n",
              "    .dataframe tbody tr th:only-of-type {\n",
              "        vertical-align: middle;\n",
              "    }\n",
              "\n",
              "    .dataframe tbody tr th {\n",
              "        vertical-align: top;\n",
              "    }\n",
              "\n",
              "    .dataframe thead th {\n",
              "        text-align: right;\n",
              "    }\n",
              "</style>\n",
              "<table border=\"1\" class=\"dataframe\">\n",
              "  <thead>\n",
              "    <tr style=\"text-align: right;\">\n",
              "      <th></th>\n",
              "      <th>Class</th>\n",
              "    </tr>\n",
              "  </thead>\n",
              "  <tbody>\n",
              "    <tr>\n",
              "      <th>count</th>\n",
              "      <td>284807.000000</td>\n",
              "    </tr>\n",
              "    <tr>\n",
              "      <th>mean</th>\n",
              "      <td>0.001727</td>\n",
              "    </tr>\n",
              "    <tr>\n",
              "      <th>std</th>\n",
              "      <td>0.041527</td>\n",
              "    </tr>\n",
              "    <tr>\n",
              "      <th>min</th>\n",
              "      <td>0.000000</td>\n",
              "    </tr>\n",
              "    <tr>\n",
              "      <th>25%</th>\n",
              "      <td>0.000000</td>\n",
              "    </tr>\n",
              "    <tr>\n",
              "      <th>50%</th>\n",
              "      <td>0.000000</td>\n",
              "    </tr>\n",
              "    <tr>\n",
              "      <th>75%</th>\n",
              "      <td>0.000000</td>\n",
              "    </tr>\n",
              "    <tr>\n",
              "      <th>max</th>\n",
              "      <td>1.000000</td>\n",
              "    </tr>\n",
              "  </tbody>\n",
              "</table>\n",
              "</div>\n",
              "      <button class=\"colab-df-convert\" onclick=\"convertToInteractive('df-3231fd44-2b05-4cf2-b706-11e8e175ed28')\"\n",
              "              title=\"Convert this dataframe to an interactive table.\"\n",
              "              style=\"display:none;\">\n",
              "        \n",
              "  <svg xmlns=\"http://www.w3.org/2000/svg\" height=\"24px\"viewBox=\"0 0 24 24\"\n",
              "       width=\"24px\">\n",
              "    <path d=\"M0 0h24v24H0V0z\" fill=\"none\"/>\n",
              "    <path d=\"M18.56 5.44l.94 2.06.94-2.06 2.06-.94-2.06-.94-.94-2.06-.94 2.06-2.06.94zm-11 1L8.5 8.5l.94-2.06 2.06-.94-2.06-.94L8.5 2.5l-.94 2.06-2.06.94zm10 10l.94 2.06.94-2.06 2.06-.94-2.06-.94-.94-2.06-.94 2.06-2.06.94z\"/><path d=\"M17.41 7.96l-1.37-1.37c-.4-.4-.92-.59-1.43-.59-.52 0-1.04.2-1.43.59L10.3 9.45l-7.72 7.72c-.78.78-.78 2.05 0 2.83L4 21.41c.39.39.9.59 1.41.59.51 0 1.02-.2 1.41-.59l7.78-7.78 2.81-2.81c.8-.78.8-2.07 0-2.86zM5.41 20L4 18.59l7.72-7.72 1.47 1.35L5.41 20z\"/>\n",
              "  </svg>\n",
              "      </button>\n",
              "      \n",
              "  <style>\n",
              "    .colab-df-container {\n",
              "      display:flex;\n",
              "      flex-wrap:wrap;\n",
              "      gap: 12px;\n",
              "    }\n",
              "\n",
              "    .colab-df-convert {\n",
              "      background-color: #E8F0FE;\n",
              "      border: none;\n",
              "      border-radius: 50%;\n",
              "      cursor: pointer;\n",
              "      display: none;\n",
              "      fill: #1967D2;\n",
              "      height: 32px;\n",
              "      padding: 0 0 0 0;\n",
              "      width: 32px;\n",
              "    }\n",
              "\n",
              "    .colab-df-convert:hover {\n",
              "      background-color: #E2EBFA;\n",
              "      box-shadow: 0px 1px 2px rgba(60, 64, 67, 0.3), 0px 1px 3px 1px rgba(60, 64, 67, 0.15);\n",
              "      fill: #174EA6;\n",
              "    }\n",
              "\n",
              "    [theme=dark] .colab-df-convert {\n",
              "      background-color: #3B4455;\n",
              "      fill: #D2E3FC;\n",
              "    }\n",
              "\n",
              "    [theme=dark] .colab-df-convert:hover {\n",
              "      background-color: #434B5C;\n",
              "      box-shadow: 0px 1px 3px 1px rgba(0, 0, 0, 0.15);\n",
              "      filter: drop-shadow(0px 1px 2px rgba(0, 0, 0, 0.3));\n",
              "      fill: #FFFFFF;\n",
              "    }\n",
              "  </style>\n",
              "\n",
              "      <script>\n",
              "        const buttonEl =\n",
              "          document.querySelector('#df-3231fd44-2b05-4cf2-b706-11e8e175ed28 button.colab-df-convert');\n",
              "        buttonEl.style.display =\n",
              "          google.colab.kernel.accessAllowed ? 'block' : 'none';\n",
              "\n",
              "        async function convertToInteractive(key) {\n",
              "          const element = document.querySelector('#df-3231fd44-2b05-4cf2-b706-11e8e175ed28');\n",
              "          const dataTable =\n",
              "            await google.colab.kernel.invokeFunction('convertToInteractive',\n",
              "                                                     [key], {});\n",
              "          if (!dataTable) return;\n",
              "\n",
              "          const docLinkHtml = 'Like what you see? Visit the ' +\n",
              "            '<a target=\"_blank\" href=https://colab.research.google.com/notebooks/data_table.ipynb>data table notebook</a>'\n",
              "            + ' to learn more about interactive tables.';\n",
              "          element.innerHTML = '';\n",
              "          dataTable['output_type'] = 'display_data';\n",
              "          await google.colab.output.renderOutput(dataTable, element);\n",
              "          const docLink = document.createElement('div');\n",
              "          docLink.innerHTML = docLinkHtml;\n",
              "          element.appendChild(docLink);\n",
              "        }\n",
              "      </script>\n",
              "    </div>\n",
              "  </div>\n",
              "  "
            ],
            "text/plain": [
              "               Class\n",
              "count  284807.000000\n",
              "mean        0.001727\n",
              "std         0.041527\n",
              "min         0.000000\n",
              "25%         0.000000\n",
              "50%         0.000000\n",
              "75%         0.000000\n",
              "max         1.000000"
            ]
          },
          "metadata": {},
          "execution_count": 19
        }
      ],
      "source": [
        "y.describe()"
      ]
    },
    {
      "cell_type": "code",
      "execution_count": 20,
      "metadata": {
        "colab": {
          "base_uri": "https://localhost:8080/"
        },
        "id": "jMen8xTy0Q6R",
        "outputId": "770c718d-868e-4135-d01d-006251b24167"
      },
      "outputs": [
        {
          "output_type": "execute_result",
          "data": {
            "text/plain": [
              "Class    2\n",
              "dtype: int64"
            ]
          },
          "metadata": {},
          "execution_count": 20
        }
      ],
      "source": [
        "y.nunique()"
      ]
    },
    {
      "cell_type": "markdown",
      "metadata": {
        "id": "_GjRXkJPOfY_"
      },
      "source": [
        "Observando os valores `max` 1 e o valor `min` 0, bem como o resultado da função `nunique` indica que variável target é do tipo categórica e possui 2 categorias: 0 = transação genuína, 1 = transação fraudulenta. Estamos diante de um problema de aprendizado supervisionado do tipo **classificação**."
      ]
    },
    {
      "cell_type": "markdown",
      "metadata": {
        "id": "TucBuPACSpif"
      },
      "source": [
        "#####  3.1.3.2  Balanceamento dados\n",
        "Em problemas de classificação pode ser necessário balancear as classes. Classes desbalanceadas (ou seja, volume maior de um dos tipos das classes) são comuns e precisam ser tratadas durante a fase de pré-processamento. Podemos ver abaixo que existe uma clara desproporção entre as classes 0 (genuína) e 1 (fraude)."
      ]
    },
    {
      "cell_type": "code",
      "execution_count": 21,
      "metadata": {
        "colab": {
          "base_uri": "https://localhost:8080/"
        },
        "id": "egkh_uf20-JQ",
        "outputId": "29bba740-c183-4cff-9b5d-59dacb738cf9"
      },
      "outputs": [
        {
          "output_type": "execute_result",
          "data": {
            "text/plain": [
              "Class\n",
              "0        284315\n",
              "1           492\n",
              "dtype: int64"
            ]
          },
          "metadata": {},
          "execution_count": 21
        }
      ],
      "source": [
        "y.value_counts()"
      ]
    },
    {
      "cell_type": "code",
      "execution_count": 22,
      "metadata": {
        "colab": {
          "base_uri": "https://localhost:8080/"
        },
        "id": "nFpAB0KX50dO",
        "outputId": "7c038a95-3757-4fff-dcee-e13773d5d3ca"
      },
      "outputs": [
        {
          "output_type": "stream",
          "name": "stdout",
          "text": [
            "\n",
            "Transações fraudulentas representam 0.1727% do dataSet\n",
            "Enquanto transações genuínas são 99.8273% dos dados.\n",
            "\n"
          ]
        }
      ],
      "source": [
        "print(\"\\nTransações fraudulentas representam {:.4f}% do dataSet\".format((dados[dados.Class==1].shape[0]/dados.shape[0])*100))\n",
        "print(\"Enquanto transações genuínas são {:.4f}% dos dados.\\n\".format((dados[dados.Class==0].shape[0]/dados.shape[0])*100))"
      ]
    },
    {
      "cell_type": "markdown",
      "metadata": {
        "id": "AVddyK80Spig"
      },
      "source": [
        "#####  3.1.3.3  Plots Var_Target"
      ]
    },
    {
      "cell_type": "code",
      "execution_count": 23,
      "metadata": {
        "colab": {
          "base_uri": "https://localhost:8080/"
        },
        "id": "s0eW1mgZOJZ3",
        "outputId": "9273398d-0d9b-411e-a30a-578d00db1b5c"
      },
      "outputs": [
        {
          "output_type": "stream",
          "name": "stdout",
          "text": [
            "Class    0.172749\n",
            "dtype: float64\n"
          ]
        },
        {
          "output_type": "execute_result",
          "data": {
            "text/plain": [
              "0.173"
            ]
          },
          "metadata": {},
          "execution_count": 23
        }
      ],
      "source": [
        "print((y.loc[y.Class == 1].sum() / y.shape[0])*100)\n",
        "pct_class = round((dados.Class.sum()/dados.shape[0])*100, 3)\n",
        "pct_class"
      ]
    },
    {
      "cell_type": "code",
      "execution_count": 24,
      "metadata": {
        "colab": {
          "base_uri": "https://localhost:8080/",
          "height": 477
        },
        "id": "x_NJchIr7QNq",
        "outputId": "46087be2-2250-470c-b207-534b1d089d8c"
      },
      "outputs": [
        {
          "output_type": "stream",
          "name": "stdout",
          "text": [
            "Class\n",
            "0        284315\n",
            "1           492\n",
            "dtype: int64\n"
          ]
        },
        {
          "output_type": "display_data",
          "data": {
            "image/png": "[encoded data removed]",
            "text/plain": [
              "<Figure size 648x432 with 1 Axes>"
            ]
          },
          "metadata": {
            "needs_background": "light"
          }
        }
      ],
      "source": [
        "print(y.value_counts())\n",
        "fig, ax = plt.subplots(figsize= (9,6), dpi= 72)\n",
        "sns.countplot('Class', data= y, palette= 'Blues', ax= ax)\n",
        "ax.set_title('Distribuição das classes')\n",
        "plt.annotate(str(pct_class)+\" %\", xy=(0.9 , 15000), xytext=(0.9, 8000), size=12)\n",
        "plt.ylabel(\"Quantidade\")\n",
        "plt.xlabel(\"Classificação\")\n",
        "plt.xticks([0,1], ['Genuína', 'Fraude'])\n",
        "ax.spines['right'].set_visible(False)\n",
        "ax.spines['top'].set_visible(False)\n",
        "plt.show()"
      ]
    },
    {
      "cell_type": "markdown",
      "metadata": {
        "id": "iDPG0XGauYbY"
      },
      "source": [
        "A variável *target* possui apenas 0,17% de representação em todo nosso dataSet. Esse percentual de `transações fraudulentas` é bem menor que o de `transações genuínas`. Quando alguma categoria é muito rara, menor que 5%, é recomendado realizar o balanceamento de classes. Nesse caso será necessário."
      ]
    },
    {
      "cell_type": "markdown",
      "metadata": {
        "id": "wH1sr1UUSpih"
      },
      "source": [
        "##### 3.1.3.4 Relações Var_target"
      ]
    },
    {
      "cell_type": "markdown",
      "metadata": {
        "id": "chI9hCuGZwZX"
      },
      "source": [
        "###### a) Variável `Time`\n",
        "\n",
        "Representa o número de segundos decorridos entre esta transação e a primeira transação no conjunto de dados"
      ]
    },
    {
      "cell_type": "code",
      "execution_count": 25,
      "metadata": {
        "colab": {
          "base_uri": "https://localhost:8080/",
          "height": 441
        },
        "id": "l3e64N6gXQom",
        "outputId": "efc4fa2c-77c9-4f1f-e837-aa40938aa6e4"
      },
      "outputs": [
        {
          "output_type": "display_data",
          "data": {
            "image/png": "[encoded data removed]",
            "text/plain": [
              "<Figure size 936x432 with 2 Axes>"
            ]
          },
          "metadata": {
            "needs_background": "light"
          }
        }
      ],
      "source": [
        "fig, (ax1, ax2) = plt.subplots(nrows= 2, ncols= 1, figsize= (13,6))\n",
        "\n",
        "dados.Time.loc[dados.Class == 1].plot(kind= 'hist', ax= ax1, label= 'Fraude', color= '#1C5FB8', bins= 40)\n",
        "ax1.legend()\n",
        "ax1.set_ylabel('Transações')\n",
        "dados.Time.loc[dados.Class == 0].plot(kind= 'hist', ax= ax2, label= 'Genuína', color= '#6BA4EE', bins= 40)\n",
        "ax2.legend()\n",
        "ax1.set_title('Distruibuição por tempo')\n",
        "plt.xlabel('Tempo (segundos)')\n",
        "plt.ylabel('Transações')\n",
        "plt.tight_layout()"
      ]
    },
    {
      "cell_type": "markdown",
      "metadata": {
        "id": "k9mTN_gwDYZG"
      },
      "source": [
        "Ao longo da dimensão `Time`, atributo que indica o tempo em segundos da 1ª transação monitorada até o momento do acontecimento, entretanto não conseguimos inferir nenhuma informação a partir da distribuição do tempo e tipo de transação."
      ]
    },
    {
      "cell_type": "markdown",
      "metadata": {
        "id": "zkmpDgD6aGCD"
      },
      "source": [
        "###### b) Variável `Amount`\n",
        "Nos informa os valores das transações, separando pela descrição do tipo da transação, temos:"
      ]
    },
    {
      "cell_type": "code",
      "execution_count": 26,
      "metadata": {
        "colab": {
          "base_uri": "https://localhost:8080/",
          "height": 441
        },
        "id": "e5oaWBYHXRC7",
        "outputId": "d0e93310-dc84-4f53-9fbf-a54776acb98d"
      },
      "outputs": [
        {
          "output_type": "display_data",
          "data": {
            "image/png": "[encoded data removed]",
            "text/plain": [
              "<Figure size 936x432 with 2 Axes>"
            ]
          },
          "metadata": {
            "needs_background": "light"
          }
        }
      ],
      "source": [
        "fig, (ax1, ax2) = plt.subplots(nrows= 2, ncols= 1, figsize= (13,6))\n",
        "\n",
        "dados.Amount.loc[dados.Class == 1].plot(kind= 'hist', ax= ax1, label= 'Fraude', color= '#1C5FB8')\n",
        "ax1.legend()\n",
        "dados.Amount.loc[dados.Class == 0].plot(kind= 'hist', ax= ax2, label= 'Genuína', color= '#6BA4EE')\n",
        "ax2.legend()\n",
        "plt.title('Distruibuição por valor')\n",
        "plt.tight_layout()"
      ]
    },
    {
      "cell_type": "markdown",
      "metadata": {
        "id": "LYQIcucPiX23"
      },
      "source": [
        "Quando **genuína**:"
      ]
    },
    {
      "cell_type": "code",
      "execution_count": 27,
      "metadata": {
        "colab": {
          "base_uri": "https://localhost:8080/"
        },
        "id": "Pux-IC2bN7hm",
        "outputId": "38883269-4a95-4f26-ab11-05605a0fb394"
      },
      "outputs": [
        {
          "output_type": "execute_result",
          "data": {
            "text/plain": [
              "count    284315.000000\n",
              "mean         88.291022\n",
              "std         250.105092\n",
              "min           0.000000\n",
              "25%           5.650000\n",
              "50%          22.000000\n",
              "75%          77.050000\n",
              "max       25691.160000\n",
              "Name: Amount, dtype: float64"
            ]
          },
          "metadata": {},
          "execution_count": 27
        }
      ],
      "source": [
        "dados.Amount.loc[dados.Class==0].describe()"
      ]
    },
    {
      "cell_type": "markdown",
      "metadata": {
        "id": "T3U43TbmOT5S"
      },
      "source": [
        "Observamos que 75% dos dados estão entre o valor de 0,00 à 77,05. Analisando os restantes 25% dos dados genuínos."
      ]
    },
    {
      "cell_type": "code",
      "execution_count": 28,
      "metadata": {
        "colab": {
          "base_uri": "https://localhost:8080/"
        },
        "id": "GRYzFjdcOScp",
        "outputId": "ed4de9db-dd51-4b06-e7ed-06ac61b82ba5"
      },
      "outputs": [
        {
          "output_type": "execute_result",
          "data": {
            "text/plain": [
              "count    71062.000000\n",
              "mean       294.640875\n",
              "std        438.512600\n",
              "min         77.060000\n",
              "25%        108.240000\n",
              "50%        165.000000\n",
              "75%        303.800000\n",
              "max      25691.160000\n",
              "Name: Amount, dtype: float64"
            ]
          },
          "metadata": {},
          "execution_count": 28
        }
      ],
      "source": [
        "seletor = (dados.Class==0) & (dados.Amount > 77.05)\n",
        "dados['Amount'][seletor].describe()"
      ]
    },
    {
      "cell_type": "markdown",
      "metadata": {
        "id": "TV74me1FWleC"
      },
      "source": [
        "Podemos verificar que cerca de 93% dos valores das transações genuínas etão abaixo do valor de 303,80."
      ]
    },
    {
      "cell_type": "code",
      "execution_count": 29,
      "metadata": {
        "colab": {
          "base_uri": "https://localhost:8080/",
          "height": 284
        },
        "id": "dFAT9ausQ_pG",
        "outputId": "944829d9-b1e9-4bee-e35a-9ce9a257144f"
      },
      "outputs": [
        {
          "output_type": "display_data",
          "data": {
            "image/png": "[encoded data removed]",
            "text/plain": [
              "<Figure size 432x288 with 1 Axes>"
            ]
          },
          "metadata": {
            "needs_background": "light"
          }
        }
      ],
      "source": [
        "sns.boxplot(x= 'Class', y= 'Amount', data= dados.loc[dados.Class==0])\n",
        "plt.ylim((-200,800))\n",
        "plt.xticks([0],['genuína']);"
      ]
    },
    {
      "cell_type": "markdown",
      "metadata": {
        "id": "0skLMq8djD53"
      },
      "source": [
        "Quando **fraudulenta**:"
      ]
    },
    {
      "cell_type": "code",
      "execution_count": 30,
      "metadata": {
        "colab": {
          "base_uri": "https://localhost:8080/"
        },
        "id": "RnvTTGzMnxSu",
        "outputId": "4669b3b8-510c-47c2-9bd6-a96f2994600d"
      },
      "outputs": [
        {
          "output_type": "execute_result",
          "data": {
            "text/plain": [
              "count     492.000000\n",
              "mean      122.211321\n",
              "std       256.683288\n",
              "min         0.000000\n",
              "25%         1.000000\n",
              "50%         9.250000\n",
              "75%       105.890000\n",
              "max      2125.870000\n",
              "Name: Amount, dtype: float64"
            ]
          },
          "metadata": {},
          "execution_count": 30
        }
      ],
      "source": [
        "dados.Amount.loc[dados.Class==1].describe()"
      ]
    },
    {
      "cell_type": "code",
      "execution_count": 31,
      "metadata": {
        "colab": {
          "base_uri": "https://localhost:8080/",
          "height": 262
        },
        "id": "83C1ZIqQaFez",
        "outputId": "0fbc537e-add8-451d-92bd-7e604180a872"
      },
      "outputs": [
        {
          "output_type": "display_data",
          "data": {
            "image/png": "[encoded data removed]",
            "text/plain": [
              "<Figure size 432x288 with 1 Axes>"
            ]
          },
          "metadata": {
            "needs_background": "light"
          }
        }
      ],
      "source": [
        "sns.boxplot(x= 'Class', y= 'Amount', data= dados.loc[dados.Class==1])\n",
        "plt.ylim((-100,1500))\n",
        "plt.xticks([1], ['fraude']);"
      ]
    },
    {
      "cell_type": "markdown",
      "metadata": {
        "id": "xjxBfN-pRLx1"
      },
      "source": [
        "Existe diferenças no padrão transações em relação ao atributo `Amount`.Tal distribuição diferente para as duas classes provavelmente irá contribuir para o treinamento do modelo de machine learning."
      ]
    },
    {
      "cell_type": "code",
      "execution_count": 32,
      "metadata": {
        "colab": {
          "base_uri": "https://localhost:8080/",
          "height": 284
        },
        "id": "k86x_ZqTaFQL",
        "outputId": "5ec0722a-5a60-403c-f535-a678c3638745"
      },
      "outputs": [
        {
          "output_type": "display_data",
          "data": {
            "image/png": "[encoded data removed]",
            "text/plain": [
              "<Figure size 432x288 with 1 Axes>"
            ]
          },
          "metadata": {
            "needs_background": "light"
          }
        }
      ],
      "source": [
        "sns.boxplot(x= 'Class', y= 'Amount', data= dados, showmeans= True)\n",
        "plt.ylim((-20,400))\n",
        "plt.xticks([0,1], ['genuína', 'fraude']);"
      ]
    },
    {
      "cell_type": "markdown",
      "metadata": {
        "id": "vbq6BEVfSpih"
      },
      "source": [
        "#####  3.1.3.5  Distribuição Dados"
      ]
    },
    {
      "cell_type": "markdown",
      "metadata": {
        "id": "CfxHBV3pwUkx"
      },
      "source": [
        "Distribuição geral dos dados, temos:"
      ]
    },
    {
      "cell_type": "code",
      "execution_count": 33,
      "metadata": {
        "colab": {
          "base_uri": "https://localhost:8080/",
          "height": 1000
        },
        "id": "ESXCstmBXRSt",
        "outputId": "f8977aa6-dddc-48cc-c359-0dc59d12e90b"
      },
      "outputs": [
        {
          "output_type": "display_data",
          "data": {
            "image/png": "[encoded data removed]",
            "text/plain": [
              "<Figure size 1296x1296 with 36 Axes>"
            ]
          },
          "metadata": {
            "needs_background": "light"
          }
        }
      ],
      "source": [
        "plt.rcParams['figure.figsize']= (18,18)\n",
        "dados.hist()\n",
        "plt.tight_layout()"
      ]
    },
    {
      "cell_type": "markdown",
      "metadata": {
        "id": "k6FJonhnSZDx"
      },
      "source": [
        "Um gráfico de densidade é muito útil para verificar como se comporta as distribuições de cada variável, segregada por classe, afim de detectar possíveis anomalias, bem como qual atributo possuem distribuições que diferem uma da outra, permitindo identificar as **classes positivas** (fraudes, nesse caso) mais facilmente."
      ]
    },
    {
      "cell_type": "code",
      "execution_count": 34,
      "metadata": {
        "colab": {
          "base_uri": "https://localhost:8080/",
          "height": 1000
        },
        "id": "l8FGYTF3ogeI",
        "outputId": "a0fb4b54-e40e-478c-9ecd-f143d8365c7b"
      },
      "outputs": [
        {
          "output_type": "display_data",
          "data": {
            "image/png": "[encoded data removed]",
            "text/plain": [
              "<Figure size 1368x1368 with 28 Axes>"
            ]
          },
          "metadata": {
            "needs_background": "light"
          }
        }
      ],
      "source": [
        "from IPython.core.pylabtools import figsize\n",
        "# indicando quais colunas serão plotados e quantos plots teremos\n",
        "colunas_grf = dados.drop(['Time', 'Amount', 'Class'], axis=1).columns\n",
        "qtd_plots = len(colunas_grf)\n",
        "\n",
        "# separar dados em fraude e genuíno\n",
        "dados_genuino = dados[dados.Class == 0]\n",
        "dados_fraude = dados[dados.Class == 1]\n",
        "\n",
        "# espaço do plot\n",
        "fig, ax = plt.subplots(nrows= 7, ncols= 4, figsize= (19,19))\n",
        "fig.subplots_adjust(hspace=1, wspace=1)\n",
        "\n",
        "# plot\n",
        "index= 0\n",
        "for coluna in colunas_grf:\n",
        "  index += 1\n",
        "  plt.subplot(7,4, index)\n",
        "  sns.kdeplot(dados_genuino[coluna], label= 'genuíno', shade= True)\n",
        "  sns.kdeplot(dados_fraude[coluna], label= 'fraude', shade= True)\n",
        "  plt.title(coluna, fontsize= 10)\n",
        "  plt.legend()\n",
        "plt.tight_layout()"
      ]
    },
    {
      "cell_type": "markdown",
      "metadata": {
        "id": "xfLjoDX-vPe8"
      },
      "source": [
        "Com isso podemos inferir que os atributos `V3`, `V4`, `V11` e `V12` podem ter possível poder preditivo em separar uma transação fraudulenta de uma genuína."
      ]
    },
    {
      "cell_type": "markdown",
      "metadata": {
        "id": "oc8_8EzxSpih"
      },
      "source": [
        "####  3.1.4  Análise da Var_Explanatória"
      ]
    },
    {
      "cell_type": "code",
      "execution_count": 35,
      "metadata": {
        "colab": {
          "base_uri": "https://localhost:8080/",
          "height": 1000
        },
        "id": "P-m-1iWj1-Db",
        "outputId": "34e4efe4-415e-4285-af4b-3d28893346fd"
      },
      "outputs": [
        {
          "output_type": "display_data",
          "data": {
            "image/png": "[encoded data removed]",
            "text/plain": [
              "<Figure size 1296x1296 with 30 Axes>"
            ]
          },
          "metadata": {
            "needs_background": "light"
          }
        }
      ],
      "source": [
        "plt.rcParams['figure.figsize']= (18,18)\n",
        "X.hist()\n",
        "plt.tight_layout()"
      ]
    },
    {
      "cell_type": "markdown",
      "metadata": {
        "id": "EfxhOgIa0KVo"
      },
      "source": [
        "Vizualizando as variáveis explanatórias, observamos que os atributos `Time` e  `Amount`, não tiveram as mesmas transformações que as demais. Isso se dá pelo fato de que as demais variáveis explanatórias `V1` a `V28` são resultados de componentes principais, transformadas pela técnica conhecida como PCA (Principal Component Analysis), como já discorrido no início do notebook, de certa forma (i) tornou os dados anonimizados e (ii) colocou-os em um formato padronizados."
      ]
    },
    {
      "cell_type": "markdown",
      "metadata": {
        "id": "rVKm26BCSpij"
      },
      "source": [
        "###### 3.1.4.2.1 Correlação Atributos\n",
        "\n",
        "Abaixo apresentamos uma matrix de correlação com o dataSet sem nenhum pré-processamento. A propósito, a matriz de correlação buscar identificar a força na relação entre dois atributos."
      ]
    },
    {
      "cell_type": "code",
      "execution_count": 36,
      "metadata": {
        "colab": {
          "base_uri": "https://localhost:8080/",
          "height": 1000
        },
        "id": "D4WrdCSUiSTa",
        "outputId": "963c1a48-3108-4502-bc16-f657730e7936"
      },
      "outputs": [
        {
          "output_type": "display_data",
          "data": {
            "image/png": "[encoded data removed]",
            "text/plain": [
              "<Figure size 1296x1296 with 2 Axes>"
            ]
          },
          "metadata": {
            "needs_background": "light"
          }
        }
      ],
      "source": [
        "sns.heatmap(X.corr(),annot = False, cmap=\"coolwarm\")\n",
        "plt.title(\"Matriz de correlação dos dados\",fontsize= 15)\n",
        "plt.show()"
      ]
    },
    {
      "cell_type": "markdown",
      "metadata": {
        "id": "DfOfc7D-424l"
      },
      "source": [
        "Nesta fase de análise exploratória dos dados podemos verificar que:\n",
        "\n",
        "\n",
        "1.   A classe positiva (não relacione o sentido da palavra \"positivo\" com o objetivo do projeto, que é dectar fraude) encontra-se com baixíssima ocorrência no dataSet, mostrando um possível desbalanceamento dos dados. A classe fraudulenta representa 0,17% do total de entradas.\n",
        "1.   Os dados não possuem dados *Missing's*. (Cabe ressaltar que os dados já estavam bem estruturados, na maioria dos casos encontamos dados nulos que devem ser tratados na fasé de pré-processamento)\n",
        "2.   Os atributos, ao serem anonimizados pela técnica de PCA, assume-se a premissa que foram padronizadas.\n",
        "2.   Ao passo que, as colunas `Time` e `Amount` não estão padronizados, como as demais *features*\n"
      ]
    },
    {
      "cell_type": "markdown",
      "metadata": {
        "id": "0ZY5MOQISpim"
      },
      "source": [
        "## **4. Pré-Processamento dados**\n",
        "Muitos algoritmos esperam receber os dados em um formato específico. É seu trabalho preparar os dados em uma estrutura que seja adequada ao algoritmo que você está utilizando.\n",
        "É muito provável que você tenha que realizar tarefas de **pré-processamento** nos dados. Esse é um passo extremamente necessário dentro do processo.\n",
        "\n",
        "O desafio é o fato que cada algoritmo requer uma estrutura diferente, o que pode requerer transformações diferentes nos dados. Mas é possível em alguns casos, obter bons resultados sem um trabalho de pré-processamento. Mas, é uma boa prática criar diferentes visões e transformações dos dados, de modo a poder testar diferentes algoritmos de Machine Learning. ***Testar é o lado divertido de Ciência de dados!!***"
      ]
    },
    {
      "cell_type": "markdown",
      "metadata": {
        "id": "xE5pF32ESpio"
      },
      "source": [
        "### 4.1 Feature Scaling"
      ]
    },
    {
      "cell_type": "markdown",
      "metadata": {
        "id": "1ANSHk8OSpi1"
      },
      "source": [
        "#### 4.1.1 Padronização\n",
        "técnicas: from sklearn.preprocessing import\n",
        "* (i) StandardScaler\n",
        "\n",
        "Útil para algorítimos que  pressupõem  uma  distribuição  gaussiana  nas variáveis de entrada e funcionam melhor com dados reescalonados, como regressão linear, regressão logística e análise discriminante linear. Padronização é a técnica para transformar os atributos com distribuição Gaussiana (normal) e diferentes médias e desvios padrão em uma distribuição Gaussiana com a média igual a 0 e desvio padrão igual a 1."
      ]
    },
    {
      "cell_type": "markdown",
      "metadata": {
        "id": "JNFiK15WU6jy"
      },
      "source": [
        "`Time` e `Amount`\n",
        "\n",
        "Para esta etapa, uma vez que a coluna `Amount` possui *outliers* será usada a padronização por meio da classe `StandardScaler`."
      ]
    },
    {
      "cell_type": "code",
      "execution_count": 37,
      "metadata": {
        "colab": {
          "base_uri": "https://localhost:8080/",
          "height": 270
        },
        "id": "c_oMNq8UTZqo",
        "outputId": "813f3be0-da1e-46c4-b5e6-ebf03733604f"
      },
      "outputs": [
        {
          "output_type": "execute_result",
          "data": {
            "text/html": [
              "\n",
              "  <div id=\"df-aebd659c-6e47-4ab5-93f9-5933a6a15453\">\n",
              "    <div class=\"colab-df-container\">\n",
              "      <div>\n",
              "<style scoped>\n",
              "    .dataframe tbody tr th:only-of-type {\n",
              "        vertical-align: middle;\n",
              "    }\n",
              "\n",
              "    .dataframe tbody tr th {\n",
              "        vertical-align: top;\n",
              "    }\n",
              "\n",
              "    .dataframe thead th {\n",
              "        text-align: right;\n",
              "    }\n",
              "</style>\n",
              "<table border=\"1\" class=\"dataframe\">\n",
              "  <thead>\n",
              "    <tr style=\"text-align: right;\">\n",
              "      <th></th>\n",
              "      <th>V1</th>\n",
              "      <th>V2</th>\n",
              "      <th>V3</th>\n",
              "      <th>V4</th>\n",
              "      <th>V5</th>\n",
              "      <th>V6</th>\n",
              "      <th>V7</th>\n",
              "      <th>V8</th>\n",
              "      <th>V9</th>\n",
              "      <th>V10</th>\n",
              "      <th>V11</th>\n",
              "      <th>V12</th>\n",
              "      <th>V13</th>\n",
              "      <th>V14</th>\n",
              "      <th>V15</th>\n",
              "      <th>V16</th>\n",
              "      <th>V17</th>\n",
              "      <th>V18</th>\n",
              "      <th>V19</th>\n",
              "      <th>V20</th>\n",
              "      <th>V21</th>\n",
              "      <th>V22</th>\n",
              "      <th>V23</th>\n",
              "      <th>V24</th>\n",
              "      <th>V25</th>\n",
              "      <th>V26</th>\n",
              "      <th>V27</th>\n",
              "      <th>V28</th>\n",
              "      <th>Class</th>\n",
              "      <th>Time_std</th>\n",
              "      <th>Amount_std</th>\n",
              "    </tr>\n",
              "  </thead>\n",
              "  <tbody>\n",
              "    <tr>\n",
              "      <th>0</th>\n",
              "      <td>-1.359807</td>\n",
              "      <td>-0.072781</td>\n",
              "      <td>2.536347</td>\n",
              "      <td>1.378155</td>\n",
              "      <td>-0.338321</td>\n",
              "      <td>0.462388</td>\n",
              "      <td>0.239599</td>\n",
              "      <td>0.098698</td>\n",
              "      <td>0.363787</td>\n",
              "      <td>0.090794</td>\n",
              "      <td>-0.551600</td>\n",
              "      <td>-0.617801</td>\n",
              "      <td>-0.991390</td>\n",
              "      <td>-0.311169</td>\n",
              "      <td>1.468177</td>\n",
              "      <td>-0.470401</td>\n",
              "      <td>0.207971</td>\n",
              "      <td>0.025791</td>\n",
              "      <td>0.403993</td>\n",
              "      <td>0.251412</td>\n",
              "      <td>-0.018307</td>\n",
              "      <td>0.277838</td>\n",
              "      <td>-0.110474</td>\n",
              "      <td>0.066928</td>\n",
              "      <td>0.128539</td>\n",
              "      <td>-0.189115</td>\n",
              "      <td>0.133558</td>\n",
              "      <td>-0.021053</td>\n",
              "      <td>0</td>\n",
              "      <td>-1.997399</td>\n",
              "      <td>0.246341</td>\n",
              "    </tr>\n",
              "    <tr>\n",
              "      <th>1</th>\n",
              "      <td>1.191857</td>\n",
              "      <td>0.266151</td>\n",
              "      <td>0.166480</td>\n",
              "      <td>0.448154</td>\n",
              "      <td>0.060018</td>\n",
              "      <td>-0.082361</td>\n",
              "      <td>-0.078803</td>\n",
              "      <td>0.085102</td>\n",
              "      <td>-0.255425</td>\n",
              "      <td>-0.166974</td>\n",
              "      <td>1.612727</td>\n",
              "      <td>1.065235</td>\n",
              "      <td>0.489095</td>\n",
              "      <td>-0.143772</td>\n",
              "      <td>0.635558</td>\n",
              "      <td>0.463917</td>\n",
              "      <td>-0.114805</td>\n",
              "      <td>-0.183361</td>\n",
              "      <td>-0.145783</td>\n",
              "      <td>-0.069083</td>\n",
              "      <td>-0.225775</td>\n",
              "      <td>-0.638672</td>\n",
              "      <td>0.101288</td>\n",
              "      <td>-0.339846</td>\n",
              "      <td>0.167170</td>\n",
              "      <td>0.125895</td>\n",
              "      <td>-0.008983</td>\n",
              "      <td>0.014724</td>\n",
              "      <td>0</td>\n",
              "      <td>-1.997399</td>\n",
              "      <td>-0.346945</td>\n",
              "    </tr>\n",
              "    <tr>\n",
              "      <th>2</th>\n",
              "      <td>-1.358354</td>\n",
              "      <td>-1.340163</td>\n",
              "      <td>1.773209</td>\n",
              "      <td>0.379780</td>\n",
              "      <td>-0.503198</td>\n",
              "      <td>1.800499</td>\n",
              "      <td>0.791461</td>\n",
              "      <td>0.247676</td>\n",
              "      <td>-1.514654</td>\n",
              "      <td>0.207643</td>\n",
              "      <td>0.624501</td>\n",
              "      <td>0.066084</td>\n",
              "      <td>0.717293</td>\n",
              "      <td>-0.165946</td>\n",
              "      <td>2.345865</td>\n",
              "      <td>-2.890083</td>\n",
              "      <td>1.109969</td>\n",
              "      <td>-0.121359</td>\n",
              "      <td>-2.261857</td>\n",
              "      <td>0.524980</td>\n",
              "      <td>0.247998</td>\n",
              "      <td>0.771679</td>\n",
              "      <td>0.909412</td>\n",
              "      <td>-0.689281</td>\n",
              "      <td>-0.327642</td>\n",
              "      <td>-0.139097</td>\n",
              "      <td>-0.055353</td>\n",
              "      <td>-0.059752</td>\n",
              "      <td>0</td>\n",
              "      <td>-1.997378</td>\n",
              "      <td>1.171178</td>\n",
              "    </tr>\n",
              "    <tr>\n",
              "      <th>3</th>\n",
              "      <td>-0.966272</td>\n",
              "      <td>-0.185226</td>\n",
              "      <td>1.792993</td>\n",
              "      <td>-0.863291</td>\n",
              "      <td>-0.010309</td>\n",
              "      <td>1.247203</td>\n",
              "      <td>0.237609</td>\n",
              "      <td>0.377436</td>\n",
              "      <td>-1.387024</td>\n",
              "      <td>-0.054952</td>\n",
              "      <td>-0.226487</td>\n",
              "      <td>0.178228</td>\n",
              "      <td>0.507757</td>\n",
              "      <td>-0.287924</td>\n",
              "      <td>-0.631418</td>\n",
              "      <td>-1.059647</td>\n",
              "      <td>-0.684093</td>\n",
              "      <td>1.965775</td>\n",
              "      <td>-1.232622</td>\n",
              "      <td>-0.208038</td>\n",
              "      <td>-0.108300</td>\n",
              "      <td>0.005274</td>\n",
              "      <td>-0.190321</td>\n",
              "      <td>-1.175575</td>\n",
              "      <td>0.647376</td>\n",
              "      <td>-0.221929</td>\n",
              "      <td>0.062723</td>\n",
              "      <td>0.061458</td>\n",
              "      <td>0</td>\n",
              "      <td>-1.997378</td>\n",
              "      <td>0.140872</td>\n",
              "    </tr>\n",
              "    <tr>\n",
              "      <th>4</th>\n",
              "      <td>-1.158233</td>\n",
              "      <td>0.877737</td>\n",
              "      <td>1.548718</td>\n",
              "      <td>0.403034</td>\n",
              "      <td>-0.407193</td>\n",
              "      <td>0.095921</td>\n",
              "      <td>0.592941</td>\n",
              "      <td>-0.270533</td>\n",
              "      <td>0.817739</td>\n",
              "      <td>0.753074</td>\n",
              "      <td>-0.822843</td>\n",
              "      <td>0.538196</td>\n",
              "      <td>1.345852</td>\n",
              "      <td>-1.119670</td>\n",
              "      <td>0.175121</td>\n",
              "      <td>-0.451449</td>\n",
              "      <td>-0.237033</td>\n",
              "      <td>-0.038195</td>\n",
              "      <td>0.803487</td>\n",
              "      <td>0.408542</td>\n",
              "      <td>-0.009431</td>\n",
              "      <td>0.798278</td>\n",
              "      <td>-0.137458</td>\n",
              "      <td>0.141267</td>\n",
              "      <td>-0.206010</td>\n",
              "      <td>0.502292</td>\n",
              "      <td>0.219422</td>\n",
              "      <td>0.215153</td>\n",
              "      <td>0</td>\n",
              "      <td>-1.997357</td>\n",
              "      <td>-0.075195</td>\n",
              "    </tr>\n",
              "  </tbody>\n",
              "</table>\n",
              "</div>\n",
              "      <button class=\"colab-df-convert\" onclick=\"convertToInteractive('df-aebd659c-6e47-4ab5-93f9-5933a6a15453')\"\n",
              "              title=\"Convert this dataframe to an interactive table.\"\n",
              "              style=\"display:none;\">\n",
              "        \n",
              "  <svg xmlns=\"http://www.w3.org/2000/svg\" height=\"24px\"viewBox=\"0 0 24 24\"\n",
              "       width=\"24px\">\n",
              "    <path d=\"M0 0h24v24H0V0z\" fill=\"none\"/>\n",
              "    <path d=\"M18.56 5.44l.94 2.06.94-2.06 2.06-.94-2.06-.94-.94-2.06-.94 2.06-2.06.94zm-11 1L8.5 8.5l.94-2.06 2.06-.94-2.06-.94L8.5 2.5l-.94 2.06-2.06.94zm10 10l.94 2.06.94-2.06 2.06-.94-2.06-.94-.94-2.06-.94 2.06-2.06.94z\"/><path d=\"M17.41 7.96l-1.37-1.37c-.4-.4-.92-.59-1.43-.59-.52 0-1.04.2-1.43.59L10.3 9.45l-7.72 7.72c-.78.78-.78 2.05 0 2.83L4 21.41c.39.39.9.59 1.41.59.51 0 1.02-.2 1.41-.59l7.78-7.78 2.81-2.81c.8-.78.8-2.07 0-2.86zM5.41 20L4 18.59l7.72-7.72 1.47 1.35L5.41 20z\"/>\n",
              "  </svg>\n",
              "      </button>\n",
              "      \n",
              "  <style>\n",
              "    .colab-df-container {\n",
              "      display:flex;\n",
              "      flex-wrap:wrap;\n",
              "      gap: 12px;\n",
              "    }\n",
              "\n",
              "    .colab-df-convert {\n",
              "      background-color: #E8F0FE;\n",
              "      border: none;\n",
              "      border-radius: 50%;\n",
              "      cursor: pointer;\n",
              "      display: none;\n",
              "      fill: #1967D2;\n",
              "      height: 32px;\n",
              "      padding: 0 0 0 0;\n",
              "      width: 32px;\n",
              "    }\n",
              "\n",
              "    .colab-df-convert:hover {\n",
              "      background-color: #E2EBFA;\n",
              "      box-shadow: 0px 1px 2px rgba(60, 64, 67, 0.3), 0px 1px 3px 1px rgba(60, 64, 67, 0.15);\n",
              "      fill: #174EA6;\n",
              "    }\n",
              "\n",
              "    [theme=dark] .colab-df-convert {\n",
              "      background-color: #3B4455;\n",
              "      fill: #D2E3FC;\n",
              "    }\n",
              "\n",
              "    [theme=dark] .colab-df-convert:hover {\n",
              "      background-color: #434B5C;\n",
              "      box-shadow: 0px 1px 3px 1px rgba(0, 0, 0, 0.15);\n",
              "      filter: drop-shadow(0px 1px 2px rgba(0, 0, 0, 0.3));\n",
              "      fill: #FFFFFF;\n",
              "    }\n",
              "  </style>\n",
              "\n",
              "      <script>\n",
              "        const buttonEl =\n",
              "          document.querySelector('#df-aebd659c-6e47-4ab5-93f9-5933a6a15453 button.colab-df-convert');\n",
              "        buttonEl.style.display =\n",
              "          google.colab.kernel.accessAllowed ? 'block' : 'none';\n",
              "\n",
              "        async function convertToInteractive(key) {\n",
              "          const element = document.querySelector('#df-aebd659c-6e47-4ab5-93f9-5933a6a15453');\n",
              "          const dataTable =\n",
              "            await google.colab.kernel.invokeFunction('convertToInteractive',\n",
              "                                                     [key], {});\n",
              "          if (!dataTable) return;\n",
              "\n",
              "          const docLinkHtml = 'Like what you see? Visit the ' +\n",
              "            '<a target=\"_blank\" href=https://colab.research.google.com/notebooks/data_table.ipynb>data table notebook</a>'\n",
              "            + ' to learn more about interactive tables.';\n",
              "          element.innerHTML = '';\n",
              "          dataTable['output_type'] = 'display_data';\n",
              "          await google.colab.output.renderOutput(dataTable, element);\n",
              "          const docLink = document.createElement('div');\n",
              "          docLink.innerHTML = docLinkHtml;\n",
              "          element.appendChild(docLink);\n",
              "        }\n",
              "      </script>\n",
              "    </div>\n",
              "  </div>\n",
              "  "
            ],
            "text/plain": [
              "         V1        V2        V3  ...  Class  Time_std  Amount_std\n",
              "0 -1.359807 -0.072781  2.536347  ...      0 -1.997399    0.246341\n",
              "1  1.191857  0.266151  0.166480  ...      0 -1.997399   -0.346945\n",
              "2 -1.358354 -1.340163  1.773209  ...      0 -1.997378    1.171178\n",
              "3 -0.966272 -0.185226  1.792993  ...      0 -1.997378    0.140872\n",
              "4 -1.158233  0.877737  1.548718  ...      0 -1.997357   -0.075195\n",
              "\n",
              "[5 rows x 31 columns]"
            ]
          },
          "metadata": {},
          "execution_count": 37
        }
      ],
      "source": [
        "# a. cópia do dataSet\n",
        "dados_pdr = dados.copy()\n",
        "\n",
        "# a.1 reservando para novas previsões (15%)\n",
        "dados_new = dados_pdr.sample(frac= 0.15, random_state= 0)\n",
        "\n",
        "# a.2 obtendo os 85% restantes dos dados para o modelo\n",
        "dados_pdr = dados_pdr.drop(dados_new.index)\n",
        "\n",
        "# b. instancia um objeto do tipo StandardScaler\n",
        "scaler = StandardScaler()\n",
        "\n",
        "# c. aplicando a transformação nos dados\n",
        "dados_pdr['Time_std'] = scaler.fit_transform(dados_pdr['Time'].values.reshape(-1,1))\n",
        "dados_pdr['Amount_std'] = scaler.fit_transform(dados_pdr['Amount'].values.reshape(-1,1))\n",
        "\n",
        "# d. deletar as colunas \"despadronizadas\"\n",
        "dados_pdr.drop(['Time', 'Amount'], axis=1, inplace= True)\n",
        "dados_pdr.head()"
      ]
    },
    {
      "cell_type": "markdown",
      "metadata": {
        "id": "_k8tBYTRDH5a"
      },
      "source": [
        "A informação é a mesma apenas em escala diferente!!!"
      ]
    },
    {
      "cell_type": "code",
      "execution_count": 38,
      "metadata": {
        "colab": {
          "base_uri": "https://localhost:8080/",
          "height": 368
        },
        "id": "5kEzWPHoTaNx",
        "outputId": "1e27ba39-bcba-4b58-ad4e-88303dbce6b5"
      },
      "outputs": [
        {
          "output_type": "display_data",
          "data": {
            "image/png": "[encoded data removed]",
            "text/plain": [
              "<Figure size 360x360 with 2 Axes>"
            ]
          },
          "metadata": {
            "needs_background": "light"
          }
        }
      ],
      "source": [
        "plt.rcParams['figure.figsize']= (5,5)\n",
        "fig, (ax1, ax2) = plt.subplots(ncols=2, nrows= 1)\n",
        "\n",
        "dados.Time.hist(ax= ax1)\n",
        "dados_pdr.Time_std.hist(ax= ax2)\n",
        "plt.tight_layout()"
      ]
    },
    {
      "cell_type": "markdown",
      "metadata": {
        "id": "kNcJ9xNESpi7"
      },
      "source": [
        "### 4.2 Split dados\n",
        "Dividir os dados em `Treino` e `Teste`   é uma boa prática para garantir um modelo mais **generalista** possível.\n",
        "\n",
        "técnicas: sklearn.model_selection import\n",
        "* (i) train_test_split-estático\n",
        "* (ii) Cross-validation-randômico"
      ]
    },
    {
      "cell_type": "markdown",
      "metadata": {
        "id": "LPsqLGt7Spi9"
      },
      "source": [
        "#### 4.2.1 Estático"
      ]
    },
    {
      "cell_type": "markdown",
      "metadata": {
        "id": "tQIxhLNNErK8"
      },
      "source": [
        "O split de dados é uma boa prática. Para realizar há necessidade de realizar a a segregação da `variável Target` do dataSet. Já realizamos esse procedimento anteriormente (item 3.1.2) deste Colab. Como realizamos atividades de *Feature scaling*, usaremos o dataSet padronizada para obter o `X`, variáveis preditoras e o `y`  variável a ser predita, além de ser como os algortimos de ML do Sckit esperam receber os dados!!!"
      ]
    },
    {
      "cell_type": "code",
      "execution_count": 39,
      "metadata": {
        "id": "1P_IlPz6EeY_"
      },
      "outputs": [],
      "source": [
        "X = dados_pdr.drop(columns= 'Class', axis= 1)\n",
        "y = dados_pdr['Class']"
      ]
    },
    {
      "cell_type": "markdown",
      "metadata": {
        "id": "JC3b8WcTN0R1"
      },
      "source": [
        "\n",
        "O parâmetro `stratify=True`, garante que os conjuntos de Treino e Teste tenham a mesma quantidade de classes proporcionalmente e o parâmetro `shuffle=T`, embaralha o dataSet, indicando aleatoriedade."
      ]
    },
    {
      "cell_type": "code",
      "execution_count": 40,
      "metadata": {
        "id": "wH59BsovHeTw"
      },
      "outputs": [],
      "source": [
        "X_treino, X_teste, y_treino, y_teste = train_test_split(X, y, stratify=y, shuffle=True)"
      ]
    },
    {
      "cell_type": "code",
      "execution_count": 41,
      "metadata": {
        "colab": {
          "base_uri": "https://localhost:8080/"
        },
        "id": "RsxY98R6Ochc",
        "outputId": "f70aaa60-46be-45fb-b5f2-69902ffa456c"
      },
      "outputs": [
        {
          "output_type": "stream",
          "name": "stdout",
          "text": [
            "tamanho total dos dados são 242086, para treino temos 181564 e teste são 60522\n"
          ]
        }
      ],
      "source": [
        "print('tamanho total dos dados são {}, para treino temos {} e teste são {}'.format(dados_pdr.shape[0], len(X_treino), len(X_teste)))"
      ]
    },
    {
      "cell_type": "markdown",
      "metadata": {
        "id": "FrxaBHbgR2Rs"
      },
      "source": [
        "Importante destacar que mesmo splitando os dados, devemos manter a propocionalidades entre as classes. No início do jupyter (3.1.3.2) verificamos que a classe fraudulenta representa cerca de 0.1727% do dataSet. Após a divisão dos dados é importante verificar essa relação. Abaixo é mostrado como ficou o balanceamento nos dados de treino e teste."
      ]
    },
    {
      "cell_type": "code",
      "execution_count": 42,
      "metadata": {
        "colab": {
          "base_uri": "https://localhost:8080/"
        },
        "id": "1mqEX34tOdxJ",
        "outputId": "f7df293a-71e5-4115-f057-3db75120baa3"
      },
      "outputs": [
        {
          "output_type": "stream",
          "name": "stdout",
          "text": [
            "percentual de classes fraudulenta nos dados de teste:0.17349063150589866 % e dados de treino:0.1723910026216651 %\n"
          ]
        }
      ],
      "source": [
        "bal_treino = ((y_treino.value_counts() / len(y_treino))*100)[1]\n",
        "bal_teste = ((y_teste.value_counts() / len(y_teste))*100)[1]\n",
        "print('percentual de classes fraudulenta nos dados de teste:{} % e dados de treino:{} %'.format(bal_teste, bal_treino))"
      ]
    },
    {
      "cell_type": "markdown",
      "metadata": {
        "id": "60qqO1k4T0vJ"
      },
      "source": [
        "Mantidas as proporsionalidaes originais, seguiremos para o balanceamento das classes."
      ]
    },
    {
      "cell_type": "markdown",
      "metadata": {
        "id": "a7km0J6MSpi2"
      },
      "source": [
        "### 4.3 Feature Engineer\n",
        "#### 4.3.1 Balanceamento de classes \n",
        "Balanceamento dos dados: são técnicas para manter um \"certo balancemanto\" entre as classes, pois se temos classe majoritária o modelo de ML, possivelmente aprenderá mais sobre ela, logo temos um problema -> modelo sem generalização, devemos evitar.\n",
        "Podemos utilizar:\n",
        "* **oversampling** : cria-se de forma randômica, dados sintéticos para classe minoritária, com base em regras estatísticas e de forma aleatória.\n",
        "* **undersampling**: remove-se alguns registros da classe majoritária, preservando as características da classe minoritária, ideal para quando se há um grande volume de dados. Este método pode acarretar em um desempenho inferior na hora de fazer predições da classe majoritária, pois reduz o tamanho do dataset.\n",
        "* [**ADASYN**](https://imbalanced-learn.org/stable/over_sampling.html#from-random-over-sampling-to-smote-and-adasyn): cria novas amostras (over-sampling), próximas às originais que são classificadas de forma errada usando um classificador K-Nearest Neighbors.\n",
        "* [**SMOTE**](https://arxiv.org/abs/1106.1813): Synthetic Minority Over-sampling Technique, método de amostragem excessiva da classe minoritária envolve a criação de exemplos (over-sampling) sintéticos de classes minoritárias\n",
        "\n",
        "**ATENÇÃO 1**: o ideal é sempre aplicar as técnicas depois de realizar o split dos dados (treino e teste). Se aplicar o balancemento antes, o padrão usado para aplicar o oversampling/undersampling será o mesmo nos dados de treino e de teste, com isso a avaliação do modelo fica comprometida.\n",
        "\n",
        "**ATENÇÃO 2**: você ao tomar decisão de balancear os dados, diretamente está alterando seu conjunto de dados. Ou seja, saiba ***o que*** está fazendo e ***para que*** está fazendo!!!!"
      ]
    },
    {
      "cell_type": "markdown",
      "metadata": {
        "id": "FpcbizidUtDt"
      },
      "source": [
        "\n",
        "Da biblioteca `imblearn` é possível aplicar técnicas de balanceamento de dados. Usaremos além do *Undersampling* que remove amostras da classe majoritário, preservando assim a classe minoritária. Mais 2 técnicas de over-sampling para fins de compararação qual mais se adequa aos dados e o propósito do projeto, bem como o uso dos dados desbalanceados.\n",
        "* método 1 : undersampling\n",
        "* método 2 : SMOTE\n",
        "* método 3 : ADASYN"
      ]
    },
    {
      "cell_type": "code",
      "execution_count": 43,
      "metadata": {
        "id": "EdySYK64S1gk"
      },
      "outputs": [],
      "source": [
        "# a. instanciar as classes dos métodos pretendidos\n",
        "rus = RandomUnderSampler()\n",
        "smt = SMOTE()\n",
        "ada = ADASYN()\n",
        "\n",
        "# b. usam método fit_sample() para usar a técnica\n",
        "X_treino_rus, y_treino_rus = rus.fit_resample(X_treino, y_treino)\n",
        "X_treino_smt, y_treino_smt = smt.fit_resample(X_treino, y_treino)\n",
        "X_treino_ada, y_treino_ada = ada.fit_resample(X_treino, y_treino)"
      ]
    },
    {
      "cell_type": "markdown",
      "metadata": {
        "id": "oCu8X_HcXfLc"
      },
      "source": [
        "Verificando o balanceamento"
      ]
    },
    {
      "cell_type": "code",
      "execution_count": 44,
      "metadata": {
        "colab": {
          "base_uri": "https://localhost:8080/"
        },
        "id": "J8wnHNqXzNZ5",
        "outputId": "e9d15dde-a92b-41dc-bf3d-e97370e69f75"
      },
      "outputs": [
        {
          "output_type": "stream",
          "name": "stdout",
          "text": [
            "método 1:\n",
            " 1    313\n",
            "0    313\n",
            "Name: Class, dtype: int64 \n",
            "\n",
            "método 2:\n",
            " 1    181251\n",
            "0    181251\n",
            "Name: Class, dtype: int64 \n",
            "\n",
            "método 3:\n",
            " 0    181251\n",
            "1    181224\n",
            "Name: Class, dtype: int64\n"
          ]
        }
      ],
      "source": [
        "print(\"método 1:\\n\", y_treino_rus.value_counts(),\"\\n\")\n",
        "print(\"método 2:\\n\", y_treino_smt.value_counts(),\"\\n\")\n",
        "print(\"método 3:\\n\", y_treino_ada.value_counts())"
      ]
    },
    {
      "cell_type": "code",
      "execution_count": 45,
      "metadata": {
        "colab": {
          "base_uri": "https://localhost:8080/",
          "height": 441
        },
        "id": "z6VZN2Ae0iRp",
        "outputId": "6b6b8300-c1cf-4a34-d288-2f222b87dba1"
      },
      "outputs": [
        {
          "output_type": "display_data",
          "data": {
            "image/png": "[encoded data removed]",
            "text/plain": [
              "<Figure size 936x432 with 3 Axes>"
            ]
          },
          "metadata": {
            "needs_background": "light"
          }
        }
      ],
      "source": [
        "fig, (ax1, ax2, ax3) = plt.subplots(nrows= 3, ncols= 1, figsize= (13,6))\n",
        "\n",
        "sns.countplot(y_treino_rus, ax= ax1)\n",
        "ax1.set_title('método 1 - UderSpl')\n",
        "sns.countplot(y_treino_smt, ax= ax2)\n",
        "ax2.set_title('método 2 - SMOTE')\n",
        "sns.countplot(y_treino_ada, ax= ax3)\n",
        "ax3.set_title('método 3 - ADASYN')\n",
        "plt.tight_layout()"
      ]
    },
    {
      "cell_type": "markdown",
      "metadata": {
        "id": "Dh6CGz8laBYf"
      },
      "source": [
        "Didaticamente, vamos observar como se dá a correlação entre os atributos com os dados balanceados."
      ]
    },
    {
      "cell_type": "code",
      "execution_count": 46,
      "metadata": {
        "colab": {
          "base_uri": "https://localhost:8080/",
          "height": 668
        },
        "id": "j7p9h7vjS3A7",
        "outputId": "3185ca24-b3d1-4de2-e35c-d6efe6c8ec79"
      },
      "outputs": [
        {
          "output_type": "display_data",
          "data": {
            "image/png": "[encoded data removed]",
            "text/plain": [
              "<Figure size 1440x720 with 8 Axes>"
            ]
          },
          "metadata": {
            "needs_background": "light"
          }
        }
      ],
      "source": [
        "correlacao = X_treino.corr()\n",
        "correlacao_rus = X_treino_rus.corr()\n",
        "correlacao_smt = X_treino_smt.corr()\n",
        "correlacao_ada = X_treino_ada.corr()\n",
        "\n",
        "fig, ax = plt.subplots(nrows = 2, ncols = 2, figsize = (20,10))\n",
        "fig.suptitle('Matriz de correlação')\n",
        "\n",
        "sns.heatmap(correlacao,\n",
        "            xticklabels = correlacao.columns,\n",
        "            yticklabels = correlacao.columns,\n",
        "            linewidths = 1.,\n",
        "            cmap = 'coolwarm',\n",
        "            ax = ax[0][0])\n",
        "ax[0][0].set_title('dados desbalanceados')\n",
        "\n",
        "sns.heatmap(correlacao_rus,\n",
        "            xticklabels = correlacao_rus.columns,\n",
        "            yticklabels = correlacao_rus.columns,\n",
        "            linewidths = 1.,\n",
        "            cmap = 'coolwarm',\n",
        "            ax = ax[0][1])\n",
        "ax[0][1].set_title('dados balanceados método UnderSpl')\n",
        "\n",
        "sns.heatmap(correlacao_smt,\n",
        "            xticklabels = correlacao_smt.columns,\n",
        "            yticklabels = correlacao_smt.columns,\n",
        "            linewidths = 1.,\n",
        "            cmap = 'coolwarm',\n",
        "            ax = ax[1][0])\n",
        "ax[1][0].set_title('dados balanceados método SMOTE')\n",
        "\n",
        "sns.heatmap(correlacao_ada,\n",
        "            xticklabels = correlacao_ada.columns,\n",
        "            yticklabels = correlacao_ada.columns,\n",
        "            linewidths = 1.,\n",
        "            cmap = 'coolwarm',\n",
        "            ax = ax[1][1])\n",
        "ax[1][1].set_title('dados balanceados método ADASYN')\n",
        "\n",
        "plt.show()"
      ]
    },
    {
      "cell_type": "markdown",
      "metadata": {
        "id": "VmJAAiZfcmLV"
      },
      "source": [
        "Ao balancear os dados, alguns atributos observa-se correlações mais fortes!!!"
      ]
    },
    {
      "cell_type": "markdown",
      "metadata": {
        "id": "XnHqU9X7Spi-"
      },
      "source": [
        "= output: dados pré-processados e splitados para iniciar a construção do modelo de ML"
      ]
    },
    {
      "cell_type": "markdown",
      "metadata": {
        "id": "nHKpYiv6Spi-"
      },
      "source": [
        "## **5. Seleção Algoritmo**\n",
        "Dado o problema de negócio, a seleção do algoritmo se dá pelo modelo que apresentou melhor performance, sendo assim temos que treinar o algoritmo, testar e validar. Logo podemos utilizar (i) individualizar/automatizar modelos de algoritmos de ML ou (ii) usar algoritmos tipo ensemble.\n",
        "\n",
        "Para este projeto usaremos 2 algoritmos de ML para problemas de classificação,\n",
        "* (i.) [Regressão Logística](https://towardsdatascience.com/introduction-to-logistic-regression-66248243c148) é um algoritmo de análise preditiva e se baseia no conceito de probabilidade.\n",
        "* (ii.) Árvore de decisão, são construídas a partir de um processo de indução, onde os dados são divididos em subconjuntos cada vez mais puro - ganho de informação e entropia.\n",
        "\n",
        "Treinaremos esses 2 algorítmos com os 4 dataSet que possuímos sendo 1 com dados *desbalanceados* e 3 com técnicas diferentes de balanceamento.\n"
      ]
    },
    {
      "cell_type": "markdown",
      "metadata": {
        "id": "jf2_Upz0Spi_"
      },
      "source": [
        "#### (i) individualizar/automatizar"
      ]
    },
    {
      "cell_type": "markdown",
      "metadata": {
        "id": "5PU9pM01Spi_"
      },
      "source": [
        "### 5.1 (i) - individualizado (split estático)"
      ]
    },
    {
      "cell_type": "markdown",
      "metadata": {
        "id": "ADicqzfGSpjA"
      },
      "source": [
        "#### 5.1.1 criar modelo \n",
        "\n",
        "No modelo de Árvores de Decisão, instanciamos ajustando alguns *hyperparâemtros* do algorítmo. Não trataremos, neste projeto, dos hyperparâemtros, no entanto, é através destes hyperparâmetros que impactamos na construção de modelos de ML.\n"
      ]
    },
    {
      "cell_type": "code",
      "execution_count": 47,
      "metadata": {
        "id": "hwitNIfpeH91"
      },
      "outputs": [],
      "source": [
        "modelo_RL_1 = LogisticRegression()\n",
        "modelo_RL_2 = LogisticRegression()\n",
        "modelo_RL_3 = LogisticRegression()\n",
        "modelo_RL_4 = LogisticRegression()\n",
        "\n",
        "modelo_DT_1 = DecisionTreeClassifier(max_depth=4, criterion='entropy')\n",
        "modelo_DT_2 = DecisionTreeClassifier(max_depth=4, criterion='entropy')\n",
        "modelo_DT_3 = DecisionTreeClassifier(max_depth=4, criterion='entropy')\n",
        "modelo_DT_4 = DecisionTreeClassifier(max_depth=4, criterion='entropy')\n"
      ]
    },
    {
      "cell_type": "code",
      "execution_count": 48,
      "metadata": {
        "colab": {
          "base_uri": "https://localhost:8080/"
        },
        "id": "03TQmaBshurV",
        "outputId": "f055760f-5d85-45b8-bfcd-d174c5188e59"
      },
      "outputs": [
        {
          "output_type": "stream",
          "name": "stdout",
          "text": [
            "<class 'sklearn.linear_model._logistic.LogisticRegression'>\n",
            "<class 'sklearn.tree._classes.DecisionTreeClassifier'>\n"
          ]
        }
      ],
      "source": [
        "print(type(modelo_RL_1))\n",
        "print(type(modelo_DT_1))"
      ]
    },
    {
      "cell_type": "markdown",
      "metadata": {
        "id": "S6W96mTKg-Le"
      },
      "source": [
        "Pronto!! Isso é um modelo de Aprendizado de Máquina!!! Um objeto istanciado com a classe do algortimo que busca responder nosso problema de negócio!!!"
      ]
    },
    {
      "cell_type": "markdown",
      "metadata": {
        "id": "yx3ZtKA3d8lB"
      },
      "source": [
        "#### 5.1.2 treino modelo (.fit) \n",
        "\n",
        "Agora iremos treinar os modelos instanciados com dados tanto desbalanceados, quanto com os dados balanceados pelas 3 técnicas citadas acima.\n"
      ]
    },
    {
      "cell_type": "code",
      "execution_count": 49,
      "metadata": {
        "colab": {
          "base_uri": "https://localhost:8080/"
        },
        "id": "OnfGckY89PYi",
        "outputId": "e94c5dd6-291b-41b5-de9c-ee8f6e980271"
      },
      "outputs": [
        {
          "output_type": "stream",
          "name": "stderr",
          "text": [
            "/usr/local/lib/python3.7/dist-packages/sklearn/linear_model/_logistic.py:818: ConvergenceWarning: lbfgs failed to converge (status=1):\n",
            "STOP: TOTAL NO. of ITERATIONS REACHED LIMIT.\n",
            "\n",
            "Increase the number of iterations (max_iter) or scale the data as shown in:\n",
            "    https://scikit-learn.org/stable/modules/preprocessing.html\n",
            "Please also refer to the documentation for alternative solver options:\n",
            "    https://scikit-learn.org/stable/modules/linear_model.html#logistic-regression\n",
            "  extra_warning_msg=_LOGISTIC_SOLVER_CONVERGENCE_MSG,\n"
          ]
        },
        {
          "output_type": "execute_result",
          "data": {
            "text/plain": [
              "DecisionTreeClassifier(criterion='entropy', max_depth=4)"
            ]
          },
          "metadata": {},
          "execution_count": 49
        }
      ],
      "source": [
        "modelo_RL_1.fit(X_treino, y_treino)\n",
        "modelo_RL_2.fit(X_treino_rus, y_treino_rus)\n",
        "modelo_RL_3.fit(X_treino_smt, y_treino_smt)\n",
        "modelo_RL_4.fit(X_treino_ada, y_treino_ada)\n",
        "\n",
        "modelo_DT_1.fit(X_treino, y_treino)\n",
        "modelo_DT_2.fit(X_treino_rus, y_treino_rus)\n",
        "modelo_DT_3.fit(X_treino_smt, y_treino_smt)\n",
        "modelo_DT_4.fit(X_treino_ada, y_treino_ada)"
      ]
    },
    {
      "cell_type": "markdown",
      "metadata": {
        "id": "dRhbIvvYd74f"
      },
      "source": [
        "#### 5.1.3 teste modelo (.predict)\n",
        "\n",
        "Para estimar quão bem o modelo irá performar diante de novos dados, objetivo principal de um modelo preditivo é calcular atráves da aplicação do modelo aos **dados de teste**. Ou seja, é entregue ao modelo dados de **teste**, informações que ele não viu ainda, para verificar o quão **generalizável** está o modelo.\n",
        "\n"
      ]
    },
    {
      "cell_type": "code",
      "execution_count": 50,
      "metadata": {
        "id": "iFtU_Otv-THD"
      },
      "outputs": [],
      "source": [
        "y_pred_RL_1 = modelo_RL_1.predict(X_teste)\n",
        "y_pred_RL_2 = modelo_RL_2.predict(X_teste)\n",
        "y_pred_RL_3 = modelo_RL_3.predict(X_teste)\n",
        "y_pred_RL_4 = modelo_RL_4.predict(X_teste)\n",
        "\n",
        "y_pred_DT_1 = modelo_DT_1.predict(X_teste)\n",
        "y_pred_DT_2 = modelo_DT_2.predict(X_teste)\n",
        "y_pred_DT_3 = modelo_DT_3.predict(X_teste)\n",
        "y_pred_DT_4 = modelo_DT_4.predict(X_teste)\n"
      ]
    },
    {
      "cell_type": "markdown",
      "metadata": {
        "id": "EEf1NajmKLbC"
      },
      "source": [
        "Em problemas de classificação as previsões se referem à probabiblidade da observação pertencer à classe positiva, que no caso é **transação fraudulenta**. Usando um recurso do Sckit encontramos a probabilidade de pertencimento para cada classe possível, usando um método do algoritmo de Regressão logística: `predict_proba(x)`. \n",
        "\n"
      ]
    },
    {
      "cell_type": "code",
      "source": [
        "y_pred_RL_1_prob = modelo_RL_1.predict_proba(X_teste)\n",
        "y_pred_RL_2_prob = modelo_RL_2.predict_proba(X_teste)\n",
        "y_pred_RL_3_prob = modelo_RL_3.predict_proba(X_teste)\n",
        "y_pred_RL_4_prob = modelo_RL_4.predict_proba(X_teste)\n",
        "\n",
        "y_pred_DT_1_prob = modelo_DT_1.predict_proba(X_teste)\n",
        "y_pred_DT_2_prob = modelo_DT_2.predict_proba(X_teste)\n",
        "y_pred_DT_3_prob = modelo_DT_3.predict_proba(X_teste)\n",
        "y_pred_DT_4_prob = modelo_DT_4.predict_proba(X_teste)"
      ],
      "metadata": {
        "id": "wWGGV_Tj7e0Z"
      },
      "execution_count": 51,
      "outputs": []
    },
    {
      "cell_type": "code",
      "source": [
        "print(y_pred_RL_1[489])\n",
        "print(y_pred_RL_1_prob[489])\n"
      ],
      "metadata": {
        "colab": {
          "base_uri": "https://localhost:8080/"
        },
        "id": "4uDyGGtICikS",
        "outputId": "94823a16-5175-4eb6-bdf6-2639afcd2e3a"
      },
      "execution_count": 52,
      "outputs": [
        {
          "output_type": "stream",
          "name": "stdout",
          "text": [
            "0\n",
            "[9.99506246e-01 4.93754303e-04]\n"
          ]
        }
      ]
    },
    {
      "cell_type": "markdown",
      "metadata": {
        "id": "NNZOivG3S9t7"
      },
      "source": [
        "Ou seja, com esse método podemos verificar que para o primeiro registro dos dados de teste, o modelo preveu que seria 0 (transação genuína) pois a classe 0 teve 99,98% de chance de ocorrer."
      ]
    },
    {
      "cell_type": "markdown",
      "metadata": {
        "id": "tIcqBpb2d7dS"
      },
      "source": [
        "#### 5.1.4 performance modelo (.score)\n",
        "Os dados de **teste** são usados nesta fase para verificar o quão bem está o modelo. Modelo foi treinado com os dados de **treino**, fizemos previsões com os dados de teste, agora iremos comparar a previsões como o que realmente deveria ser previsto,\n",
        "\n",
        "Usaremos duas métricas, dentre várias que podemos usar para problemas de classificação, a saber:\n",
        "* Acurácia: medida de performance intuitiva, mede a acurácia geral do modelo, é o quociente das previsões corretas pelao total das previsões.\n",
        "* [AUC](https://medium.com/bio-data-blog/entenda-o-que-%C3%A9-auc-e-roc-nos-modelos-de-machine-learning-8191fb4df772): é uma das melhores métricas para avaliação seu modelo, uma vez que quando as previsões estão 100% erradas seu valor é zero e quando estão 100% certas seu valor é 1. Cada modelo vai apresentar um valor de AUC, isso nos auxilia a determinar o melhor modelo."
      ]
    },
    {
      "cell_type": "code",
      "source": [
        "print(\"---------------- Curva AUC Regressão Logistica -----------------\")\n",
        "print('AUC_RL_1: {:.4f}\\n'.format(roc_auc_score(y_teste, y_pred_RL_1)))\n",
        "print('AUC_RL_2: {:.4f}\\n'.format(roc_auc_score(y_teste, y_pred_RL_2)))\n",
        "print('AUC_RL_3: {:.4f}\\n'.format(roc_auc_score(y_teste, y_pred_RL_3)))\n",
        "print('AUC_RL_4: {:.4f}\\n'.format(roc_auc_score(y_teste, y_pred_RL_4)))\n",
        "\n",
        "print(\"---------------- Curva AUC Decision Tree -----------------\")\n",
        "print('AUC_DT_1: {:.4f}\\n'.format(roc_auc_score(y_teste, y_pred_DT_1)))\n",
        "print('AUC_DT_2: {:.4f}\\n'.format(roc_auc_score(y_teste, y_pred_DT_2)))\n",
        "print('AUC_DT_3: {:.4f}\\n'.format(roc_auc_score(y_teste, y_pred_DT_3)))\n",
        "print('AUC_DT_4: {:.4f}\\n'.format(roc_auc_score(y_teste, y_pred_DT_4)))\n",
        "print(\"---------------- Acurácia Regressão Logística ---------------------\")\n",
        "print('Acuracia_RL_1: {:.4f}\\n'.format(accuracy_score(y_teste, y_pred_RL_1)))\n",
        "print('Acuracia_RL_2: {:.4f}\\n'.format(accuracy_score(y_teste, y_pred_RL_2)))\n",
        "print('Acuracia_RL_3: {:.4f}\\n'.format(accuracy_score(y_teste, y_pred_RL_3)))\n",
        "print('Acuracia_RL_4: {:.4f}\\n'.format(accuracy_score(y_teste, y_pred_RL_4)))\n",
        "\n",
        "print(\"---------------- Acurácia Decision Tree ---------------------\")\n",
        "print('Acuracia_DT_1: {:.4f}\\n'.format(accuracy_score(y_teste, y_pred_DT_1)))\n",
        "print('Acuracia_DT_2: {:.4f}\\n'.format(accuracy_score(y_teste, y_pred_DT_2)))\n",
        "print('Acuracia_DT_3: {:.4f}\\n'.format(accuracy_score(y_teste, y_pred_DT_3)))\n",
        "print('Acuracia_DT_4: {:.4f}\\n'.format(accuracy_score(y_teste, y_pred_DT_4)))"
      ],
      "metadata": {
        "colab": {
          "base_uri": "https://localhost:8080/"
        },
        "id": "82XJN1UNSbcf",
        "outputId": "41631a99-499b-4d4e-ed3a-0f69e198d158"
      },
      "execution_count": 53,
      "outputs": [
        {
          "output_type": "stream",
          "name": "stdout",
          "text": [
            "---------------- Curva AUC Regressão Logistica -----------------\n",
            "AUC_RL_1: 0.8237\n",
            "\n",
            "AUC_RL_2: 0.9466\n",
            "\n",
            "AUC_RL_3: 0.9522\n",
            "\n",
            "AUC_RL_4: 0.9241\n",
            "\n",
            "---------------- Curva AUC Decision Tree -----------------\n",
            "AUC_DT_1: 0.9047\n",
            "\n",
            "AUC_DT_2: 0.9222\n",
            "\n",
            "AUC_DT_3: 0.9373\n",
            "\n",
            "AUC_DT_4: 0.8728\n",
            "\n",
            "---------------- Acurácia Regressão Logística ---------------------\n",
            "Acuracia_RL_1: 0.9992\n",
            "\n",
            "Acuracia_RL_2: 0.9599\n",
            "\n",
            "Acuracia_RL_3: 0.9710\n",
            "\n",
            "Acuracia_RL_4: 0.9054\n",
            "\n",
            "---------------- Acurácia Decision Tree ---------------------\n",
            "Acuracia_DT_1: 0.9995\n",
            "\n",
            "Acuracia_DT_2: 0.9301\n",
            "\n",
            "Acuracia_DT_3: 0.9793\n",
            "\n",
            "Acuracia_DT_4: 0.7934\n",
            "\n"
          ]
        }
      ]
    },
    {
      "cell_type": "markdown",
      "source": [
        "Escolheremos como métrica a AUC, dado a amplitude da métrica. Com os dados utilzados verificaremos a matriz de confusão do modelo de RL com balanceamento de Under-sampling e o modelo de árvore de decisão com os dados balanceados com a mesma técnica."
      ],
      "metadata": {
        "id": "V1ZwX3bJX1B6"
      }
    },
    {
      "cell_type": "code",
      "source": [
        "skplt.metrics.plot_confusion_matrix(y_teste, y_pred_RL_3, normalize = False)\n",
        "plt.title('RL - Bal SMOTE')\n",
        "skplt.metrics.plot_confusion_matrix(y_teste, y_pred_DT_3, normalize = False)\n",
        "plt.title('DT - Bal SMOTE')\n",
        "plt.show()"
      ],
      "metadata": {
        "colab": {
          "base_uri": "https://localhost:8080/",
          "height": 601
        },
        "id": "lpsWb3uoZbFR",
        "outputId": "38a6263f-ae41-42fa-e48d-f24d5b3e0af6"
      },
      "execution_count": 54,
      "outputs": [
        {
          "output_type": "display_data",
          "data": {
            "image/png": "[encoded data removed]",
            "text/plain": [
              "<Figure size 360x360 with 2 Axes>"
            ]
          },
          "metadata": {
            "needs_background": "light"
          }
        },
        {
          "output_type": "display_data",
          "data": {
            "image/png": "[encoded data removed]",
            "text/plain": [
              "<Figure size 360x360 with 2 Axes>"
            ]
          },
          "metadata": {
            "needs_background": "light"
          }
        }
      ]
    },
    {
      "cell_type": "markdown",
      "source": [
        "A *confusion matrix* permite identificar quais dos 2 tipos de erros o modelo incorreu.\n",
        "\n",
        "Erros do **tipo 1** são os conhecidos como **falso Positivo (FP)**, para nosso caso esse erro é quando o modelo preveu que seria uma fraude ao passo que era uma transação genuína, ou seja, sabe quando você encontra uma oferta relâmpago na Amazon.com e vai comprar teu cartão nega...então... é isso... você poderá ter sido um Falso Positivo, ou ainda.. quando está comprando uma passagem aérea pela com aquele precinho na *Itapemirim Airlines*..... opa, nesse caso foi vantagem ser um Falso Positivo 😄😄😄. \n",
        "\n",
        "Erros do **tipo 2** são os **falso Negativo (FN)**, ou seja, foi previsto que a transação seria genuína, no entanto era fraude. Para nosso problema de negócio, haveria um prejuízo financeiro para o cliente ou a instiuição do cartão."
      ],
      "metadata": {
        "id": "zBA8mTbGeI_x"
      }
    },
    {
      "cell_type": "code",
      "source": [
        "print('Matriz de Confusão: \\n', '[VN, FP]', '\\n', '[FN, VP]')\n",
        "print(confusion_matrix(y_teste, y_pred_DT_2))"
      ],
      "metadata": {
        "colab": {
          "base_uri": "https://localhost:8080/"
        },
        "id": "jGdUYf5Ddrs9",
        "outputId": "324fe097-70fc-4c98-de30-8ff1ab88ef9b"
      },
      "execution_count": 55,
      "outputs": [
        {
          "output_type": "stream",
          "name": "stdout",
          "text": [
            "Matriz de Confusão: \n",
            " [VN, FP] \n",
            " [FN, VP]\n",
            "[[56193  4224]\n",
            " [    9    96]]\n"
          ]
        }
      ]
    },
    {
      "cell_type": "markdown",
      "source": [
        "\n",
        "\n",
        "1.   Algoritmos de Árvores Decisão obtiveram um desempenho melhor ao lidar com os dados desbalanceados.\n",
        "2.   Algoritmos de Regressão Logistica foram superiores ao lidar com dados balanceados. Sendo a técnica SMOTE que obteve melhores resultados.\n",
        "1.   A solução ideal é aquela que melhor atende a instituição, podendo ser a com o maior AUC, ou a com o maior número de detecção de fraudes, ou a menor taxa de FP (falso positivo).\n",
        "2.   O modelo que melhor conseguiu prever fraudes foi o Modelo de Regressão Logística que treinou com dados balanceados pelo método SMOTE.\n",
        "\n",
        "Então quer dizer que para todo modelo de classificação podemos usar a Regressão logistica e a técnica de balanceamento SMOTE?\n",
        "\n",
        "Não... 😶😶😶 vai depender do problema de negócio que quer responder... a qualidade de seus dados... o tempo de treinamento... o volume representativo de dados.. capacidade computacional..... 😄 Por isso que *Data Science* é apaixonante!! desafios únicos a cada projeto!"
      ],
      "metadata": {
        "id": "w8mYfLPeiQns"
      }
    },
    {
      "cell_type": "markdown",
      "metadata": {
        "id": "cO7AAIl81g30"
      },
      "source": [
        "## **6. Prevendo com dados novos**\n",
        "\n",
        "Com a reserva de 15% que fizemos nos dados (4.1.1) veremos como o modelo se sairia em uma previsão. \n"
      ]
    },
    {
      "cell_type": "code",
      "execution_count": 56,
      "metadata": {
        "colab": {
          "base_uri": "https://localhost:8080/",
          "height": 487
        },
        "id": "i_ECCnHWUUfl",
        "outputId": "8cde558c-4d1b-47b2-87a9-29fbb80aa1fe"
      },
      "outputs": [
        {
          "output_type": "execute_result",
          "data": {
            "text/html": [
              "\n",
              "  <div id=\"df-0293ee86-f929-436b-a3b9-fbddb5e1be32\">\n",
              "    <div class=\"colab-df-container\">\n",
              "      <div>\n",
              "<style scoped>\n",
              "    .dataframe tbody tr th:only-of-type {\n",
              "        vertical-align: middle;\n",
              "    }\n",
              "\n",
              "    .dataframe tbody tr th {\n",
              "        vertical-align: top;\n",
              "    }\n",
              "\n",
              "    .dataframe thead th {\n",
              "        text-align: right;\n",
              "    }\n",
              "</style>\n",
              "<table border=\"1\" class=\"dataframe\">\n",
              "  <thead>\n",
              "    <tr style=\"text-align: right;\">\n",
              "      <th></th>\n",
              "      <th>Time</th>\n",
              "      <th>V1</th>\n",
              "      <th>V2</th>\n",
              "      <th>V3</th>\n",
              "      <th>V4</th>\n",
              "      <th>V5</th>\n",
              "      <th>V6</th>\n",
              "      <th>V7</th>\n",
              "      <th>V8</th>\n",
              "      <th>V9</th>\n",
              "      <th>V10</th>\n",
              "      <th>V11</th>\n",
              "      <th>V12</th>\n",
              "      <th>V13</th>\n",
              "      <th>V14</th>\n",
              "      <th>V15</th>\n",
              "      <th>V16</th>\n",
              "      <th>V17</th>\n",
              "      <th>V18</th>\n",
              "      <th>V19</th>\n",
              "      <th>V20</th>\n",
              "      <th>V21</th>\n",
              "      <th>V22</th>\n",
              "      <th>V23</th>\n",
              "      <th>V24</th>\n",
              "      <th>V25</th>\n",
              "      <th>V26</th>\n",
              "      <th>V27</th>\n",
              "      <th>V28</th>\n",
              "      <th>Amount</th>\n",
              "      <th>Class</th>\n",
              "    </tr>\n",
              "  </thead>\n",
              "  <tbody>\n",
              "    <tr>\n",
              "      <th>183484</th>\n",
              "      <td>125821.0</td>\n",
              "      <td>-0.323334</td>\n",
              "      <td>1.057455</td>\n",
              "      <td>-0.048341</td>\n",
              "      <td>-0.607204</td>\n",
              "      <td>1.259821</td>\n",
              "      <td>-0.091761</td>\n",
              "      <td>1.159101</td>\n",
              "      <td>-0.124335</td>\n",
              "      <td>-0.174640</td>\n",
              "      <td>-1.644401</td>\n",
              "      <td>-1.118863</td>\n",
              "      <td>0.202647</td>\n",
              "      <td>1.145965</td>\n",
              "      <td>-1.802360</td>\n",
              "      <td>-0.247178</td>\n",
              "      <td>-0.060945</td>\n",
              "      <td>0.846606</td>\n",
              "      <td>0.379454</td>\n",
              "      <td>0.847262</td>\n",
              "      <td>0.186409</td>\n",
              "      <td>-0.207098</td>\n",
              "      <td>-0.433890</td>\n",
              "      <td>-0.261613</td>\n",
              "      <td>-0.046651</td>\n",
              "      <td>0.211512</td>\n",
              "      <td>0.008297</td>\n",
              "      <td>0.108494</td>\n",
              "      <td>0.161139</td>\n",
              "      <td>40.00</td>\n",
              "      <td>0</td>\n",
              "    </tr>\n",
              "    <tr>\n",
              "      <th>255448</th>\n",
              "      <td>157235.0</td>\n",
              "      <td>-0.349718</td>\n",
              "      <td>0.932619</td>\n",
              "      <td>0.142992</td>\n",
              "      <td>-0.657071</td>\n",
              "      <td>1.169784</td>\n",
              "      <td>-0.733369</td>\n",
              "      <td>1.009985</td>\n",
              "      <td>-0.071069</td>\n",
              "      <td>-0.302083</td>\n",
              "      <td>-1.192404</td>\n",
              "      <td>-0.854776</td>\n",
              "      <td>-0.620458</td>\n",
              "      <td>-0.806471</td>\n",
              "      <td>-0.770837</td>\n",
              "      <td>-0.108158</td>\n",
              "      <td>0.258964</td>\n",
              "      <td>0.492095</td>\n",
              "      <td>-0.148516</td>\n",
              "      <td>-0.148099</td>\n",
              "      <td>-0.096502</td>\n",
              "      <td>-0.271537</td>\n",
              "      <td>-0.833209</td>\n",
              "      <td>-0.030360</td>\n",
              "      <td>0.490035</td>\n",
              "      <td>-0.404816</td>\n",
              "      <td>0.134350</td>\n",
              "      <td>0.076830</td>\n",
              "      <td>0.175562</td>\n",
              "      <td>1.98</td>\n",
              "      <td>0</td>\n",
              "    </tr>\n",
              "    <tr>\n",
              "      <th>244749</th>\n",
              "      <td>152471.0</td>\n",
              "      <td>-1.614711</td>\n",
              "      <td>-2.406570</td>\n",
              "      <td>0.326194</td>\n",
              "      <td>0.665520</td>\n",
              "      <td>2.369268</td>\n",
              "      <td>-1.775367</td>\n",
              "      <td>-1.139049</td>\n",
              "      <td>0.329904</td>\n",
              "      <td>0.903813</td>\n",
              "      <td>-0.219013</td>\n",
              "      <td>-1.726259</td>\n",
              "      <td>-0.736771</td>\n",
              "      <td>-1.516835</td>\n",
              "      <td>0.348343</td>\n",
              "      <td>0.041437</td>\n",
              "      <td>0.732681</td>\n",
              "      <td>-1.136766</td>\n",
              "      <td>0.816653</td>\n",
              "      <td>-1.578951</td>\n",
              "      <td>0.419835</td>\n",
              "      <td>0.701399</td>\n",
              "      <td>1.134489</td>\n",
              "      <td>0.965054</td>\n",
              "      <td>0.640981</td>\n",
              "      <td>-1.801998</td>\n",
              "      <td>-1.041114</td>\n",
              "      <td>0.286285</td>\n",
              "      <td>0.437322</td>\n",
              "      <td>96.00</td>\n",
              "      <td>0</td>\n",
              "    </tr>\n",
              "    <tr>\n",
              "      <th>63919</th>\n",
              "      <td>50927.0</td>\n",
              "      <td>-2.477184</td>\n",
              "      <td>0.860613</td>\n",
              "      <td>1.441850</td>\n",
              "      <td>1.051019</td>\n",
              "      <td>-1.856621</td>\n",
              "      <td>2.078384</td>\n",
              "      <td>0.510828</td>\n",
              "      <td>-0.243399</td>\n",
              "      <td>-0.260691</td>\n",
              "      <td>0.133040</td>\n",
              "      <td>1.551682</td>\n",
              "      <td>0.435125</td>\n",
              "      <td>-0.336022</td>\n",
              "      <td>0.278965</td>\n",
              "      <td>1.812232</td>\n",
              "      <td>0.080001</td>\n",
              "      <td>0.116347</td>\n",
              "      <td>0.291818</td>\n",
              "      <td>0.106228</td>\n",
              "      <td>-0.987790</td>\n",
              "      <td>0.810408</td>\n",
              "      <td>0.692245</td>\n",
              "      <td>0.150121</td>\n",
              "      <td>-0.260777</td>\n",
              "      <td>0.005183</td>\n",
              "      <td>-0.177847</td>\n",
              "      <td>-0.510060</td>\n",
              "      <td>-0.660533</td>\n",
              "      <td>308.00</td>\n",
              "      <td>0</td>\n",
              "    </tr>\n",
              "    <tr>\n",
              "      <th>11475</th>\n",
              "      <td>19899.0</td>\n",
              "      <td>1.338831</td>\n",
              "      <td>-0.547264</td>\n",
              "      <td>0.737389</td>\n",
              "      <td>-0.212383</td>\n",
              "      <td>-1.110039</td>\n",
              "      <td>-0.525744</td>\n",
              "      <td>-0.801403</td>\n",
              "      <td>-0.063672</td>\n",
              "      <td>0.997276</td>\n",
              "      <td>0.113386</td>\n",
              "      <td>0.664531</td>\n",
              "      <td>-3.282511</td>\n",
              "      <td>0.409266</td>\n",
              "      <td>1.252202</td>\n",
              "      <td>-0.868774</td>\n",
              "      <td>0.214387</td>\n",
              "      <td>1.878003</td>\n",
              "      <td>-1.906559</td>\n",
              "      <td>0.263854</td>\n",
              "      <td>-0.126871</td>\n",
              "      <td>-0.139436</td>\n",
              "      <td>-0.074719</td>\n",
              "      <td>0.067055</td>\n",
              "      <td>0.333122</td>\n",
              "      <td>0.379087</td>\n",
              "      <td>-0.268706</td>\n",
              "      <td>-0.002769</td>\n",
              "      <td>0.003272</td>\n",
              "      <td>5.00</td>\n",
              "      <td>0</td>\n",
              "    </tr>\n",
              "    <tr>\n",
              "      <th>...</th>\n",
              "      <td>...</td>\n",
              "      <td>...</td>\n",
              "      <td>...</td>\n",
              "      <td>...</td>\n",
              "      <td>...</td>\n",
              "      <td>...</td>\n",
              "      <td>...</td>\n",
              "      <td>...</td>\n",
              "      <td>...</td>\n",
              "      <td>...</td>\n",
              "      <td>...</td>\n",
              "      <td>...</td>\n",
              "      <td>...</td>\n",
              "      <td>...</td>\n",
              "      <td>...</td>\n",
              "      <td>...</td>\n",
              "      <td>...</td>\n",
              "      <td>...</td>\n",
              "      <td>...</td>\n",
              "      <td>...</td>\n",
              "      <td>...</td>\n",
              "      <td>...</td>\n",
              "      <td>...</td>\n",
              "      <td>...</td>\n",
              "      <td>...</td>\n",
              "      <td>...</td>\n",
              "      <td>...</td>\n",
              "      <td>...</td>\n",
              "      <td>...</td>\n",
              "      <td>...</td>\n",
              "      <td>...</td>\n",
              "    </tr>\n",
              "    <tr>\n",
              "      <th>229333</th>\n",
              "      <td>145885.0</td>\n",
              "      <td>-0.330429</td>\n",
              "      <td>0.587057</td>\n",
              "      <td>0.635175</td>\n",
              "      <td>-0.619929</td>\n",
              "      <td>0.690199</td>\n",
              "      <td>-1.146289</td>\n",
              "      <td>0.914373</td>\n",
              "      <td>-0.158436</td>\n",
              "      <td>-0.160107</td>\n",
              "      <td>-0.681300</td>\n",
              "      <td>-1.100518</td>\n",
              "      <td>-0.408600</td>\n",
              "      <td>-0.981258</td>\n",
              "      <td>0.393798</td>\n",
              "      <td>-0.287138</td>\n",
              "      <td>-0.146882</td>\n",
              "      <td>-0.284723</td>\n",
              "      <td>-0.676046</td>\n",
              "      <td>-0.070110</td>\n",
              "      <td>-0.170441</td>\n",
              "      <td>-0.172181</td>\n",
              "      <td>-0.540837</td>\n",
              "      <td>0.047329</td>\n",
              "      <td>-0.037745</td>\n",
              "      <td>-0.671478</td>\n",
              "      <td>0.119750</td>\n",
              "      <td>0.094611</td>\n",
              "      <td>0.173363</td>\n",
              "      <td>1.29</td>\n",
              "      <td>0</td>\n",
              "    </tr>\n",
              "    <tr>\n",
              "      <th>189242</th>\n",
              "      <td>128317.0</td>\n",
              "      <td>-17.015895</td>\n",
              "      <td>-18.501723</td>\n",
              "      <td>-2.965763</td>\n",
              "      <td>5.989228</td>\n",
              "      <td>7.811563</td>\n",
              "      <td>-4.440128</td>\n",
              "      <td>-1.905238</td>\n",
              "      <td>-1.938201</td>\n",
              "      <td>3.276087</td>\n",
              "      <td>3.752052</td>\n",
              "      <td>1.642748</td>\n",
              "      <td>0.514523</td>\n",
              "      <td>2.190782</td>\n",
              "      <td>-1.980082</td>\n",
              "      <td>3.654318</td>\n",
              "      <td>2.058084</td>\n",
              "      <td>-1.526250</td>\n",
              "      <td>0.319587</td>\n",
              "      <td>5.591971</td>\n",
              "      <td>-15.448986</td>\n",
              "      <td>-5.414098</td>\n",
              "      <td>3.688960</td>\n",
              "      <td>11.360879</td>\n",
              "      <td>0.771200</td>\n",
              "      <td>2.274458</td>\n",
              "      <td>1.954516</td>\n",
              "      <td>6.507171</td>\n",
              "      <td>-4.075417</td>\n",
              "      <td>6.37</td>\n",
              "      <td>0</td>\n",
              "    </tr>\n",
              "    <tr>\n",
              "      <th>232656</th>\n",
              "      <td>147253.0</td>\n",
              "      <td>0.044490</td>\n",
              "      <td>0.898231</td>\n",
              "      <td>0.306854</td>\n",
              "      <td>-0.587229</td>\n",
              "      <td>0.441139</td>\n",
              "      <td>-1.121860</td>\n",
              "      <td>1.039291</td>\n",
              "      <td>-0.231897</td>\n",
              "      <td>-0.108498</td>\n",
              "      <td>-0.422824</td>\n",
              "      <td>-0.846928</td>\n",
              "      <td>0.364602</td>\n",
              "      <td>0.429535</td>\n",
              "      <td>0.029024</td>\n",
              "      <td>-0.450167</td>\n",
              "      <td>-0.115708</td>\n",
              "      <td>-0.429364</td>\n",
              "      <td>-0.803192</td>\n",
              "      <td>-0.089995</td>\n",
              "      <td>-0.013009</td>\n",
              "      <td>-0.255365</td>\n",
              "      <td>-0.535225</td>\n",
              "      <td>0.064659</td>\n",
              "      <td>0.050984</td>\n",
              "      <td>-0.476387</td>\n",
              "      <td>0.136342</td>\n",
              "      <td>0.250095</td>\n",
              "      <td>0.098383</td>\n",
              "      <td>2.69</td>\n",
              "      <td>0</td>\n",
              "    </tr>\n",
              "    <tr>\n",
              "      <th>174418</th>\n",
              "      <td>121905.0</td>\n",
              "      <td>1.945191</td>\n",
              "      <td>-0.273317</td>\n",
              "      <td>-0.126410</td>\n",
              "      <td>0.436141</td>\n",
              "      <td>-0.841361</td>\n",
              "      <td>-1.026928</td>\n",
              "      <td>-0.323962</td>\n",
              "      <td>-0.216008</td>\n",
              "      <td>0.809408</td>\n",
              "      <td>-0.043048</td>\n",
              "      <td>-0.180750</td>\n",
              "      <td>1.200447</td>\n",
              "      <td>1.272197</td>\n",
              "      <td>-0.270835</td>\n",
              "      <td>0.349561</td>\n",
              "      <td>0.230839</td>\n",
              "      <td>-0.412508</td>\n",
              "      <td>-0.792333</td>\n",
              "      <td>-0.208522</td>\n",
              "      <td>-0.094742</td>\n",
              "      <td>-0.211303</td>\n",
              "      <td>-0.481833</td>\n",
              "      <td>0.466048</td>\n",
              "      <td>0.482353</td>\n",
              "      <td>-0.668233</td>\n",
              "      <td>0.198535</td>\n",
              "      <td>-0.033724</td>\n",
              "      <td>-0.033819</td>\n",
              "      <td>23.99</td>\n",
              "      <td>0</td>\n",
              "    </tr>\n",
              "    <tr>\n",
              "      <th>98354</th>\n",
              "      <td>66627.0</td>\n",
              "      <td>-0.982043</td>\n",
              "      <td>0.329463</td>\n",
              "      <td>0.218720</td>\n",
              "      <td>0.267392</td>\n",
              "      <td>2.761915</td>\n",
              "      <td>3.806040</td>\n",
              "      <td>0.112364</td>\n",
              "      <td>0.903531</td>\n",
              "      <td>-0.595460</td>\n",
              "      <td>-0.195537</td>\n",
              "      <td>-0.573781</td>\n",
              "      <td>-0.185389</td>\n",
              "      <td>-0.198011</td>\n",
              "      <td>0.106745</td>\n",
              "      <td>0.295925</td>\n",
              "      <td>-0.582841</td>\n",
              "      <td>-0.116253</td>\n",
              "      <td>0.231513</td>\n",
              "      <td>1.603449</td>\n",
              "      <td>0.090216</td>\n",
              "      <td>-0.146368</td>\n",
              "      <td>-0.278676</td>\n",
              "      <td>0.049632</td>\n",
              "      <td>1.011464</td>\n",
              "      <td>0.780561</td>\n",
              "      <td>-0.139311</td>\n",
              "      <td>0.031628</td>\n",
              "      <td>0.011244</td>\n",
              "      <td>22.92</td>\n",
              "      <td>0</td>\n",
              "    </tr>\n",
              "  </tbody>\n",
              "</table>\n",
              "<p>42721 rows × 31 columns</p>\n",
              "</div>\n",
              "      <button class=\"colab-df-convert\" onclick=\"convertToInteractive('df-0293ee86-f929-436b-a3b9-fbddb5e1be32')\"\n",
              "              title=\"Convert this dataframe to an interactive table.\"\n",
              "              style=\"display:none;\">\n",
              "        \n",
              "  <svg xmlns=\"http://www.w3.org/2000/svg\" height=\"24px\"viewBox=\"0 0 24 24\"\n",
              "       width=\"24px\">\n",
              "    <path d=\"M0 0h24v24H0V0z\" fill=\"none\"/>\n",
              "    <path d=\"M18.56 5.44l.94 2.06.94-2.06 2.06-.94-2.06-.94-.94-2.06-.94 2.06-2.06.94zm-11 1L8.5 8.5l.94-2.06 2.06-.94-2.06-.94L8.5 2.5l-.94 2.06-2.06.94zm10 10l.94 2.06.94-2.06 2.06-.94-2.06-.94-.94-2.06-.94 2.06-2.06.94z\"/><path d=\"M17.41 7.96l-1.37-1.37c-.4-.4-.92-.59-1.43-.59-.52 0-1.04.2-1.43.59L10.3 9.45l-7.72 7.72c-.78.78-.78 2.05 0 2.83L4 21.41c.39.39.9.59 1.41.59.51 0 1.02-.2 1.41-.59l7.78-7.78 2.81-2.81c.8-.78.8-2.07 0-2.86zM5.41 20L4 18.59l7.72-7.72 1.47 1.35L5.41 20z\"/>\n",
              "  </svg>\n",
              "      </button>\n",
              "      \n",
              "  <style>\n",
              "    .colab-df-container {\n",
              "      display:flex;\n",
              "      flex-wrap:wrap;\n",
              "      gap: 12px;\n",
              "    }\n",
              "\n",
              "    .colab-df-convert {\n",
              "      background-color: #E8F0FE;\n",
              "      border: none;\n",
              "      border-radius: 50%;\n",
              "      cursor: pointer;\n",
              "      display: none;\n",
              "      fill: #1967D2;\n",
              "      height: 32px;\n",
              "      padding: 0 0 0 0;\n",
              "      width: 32px;\n",
              "    }\n",
              "\n",
              "    .colab-df-convert:hover {\n",
              "      background-color: #E2EBFA;\n",
              "      box-shadow: 0px 1px 2px rgba(60, 64, 67, 0.3), 0px 1px 3px 1px rgba(60, 64, 67, 0.15);\n",
              "      fill: #174EA6;\n",
              "    }\n",
              "\n",
              "    [theme=dark] .colab-df-convert {\n",
              "      background-color: #3B4455;\n",
              "      fill: #D2E3FC;\n",
              "    }\n",
              "\n",
              "    [theme=dark] .colab-df-convert:hover {\n",
              "      background-color: #434B5C;\n",
              "      box-shadow: 0px 1px 3px 1px rgba(0, 0, 0, 0.15);\n",
              "      filter: drop-shadow(0px 1px 2px rgba(0, 0, 0, 0.3));\n",
              "      fill: #FFFFFF;\n",
              "    }\n",
              "  </style>\n",
              "\n",
              "      <script>\n",
              "        const buttonEl =\n",
              "          document.querySelector('#df-0293ee86-f929-436b-a3b9-fbddb5e1be32 button.colab-df-convert');\n",
              "        buttonEl.style.display =\n",
              "          google.colab.kernel.accessAllowed ? 'block' : 'none';\n",
              "\n",
              "        async function convertToInteractive(key) {\n",
              "          const element = document.querySelector('#df-0293ee86-f929-436b-a3b9-fbddb5e1be32');\n",
              "          const dataTable =\n",
              "            await google.colab.kernel.invokeFunction('convertToInteractive',\n",
              "                                                     [key], {});\n",
              "          if (!dataTable) return;\n",
              "\n",
              "          const docLinkHtml = 'Like what you see? Visit the ' +\n",
              "            '<a target=\"_blank\" href=https://colab.research.google.com/notebooks/data_table.ipynb>data table notebook</a>'\n",
              "            + ' to learn more about interactive tables.';\n",
              "          element.innerHTML = '';\n",
              "          dataTable['output_type'] = 'display_data';\n",
              "          await google.colab.output.renderOutput(dataTable, element);\n",
              "          const docLink = document.createElement('div');\n",
              "          docLink.innerHTML = docLinkHtml;\n",
              "          element.appendChild(docLink);\n",
              "        }\n",
              "      </script>\n",
              "    </div>\n",
              "  </div>\n",
              "  "
            ],
            "text/plain": [
              "            Time         V1         V2  ...       V28  Amount  Class\n",
              "183484  125821.0  -0.323334   1.057455  ...  0.161139   40.00      0\n",
              "255448  157235.0  -0.349718   0.932619  ...  0.175562    1.98      0\n",
              "244749  152471.0  -1.614711  -2.406570  ...  0.437322   96.00      0\n",
              "63919    50927.0  -2.477184   0.860613  ... -0.660533  308.00      0\n",
              "11475    19899.0   1.338831  -0.547264  ...  0.003272    5.00      0\n",
              "...          ...        ...        ...  ...       ...     ...    ...\n",
              "229333  145885.0  -0.330429   0.587057  ...  0.173363    1.29      0\n",
              "189242  128317.0 -17.015895 -18.501723  ... -4.075417    6.37      0\n",
              "232656  147253.0   0.044490   0.898231  ...  0.098383    2.69      0\n",
              "174418  121905.0   1.945191  -0.273317  ... -0.033819   23.99      0\n",
              "98354    66627.0  -0.982043   0.329463  ...  0.011244   22.92      0\n",
              "\n",
              "[42721 rows x 31 columns]"
            ]
          },
          "metadata": {},
          "execution_count": 56
        }
      ],
      "source": [
        "# dados reservados para nova previsão\n",
        "dados_new"
      ]
    },
    {
      "cell_type": "markdown",
      "source": [
        "Há necessidade de todos os daods que o modelo irá realizar as predições, passarem pelo mesmo pré-processamento que os dados usados na fase de treino."
      ],
      "metadata": {
        "id": "FYRb5KjP0PsQ"
      }
    },
    {
      "cell_type": "code",
      "execution_count": 57,
      "metadata": {
        "colab": {
          "base_uri": "https://localhost:8080/",
          "height": 270
        },
        "id": "ADEgt-5ZUT3z",
        "outputId": "b673f2ae-7f37-4d43-faad-759f86e5da6b"
      },
      "outputs": [
        {
          "output_type": "execute_result",
          "data": {
            "text/html": [
              "\n",
              "  <div id=\"df-ad968f3f-dd22-4207-aa5b-6d1d7b0f5f8b\">\n",
              "    <div class=\"colab-df-container\">\n",
              "      <div>\n",
              "<style scoped>\n",
              "    .dataframe tbody tr th:only-of-type {\n",
              "        vertical-align: middle;\n",
              "    }\n",
              "\n",
              "    .dataframe tbody tr th {\n",
              "        vertical-align: top;\n",
              "    }\n",
              "\n",
              "    .dataframe thead th {\n",
              "        text-align: right;\n",
              "    }\n",
              "</style>\n",
              "<table border=\"1\" class=\"dataframe\">\n",
              "  <thead>\n",
              "    <tr style=\"text-align: right;\">\n",
              "      <th></th>\n",
              "      <th>V1</th>\n",
              "      <th>V2</th>\n",
              "      <th>V3</th>\n",
              "      <th>V4</th>\n",
              "      <th>V5</th>\n",
              "      <th>V6</th>\n",
              "      <th>V7</th>\n",
              "      <th>V8</th>\n",
              "      <th>V9</th>\n",
              "      <th>V10</th>\n",
              "      <th>V11</th>\n",
              "      <th>V12</th>\n",
              "      <th>V13</th>\n",
              "      <th>V14</th>\n",
              "      <th>V15</th>\n",
              "      <th>V16</th>\n",
              "      <th>V17</th>\n",
              "      <th>V18</th>\n",
              "      <th>V19</th>\n",
              "      <th>V20</th>\n",
              "      <th>V21</th>\n",
              "      <th>V22</th>\n",
              "      <th>V23</th>\n",
              "      <th>V24</th>\n",
              "      <th>V25</th>\n",
              "      <th>V26</th>\n",
              "      <th>V27</th>\n",
              "      <th>V28</th>\n",
              "      <th>Class</th>\n",
              "      <th>Time_std</th>\n",
              "      <th>Amount_std</th>\n",
              "    </tr>\n",
              "  </thead>\n",
              "  <tbody>\n",
              "    <tr>\n",
              "      <th>183484</th>\n",
              "      <td>-0.323334</td>\n",
              "      <td>1.057455</td>\n",
              "      <td>-0.048341</td>\n",
              "      <td>-0.607204</td>\n",
              "      <td>1.259821</td>\n",
              "      <td>-0.091761</td>\n",
              "      <td>1.159101</td>\n",
              "      <td>-0.124335</td>\n",
              "      <td>-0.174640</td>\n",
              "      <td>-1.644401</td>\n",
              "      <td>-1.118863</td>\n",
              "      <td>0.202647</td>\n",
              "      <td>1.145965</td>\n",
              "      <td>-1.802360</td>\n",
              "      <td>-0.247178</td>\n",
              "      <td>-0.060945</td>\n",
              "      <td>0.846606</td>\n",
              "      <td>0.379454</td>\n",
              "      <td>0.847262</td>\n",
              "      <td>0.186409</td>\n",
              "      <td>-0.207098</td>\n",
              "      <td>-0.433890</td>\n",
              "      <td>-0.261613</td>\n",
              "      <td>-0.046651</td>\n",
              "      <td>0.211512</td>\n",
              "      <td>0.008297</td>\n",
              "      <td>0.108494</td>\n",
              "      <td>0.161139</td>\n",
              "      <td>0</td>\n",
              "      <td>0.658372</td>\n",
              "      <td>-0.177738</td>\n",
              "    </tr>\n",
              "    <tr>\n",
              "      <th>255448</th>\n",
              "      <td>-0.349718</td>\n",
              "      <td>0.932619</td>\n",
              "      <td>0.142992</td>\n",
              "      <td>-0.657071</td>\n",
              "      <td>1.169784</td>\n",
              "      <td>-0.733369</td>\n",
              "      <td>1.009985</td>\n",
              "      <td>-0.071069</td>\n",
              "      <td>-0.302083</td>\n",
              "      <td>-1.192404</td>\n",
              "      <td>-0.854776</td>\n",
              "      <td>-0.620458</td>\n",
              "      <td>-0.806471</td>\n",
              "      <td>-0.770837</td>\n",
              "      <td>-0.108158</td>\n",
              "      <td>0.258964</td>\n",
              "      <td>0.492095</td>\n",
              "      <td>-0.148516</td>\n",
              "      <td>-0.148099</td>\n",
              "      <td>-0.096502</td>\n",
              "      <td>-0.271537</td>\n",
              "      <td>-0.833209</td>\n",
              "      <td>-0.030360</td>\n",
              "      <td>0.490035</td>\n",
              "      <td>-0.404816</td>\n",
              "      <td>0.134350</td>\n",
              "      <td>0.076830</td>\n",
              "      <td>0.175562</td>\n",
              "      <td>0</td>\n",
              "      <td>1.320094</td>\n",
              "      <td>-0.321945</td>\n",
              "    </tr>\n",
              "    <tr>\n",
              "      <th>244749</th>\n",
              "      <td>-1.614711</td>\n",
              "      <td>-2.406570</td>\n",
              "      <td>0.326194</td>\n",
              "      <td>0.665520</td>\n",
              "      <td>2.369268</td>\n",
              "      <td>-1.775367</td>\n",
              "      <td>-1.139049</td>\n",
              "      <td>0.329904</td>\n",
              "      <td>0.903813</td>\n",
              "      <td>-0.219013</td>\n",
              "      <td>-1.726259</td>\n",
              "      <td>-0.736771</td>\n",
              "      <td>-1.516835</td>\n",
              "      <td>0.348343</td>\n",
              "      <td>0.041437</td>\n",
              "      <td>0.732681</td>\n",
              "      <td>-1.136766</td>\n",
              "      <td>0.816653</td>\n",
              "      <td>-1.578951</td>\n",
              "      <td>0.419835</td>\n",
              "      <td>0.701399</td>\n",
              "      <td>1.134489</td>\n",
              "      <td>0.965054</td>\n",
              "      <td>0.640981</td>\n",
              "      <td>-1.801998</td>\n",
              "      <td>-1.041114</td>\n",
              "      <td>0.286285</td>\n",
              "      <td>0.437322</td>\n",
              "      <td>0</td>\n",
              "      <td>1.219742</td>\n",
              "      <td>0.034666</td>\n",
              "    </tr>\n",
              "    <tr>\n",
              "      <th>63919</th>\n",
              "      <td>-2.477184</td>\n",
              "      <td>0.860613</td>\n",
              "      <td>1.441850</td>\n",
              "      <td>1.051019</td>\n",
              "      <td>-1.856621</td>\n",
              "      <td>2.078384</td>\n",
              "      <td>0.510828</td>\n",
              "      <td>-0.243399</td>\n",
              "      <td>-0.260691</td>\n",
              "      <td>0.133040</td>\n",
              "      <td>1.551682</td>\n",
              "      <td>0.435125</td>\n",
              "      <td>-0.336022</td>\n",
              "      <td>0.278965</td>\n",
              "      <td>1.812232</td>\n",
              "      <td>0.080001</td>\n",
              "      <td>0.116347</td>\n",
              "      <td>0.291818</td>\n",
              "      <td>0.106228</td>\n",
              "      <td>-0.987790</td>\n",
              "      <td>0.810408</td>\n",
              "      <td>0.692245</td>\n",
              "      <td>0.150121</td>\n",
              "      <td>-0.260777</td>\n",
              "      <td>0.005183</td>\n",
              "      <td>-0.177847</td>\n",
              "      <td>-0.510060</td>\n",
              "      <td>-0.660533</td>\n",
              "      <td>0</td>\n",
              "      <td>-0.919236</td>\n",
              "      <td>0.838765</td>\n",
              "    </tr>\n",
              "    <tr>\n",
              "      <th>11475</th>\n",
              "      <td>1.338831</td>\n",
              "      <td>-0.547264</td>\n",
              "      <td>0.737389</td>\n",
              "      <td>-0.212383</td>\n",
              "      <td>-1.110039</td>\n",
              "      <td>-0.525744</td>\n",
              "      <td>-0.801403</td>\n",
              "      <td>-0.063672</td>\n",
              "      <td>0.997276</td>\n",
              "      <td>0.113386</td>\n",
              "      <td>0.664531</td>\n",
              "      <td>-3.282511</td>\n",
              "      <td>0.409266</td>\n",
              "      <td>1.252202</td>\n",
              "      <td>-0.868774</td>\n",
              "      <td>0.214387</td>\n",
              "      <td>1.878003</td>\n",
              "      <td>-1.906559</td>\n",
              "      <td>0.263854</td>\n",
              "      <td>-0.126871</td>\n",
              "      <td>-0.139436</td>\n",
              "      <td>-0.074719</td>\n",
              "      <td>0.067055</td>\n",
              "      <td>0.333122</td>\n",
              "      <td>0.379087</td>\n",
              "      <td>-0.268706</td>\n",
              "      <td>-0.002769</td>\n",
              "      <td>0.003272</td>\n",
              "      <td>0</td>\n",
              "      <td>-1.572827</td>\n",
              "      <td>-0.310490</td>\n",
              "    </tr>\n",
              "  </tbody>\n",
              "</table>\n",
              "</div>\n",
              "      <button class=\"colab-df-convert\" onclick=\"convertToInteractive('df-ad968f3f-dd22-4207-aa5b-6d1d7b0f5f8b')\"\n",
              "              title=\"Convert this dataframe to an interactive table.\"\n",
              "              style=\"display:none;\">\n",
              "        \n",
              "  <svg xmlns=\"http://www.w3.org/2000/svg\" height=\"24px\"viewBox=\"0 0 24 24\"\n",
              "       width=\"24px\">\n",
              "    <path d=\"M0 0h24v24H0V0z\" fill=\"none\"/>\n",
              "    <path d=\"M18.56 5.44l.94 2.06.94-2.06 2.06-.94-2.06-.94-.94-2.06-.94 2.06-2.06.94zm-11 1L8.5 8.5l.94-2.06 2.06-.94-2.06-.94L8.5 2.5l-.94 2.06-2.06.94zm10 10l.94 2.06.94-2.06 2.06-.94-2.06-.94-.94-2.06-.94 2.06-2.06.94z\"/><path d=\"M17.41 7.96l-1.37-1.37c-.4-.4-.92-.59-1.43-.59-.52 0-1.04.2-1.43.59L10.3 9.45l-7.72 7.72c-.78.78-.78 2.05 0 2.83L4 21.41c.39.39.9.59 1.41.59.51 0 1.02-.2 1.41-.59l7.78-7.78 2.81-2.81c.8-.78.8-2.07 0-2.86zM5.41 20L4 18.59l7.72-7.72 1.47 1.35L5.41 20z\"/>\n",
              "  </svg>\n",
              "      </button>\n",
              "      \n",
              "  <style>\n",
              "    .colab-df-container {\n",
              "      display:flex;\n",
              "      flex-wrap:wrap;\n",
              "      gap: 12px;\n",
              "    }\n",
              "\n",
              "    .colab-df-convert {\n",
              "      background-color: #E8F0FE;\n",
              "      border: none;\n",
              "      border-radius: 50%;\n",
              "      cursor: pointer;\n",
              "      display: none;\n",
              "      fill: #1967D2;\n",
              "      height: 32px;\n",
              "      padding: 0 0 0 0;\n",
              "      width: 32px;\n",
              "    }\n",
              "\n",
              "    .colab-df-convert:hover {\n",
              "      background-color: #E2EBFA;\n",
              "      box-shadow: 0px 1px 2px rgba(60, 64, 67, 0.3), 0px 1px 3px 1px rgba(60, 64, 67, 0.15);\n",
              "      fill: #174EA6;\n",
              "    }\n",
              "\n",
              "    [theme=dark] .colab-df-convert {\n",
              "      background-color: #3B4455;\n",
              "      fill: #D2E3FC;\n",
              "    }\n",
              "\n",
              "    [theme=dark] .colab-df-convert:hover {\n",
              "      background-color: #434B5C;\n",
              "      box-shadow: 0px 1px 3px 1px rgba(0, 0, 0, 0.15);\n",
              "      filter: drop-shadow(0px 1px 2px rgba(0, 0, 0, 0.3));\n",
              "      fill: #FFFFFF;\n",
              "    }\n",
              "  </style>\n",
              "\n",
              "      <script>\n",
              "        const buttonEl =\n",
              "          document.querySelector('#df-ad968f3f-dd22-4207-aa5b-6d1d7b0f5f8b button.colab-df-convert');\n",
              "        buttonEl.style.display =\n",
              "          google.colab.kernel.accessAllowed ? 'block' : 'none';\n",
              "\n",
              "        async function convertToInteractive(key) {\n",
              "          const element = document.querySelector('#df-ad968f3f-dd22-4207-aa5b-6d1d7b0f5f8b');\n",
              "          const dataTable =\n",
              "            await google.colab.kernel.invokeFunction('convertToInteractive',\n",
              "                                                     [key], {});\n",
              "          if (!dataTable) return;\n",
              "\n",
              "          const docLinkHtml = 'Like what you see? Visit the ' +\n",
              "            '<a target=\"_blank\" href=https://colab.research.google.com/notebooks/data_table.ipynb>data table notebook</a>'\n",
              "            + ' to learn more about interactive tables.';\n",
              "          element.innerHTML = '';\n",
              "          dataTable['output_type'] = 'display_data';\n",
              "          await google.colab.output.renderOutput(dataTable, element);\n",
              "          const docLink = document.createElement('div');\n",
              "          docLink.innerHTML = docLinkHtml;\n",
              "          element.appendChild(docLink);\n",
              "        }\n",
              "      </script>\n",
              "    </div>\n",
              "  </div>\n",
              "  "
            ],
            "text/plain": [
              "              V1        V2        V3  ...  Class  Time_std  Amount_std\n",
              "183484 -0.323334  1.057455 -0.048341  ...      0  0.658372   -0.177738\n",
              "255448 -0.349718  0.932619  0.142992  ...      0  1.320094   -0.321945\n",
              "244749 -1.614711 -2.406570  0.326194  ...      0  1.219742    0.034666\n",
              "63919  -2.477184  0.860613  1.441850  ...      0 -0.919236    0.838765\n",
              "11475   1.338831 -0.547264  0.737389  ...      0 -1.572827   -0.310490\n",
              "\n",
              "[5 rows x 31 columns]"
            ]
          },
          "metadata": {},
          "execution_count": 57
        }
      ],
      "source": [
        "# padronizando variáveis\n",
        "dados_new['Time_std'] = scaler.fit_transform(dados_new['Time'].values.reshape(-1,1))\n",
        "dados_new['Amount_std'] = scaler.fit_transform(dados_new['Amount'].values.reshape(-1,1))\n",
        "\n",
        "# deletandos colunas \"despadronizadas\"\n",
        "dados_new.drop(['Time', 'Amount'], axis=1, inplace= True)\n",
        "dados_new.head()"
      ]
    },
    {
      "cell_type": "markdown",
      "source": [
        "Sepramos os dados, pois uma previsão com novos dados o que queremos é \"descobrir\" o valor de *y*."
      ],
      "metadata": {
        "id": "TLhVli_e1Fyj"
      }
    },
    {
      "cell_type": "code",
      "execution_count": 58,
      "metadata": {
        "id": "_EvN--eYzWy_"
      },
      "outputs": [],
      "source": [
        "X_new = dados_new.drop(columns= 'Class', axis= 1)\n",
        "y_new = dados_new['Class']"
      ]
    },
    {
      "cell_type": "markdown",
      "source": [
        "Do modelo escolhido, o que entregou melhor **AUC**, iremos prever qual a variável alvo, ou seja, se a transação seria uma **fraude** ou **genuína**."
      ],
      "metadata": {
        "id": "vD7UCCLw1VtS"
      }
    },
    {
      "cell_type": "code",
      "execution_count": 59,
      "metadata": {
        "id": "zLpz7OUnzXMN"
      },
      "outputs": [],
      "source": [
        "y_pred_new = modelo_RL_3.predict(X_new)"
      ]
    },
    {
      "cell_type": "markdown",
      "source": [
        "Para novos dados não teremos a variável **y**, pois é ela que queremos prever. Na prática, após o modelo ter sido treinado, validado, atendido ao escopo com que foi criado, o modelo passa a ser usado no dia-a-dia. Passa a fazer as previsões, natural não termos a varíavel target nos novos dados. Didaticamente, como reservamos 15% do dataSet original, podemos ver também a performance nesses dados novos."
      ],
      "metadata": {
        "id": "LfP0OZDq6Bqs"
      }
    },
    {
      "cell_type": "code",
      "source": [
        "print('AUC_RL_3: {:.4f}\\n'.format(roc_auc_score(y_new, y_pred_new)))\n",
        "print(confusion_matrix(y_new, y_pred_new))"
      ],
      "metadata": {
        "colab": {
          "base_uri": "https://localhost:8080/"
        },
        "id": "FMBdZ_4PlnXY",
        "outputId": "7b3234de-aed9-424e-b101-ce5aef731b03"
      },
      "execution_count": 60,
      "outputs": [
        {
          "output_type": "stream",
          "name": "stdout",
          "text": [
            "AUC_RL_3: 0.9584\n",
            "\n",
            "[[41402  1245]\n",
            " [    4    70]]\n"
          ]
        }
      ]
    },
    {
      "cell_type": "markdown",
      "source": [
        "Com esses novos dados modelo continua com uma performance boa."
      ],
      "metadata": {
        "id": "MA1qD2nH7Dw8"
      }
    },
    {
      "cell_type": "markdown",
      "metadata": {
        "id": "3nBN3_n59lD8"
      },
      "source": [
        "## **7. Bibliografia**\n",
        "\n",
        "\n",
        "*   https://valor.globo.com/empresas/noticia/2021/11/09/black-friday-as-taticas-dos-criminosos-para-roubar-os-seus-dados.ghtml\n",
        "*   https://epocanegocios.globo.com/Empresa/noticia/2021/10/fraude-no-cartao-e-o-maior-medo-dos-brasileiros.html\n",
        "\n",
        "*   https://cndl.org.br/politicaspublicas/mais-de-12-milhoes-de-consumidores-sofreram-alguma-fraude-financeira-nos-ultimos-12-meses-aponta-pesquisa-cndl-spc-brasil/#:~:text=maior%20de%20pessoas.-,De%20acordo%20com%20uma%20pesquisa%20da%20Confedera%C3%A7%C3%A3o%20Nacional%20de%20Dirigentes,12%2C1%20milh%C3%B5es%20de%20pessoas.\n",
        "\n",
        "\n"
      ]
    },
    {
      "cell_type": "code",
      "execution_count": 60,
      "metadata": {
        "id": "j64si09_-D-B"
      },
      "outputs": [],
      "source": [
        ""
      ]
    }
  ],
  "metadata": {
    "colab": {
      "collapsed_sections": [
        "jf2_Upz0Spi_"
      ],
      "name": "[Template_Classificador_Buso] Detecção de Fraude em Cartões de Crédito.ipynb",
      "provenance": [],
      "toc_visible": true,
      "include_colab_link": true
    },
    "kernelspec": {
      "display_name": "Python 3 (ipykernel)",
      "language": "python",
      "name": "python3"
    },
    "language_info": {
      "codemirror_mode": {
        "name": "ipython",
        "version": 3
      },
      "file_extension": ".py",
      "mimetype": "text/x-python",
      "name": "python",
      "nbconvert_exporter": "python",
      "pygments_lexer": "ipython3",
      "version": "3.8.8"
    }
  },
  "nbformat": 4,
  "nbformat_minor": 0
}