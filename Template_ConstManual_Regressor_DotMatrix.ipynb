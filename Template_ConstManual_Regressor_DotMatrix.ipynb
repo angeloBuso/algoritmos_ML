{
  "nbformat": 4,
  "nbformat_minor": 0,
  "metadata": {
    "kernelspec": {
      "display_name": "Python 3",
      "language": "python",
      "name": "python3"
    },
    "language_info": {
      "codemirror_mode": {
        "name": "ipython",
        "version": 3
      },
      "file_extension": ".py",
      "mimetype": "text/x-python",
      "name": "python",
      "nbconvert_exporter": "python",
      "pygments_lexer": "ipython3",
      "version": "3.8.5"
    },
    "colab": {
      "name": "Template-ConstManual-Regressor-DotMatrix.ipynb",
      "provenance": [],
      "toc_visible": true,
      "include_colab_link": true
    }
  },
  "cells": [
    {
      "cell_type": "markdown",
      "metadata": {
        "id": "view-in-github",
        "colab_type": "text"
      },
      "source": [
        "<a href=\"https://colab.research.google.com/github/angeloBuso/algoritmos_ML/blob/main/Template_ConstManual_Regressor_DotMatrix.ipynb\" target=\"_parent\"><img src=\"https://colab.research.google.com/assets/colab-badge.svg\" alt=\"Open In Colab\"/></a>"
      ]
    },
    {
      "cell_type": "markdown",
      "metadata": {
        "id": "kQ-MZfsaAuZ-"
      },
      "source": [
        "<img alt=\"Imagem\" width=\"100%\" src=\"https://raw.githubusercontent.com/angeloBuso/angeloBuso/main/image/Imagem2-notebook.png\">\n",
        "\n",
        "---\n",
        "## Template construção regressor Linear - Linear Mode <a class=\"anchor\" id=\"0.1\"></a>\n",
        "\n",
        "# **Índice**\n",
        "1.\t[Compreensão Problema de Negócio](#1)\n",
        "    - 1.1. [Dicionário dados](#1.1)\n",
        "2.\t[Coleta Dados](#2)\n",
        "    - 2.1. [Carga dados](#2.1)\n",
        "3.\t[Análise Exploratória](#3)\n",
        "    - 3.1 [Visão Geral dataSet](#3.1)\n",
        "        - a [Pandas Profile Report](#a)\n",
        "4. [Pré-Processamento dados](#4)\n",
        "    - 4.1 [Transformação de Atributos](#4.1)\n",
        "5. [Seleção Algoritmo](#5)\n",
        "    - 5.1. [(i) Construção do Algoritmo](#5.1.i)\n",
        "        - 5.1.1 [criando parâmetros](#5.1.1.i)\n",
        "        - 5.1.2 [Fit do Modelo](#5.1.2.i)\n",
        "        - 5.1.3 [Predict do Modelo](#5.1.3.i)\n",
        "            - 5.1.3.1 [Plotando regra de regressão ](#5.1.3.1.i)\n",
        "    - 5.2. [(ii) Stats Models](#5.2.ii)\n",
        "        - 5.2.1 [Modelo](#5.2.1.ii)\n",
        "        - 5.2.2 [Fit do Modelo](#5.2.2.ii)\n",
        "        - 5.2.3 [Predict do Modelo](#5.2.3.ii)"
      ]
    },
    {
      "cell_type": "code",
      "metadata": {
        "colab": {
          "base_uri": "https://localhost:8080/"
        },
        "id": "j8Qr_HQ1AuaE",
        "outputId": "9244efbb-c8df-44c2-89b6-e6f82c77a34b"
      },
      "source": [
        "# Bibliotecas usadas no projeto\n",
        "\n",
        "import numpy as np\n",
        "import pandas as pd\n",
        "%matplotlib inline\n",
        "import matplotlib.pyplot as plt\n",
        "import warnings\n",
        "import statsmodels.formula.api as smf\n",
        "from matplotlib import style\n",
        "warnings.filterwarnings('ignore')"
      ],
      "execution_count": 1,
      "outputs": [
        {
          "output_type": "stream",
          "text": [
            "/usr/local/lib/python3.7/dist-packages/statsmodels/tools/_testing.py:19: FutureWarning: pandas.util.testing is deprecated. Use the functions in the public API at pandas.testing instead.\n",
            "  import pandas.util.testing as tm\n"
          ],
          "name": "stderr"
        }
      ]
    },
    {
      "cell_type": "markdown",
      "metadata": {
        "id": "-skop87JAuaF"
      },
      "source": [
        "## **1. Compreensão Problema de Negócio** <a class=\"anchor\" id=\"1\"></a>\n",
        "\n",
        "**Matrizes** na matemática é a forma de representar conjunto de informações dispostos entre linhas e colunas, sendo $ A_{mxn} $, onde A: representa a matriz; ***m*** é a quantidade de linhas e ***n*** é a quantidade de colunas. Ou seja, é a forma tabular de representar os dados, sendo que cada elemento possui um endereço único, composto pelo cruzamento entre a linha (*i*) e coluna (*j*) $ a_{ij} $.\n",
        "\n",
        "**Operações com matrizes** são muito úteis para soluções de **sistemas de equações** complexos. Em **ciência de dados**, cálculos com matrizes são muito usados para multiplicar valores de entrada e saídas. Além de serem úteis no treinamento de redes neurais profundas, que de forma simplista **deep learning** é a multiplicação das matrizes de *dados de entradas* com os *pesos*. Sem mencionar o fato de que com matrizes, podemos representar nossos dataSet's de forma tabular, com seus registros (linhas) e atributos (colunas).\n",
        "\n",
        "Objetivo desse notebook é mostrar como as matrizes são responsáveis para encontrar os **coeficientes** de algoritmos que usam a **Regressão Linear**. Ou seja, a matemática de um modelo de regressor, usando apenas cálculos com matrizes.\n",
        "\n",
        "Antes de começar apenas uma breve explicação de como funciona um modelo regressor, se tratando de regressão simples e aprendizagem supervisionada!!\n",
        "\n",
        "Em problemas de regressão, busca-se prever valores numéricos e considerando aprendizagem supervisioada, onde tenho dados de entrada (X) e dados de saída (Y), algoritmos regressores aprendem qual os melhores **pares de parâmetros/coeficiente** que define uma **reta de regressão**. Com esta reta de regressão, dado um novo valor de entrada, conseguimos saber qual seu correspondente, logo a reta de regressão é o nosso modelo *modelo preditivo*.\n",
        "\n",
        "\n",
        "Nesse notebook, usaremos as multiplicação de **matrizes** para encontrar os melhores parâmetros $b_0$ e $b_1$ que satisfaça a equação linear, $ Y= b_0 + b_1*X $ , dado que é conhecido apenas o **Y** e o **X**.\n",
        "\n",
        "\n",
        "\n",
        "[Índice](#0.1)"
      ]
    },
    {
      "cell_type": "markdown",
      "metadata": {
        "id": "jqnQ-T4BAuaG"
      },
      "source": [
        "### **1.1 Dicionário dados** <a class=\"anchor\" id=\"1.1\"></a>\n",
        "\n",
        "\n",
        "[Índice](#0.1)"
      ]
    },
    {
      "cell_type": "markdown",
      "metadata": {
        "id": "S7FqKmegAuaH"
      },
      "source": [
        "## **2. Coleta Dados** <a class=\"anchor\" id=\"2\"></a>\n",
        "\n",
        "Para esse projeto, apenas didaticamente, usaremos dados gerados aleatórios. Onde:\n",
        "\n",
        "    * X será os dados de entrada, variável explanatória\n",
        "    * Y são os dados de saída, o resultado.\n",
        "    \n",
        "Apenas para reforçar conceitos, o objetivo de usar dados histórico e apresentar aos modelos os dados de entrada e suas respectivas saídas, é a possibilidade dos algoritmos identificarem a relação entre esses dados e completar a equação $ Y= b_0 + b_1*X $.\n",
        "\n",
        "Neste exemplo o **X** poderia ser o preço de uma ação de empresas listada na B3 - Bolsa de Valores Brasileira e **Y** a quantidade de vezes que essa ação e mencionada nas redes sociais. Aplicabilidade é muito ampla!!!\n",
        "\n",
        "[Índice](#0.1)"
      ]
    },
    {
      "cell_type": "markdown",
      "metadata": {
        "id": "jVuiv16mAuaI"
      },
      "source": [
        "### **2.1 Carga dados** <a class=\"anchor\" id=\"2.1\"></a>\n",
        "DICA: até 3 dimensões PANDAS (1Series, 2DataFrame e 3Panel); acima 3 dim NUMPY (nparray)\n",
        "\n",
        "[Índice](#0.1)"
      ]
    },
    {
      "cell_type": "code",
      "metadata": {
        "id": "1UwVZVoiAuaI"
      },
      "source": [
        "# Gerando 200 observaççoes de dados aelatórios\n",
        "obs = 200\n",
        "\n",
        "# X -> Dados de entrada\n",
        "X = np.linspace(-2, 2, num= obs)\n",
        "\n",
        "# Y -> Dados saída (adicionamos, de forma randômica, nos dados de entrada uma distribuição normal méd=0 e desv= 1)\n",
        "Y = X + np.random.normal(0,1, size= obs)"
      ],
      "execution_count": 2,
      "outputs": []
    },
    {
      "cell_type": "markdown",
      "metadata": {
        "id": "_MEQKnxzAuaJ"
      },
      "source": [
        "## 3. Análise Exploratória <a class=\"anchor\" id=\"3\"></a>\n",
        "\n",
        "\n",
        "### 3.1 Visão Geral dataSet **<a class=\"anchor\" id=\"3.1\"></a>\n",
        "Estatística Descritiva:*tipo Objeto; *tipo Dados; *shape - !Dimensionalidade; *Indices; *describe dados\n",
        "\n",
        "[Índice](#0.1)"
      ]
    },
    {
      "cell_type": "markdown",
      "metadata": {
        "id": "ntA4P6q0AuaL"
      },
      "source": [
        "Os dados são vetores"
      ]
    },
    {
      "cell_type": "code",
      "metadata": {
        "colab": {
          "base_uri": "https://localhost:8080/"
        },
        "id": "JC4Oxr8vAuaM",
        "outputId": "dac6073b-08fd-4efe-c868-2bbcadeb2909"
      },
      "source": [
        "print('vetor de X', X.shape)\n",
        "print('vetor de Y', Y.shape)"
      ],
      "execution_count": 3,
      "outputs": [
        {
          "output_type": "stream",
          "text": [
            "vetor de X (200,)\n",
            "vetor de Y (200,)\n"
          ],
          "name": "stdout"
        }
      ]
    },
    {
      "cell_type": "markdown",
      "metadata": {
        "id": "p63JLoFjAuaN"
      },
      "source": [
        "De forma visual, identificamos como estão dispersos os dados"
      ]
    },
    {
      "cell_type": "code",
      "metadata": {
        "colab": {
          "base_uri": "https://localhost:8080/",
          "height": 264
        },
        "id": "28DaRTUDAuaO",
        "outputId": "d9c35df2-8996-4971-9c5e-991243756eeb"
      },
      "source": [
        "style.use('ggplot')\n",
        "plt.plot(X, Y, '*', label= 'Dados')\n",
        "plt.legend(loc= 'upper left', bbox_to_anchor= (1,1));"
      ],
      "execution_count": 4,
      "outputs": [
        {
          "output_type": "display_data",
          "data": {
            "image/png": "[encoded data removed]",
            "text/plain": [
              "<Figure size 432x288 with 1 Axes>"
            ]
          },
          "metadata": {
            "tags": []
          }
        }
      ]
    },
    {
      "cell_type": "markdown",
      "metadata": {
        "id": "HJ9P60J5AuaO"
      },
      "source": [
        "Exercitando a interpretação, a medida que o eixo X (horizontal) aumenta, observa-se uma correlação positiva do eixo Y (vertical)."
      ]
    },
    {
      "cell_type": "markdown",
      "metadata": {
        "id": "lGOsF5rTAuaP"
      },
      "source": [
        "## Pandas Profile Report <a class=\"anchor\" id=\"a\"></a>\n",
        "[Índice](#0.1)"
      ]
    },
    {
      "cell_type": "code",
      "metadata": {
        "scrolled": true,
        "id": "7pP6YkKzAuaP"
      },
      "source": [
        "#pp.ProfileReport(df)"
      ],
      "execution_count": 5,
      "outputs": []
    },
    {
      "cell_type": "markdown",
      "metadata": {
        "id": "7tFddZWjAuaP"
      },
      "source": [
        "## 4. Pré-Processamento dados <a class=\"anchor\" id=\"4\"></a>\n",
        "Muitos algoritmos esperam receber os dados em um formato específico. É seu trabalho preparar os dados em uma estrutura que seja adequada ao algoritmo que você está utilizando.\n",
        "\n",
        "É muito provável que você tenha que realizar tarefas de pré-processamento nos dados. Esse é um passo necessário dentro do processo. O desafio é o fato que cada algoritmo requer uma estrutura diferente, o que pode requerer transformações diferentes nos dados. Mas é possível em alguns casos, obter bons resultados sem um trabalho de pré-processamento. Mas é uma boa prática criar diferentes visões e transformações dos dados, de modo a poder testar diferentes algoritmos de Machine Learning.\n",
        "\n",
        "Para este notebook vamos (i.) excluir do nosso conjunto de dados os atributos que não usaremos, (ii.) identificar as variáveis preditoras e a variável alvo, (iii.) visualizar como estão dispostos os preditores e (iv.) dividir conjunto de dados em variáveis independentes e variável dependente para separar entre dados de treino e dados de teste.\n",
        "\n",
        "[Índice](#0.1)"
      ]
    },
    {
      "cell_type": "markdown",
      "metadata": {
        "id": "hlbuSH2fAuaQ"
      },
      "source": [
        "### 4.1 Transformação de Atributos <a class=\"anchor\" id=\"4.1\"></a>\n",
        "\n",
        "Etapa na qual transformamos os atributos para o formato que os algortimos esperam receber, verificação de valores Missing, alteração do tipo de dados na carga, entre outos.\n",
        "\n",
        "Dicas:\n",
        "\n",
        "ALTERAR NOMES DE COLUNAS:  \n",
        "* i. (a) crio uma lista com nomes, (b) aplico usando o atributo .columns, atribuindo a lista de nomes\n",
        "* ii. dados = dados.rename(columns={'OldName': 'NewOld', 'OldName': 'NewOld'})\n",
        "\n",
        "ALTERANDO INDICES:\n",
        "* dataSet.set_index('Coluna', (se data)inplace = True)\n",
        "\n",
        "INCLUINDO NOVA COLUNA:\n",
        "* i. dataSet[novacoluna]= dataSet[coluna].map(lambda x: função)\n",
        "* ii. dataSet[novacoluna] = dataSet.ColunaExistente.map(funçãoqueCriou)\n",
        "                           \n",
        "EXCLUSÃO ATRIBUTO SEM RELEVÂNCIA:\n",
        "* data= data.drop(columns= (vetor de colunas à exluir))\n",
        "\n",
        "TRANSFORMANDO STRING EM NÚMEROS / VICE-VERSA:\n",
        "* i. dict = {'no':0,'yes':1}\n",
        "* ii. dataSet[coluna] = dataSet[coluna].map(dict)\n",
        "\n",
        "\n",
        "[Índice](#0.1)"
      ]
    },
    {
      "cell_type": "markdown",
      "metadata": {
        "id": "KbrVEFoFAuaQ"
      },
      "source": [
        "Como o escopo do projeto é o uso de **matrizes**, iremos transformar nossos vetores de dados no formato desejado."
      ]
    },
    {
      "cell_type": "code",
      "metadata": {
        "id": "jJd3aUPFAuaQ"
      },
      "source": [
        "# vetor que contém o 'bias' - viés. Para uso de matrizes tal atributo auxilia na linearidade e previsão do modelo\n",
        "bias = np.ones(obs)"
      ],
      "execution_count": 6,
      "outputs": []
    },
    {
      "cell_type": "markdown",
      "metadata": {
        "id": "x72F2DkVAuaR"
      },
      "source": [
        "Construindo a Matriz de entrada, que será uma **matriz aumentada** do vetor de entrada **X** e o vetor **bias**"
      ]
    },
    {
      "cell_type": "code",
      "metadata": {
        "colab": {
          "base_uri": "https://localhost:8080/"
        },
        "id": "Df9llWlVAuaR",
        "outputId": "3cf6b005-6b52-446d-cba6-73f621700ca7"
      },
      "source": [
        "X_matriz = np.matrix(np.column_stack((X, bias)))\n",
        "print('X agora é uma matriz com {} linhas e {} colunas'.format(X_matriz.shape[0], X_matriz.shape[1]))"
      ],
      "execution_count": 7,
      "outputs": [
        {
          "output_type": "stream",
          "text": [
            "X agora é uma matriz com 200 linhas e 2 colunas\n"
          ],
          "name": "stdout"
        }
      ]
    },
    {
      "cell_type": "markdown",
      "metadata": {
        "id": "g3YfTKZxAuaR"
      },
      "source": [
        "Construindo a matriz de saída. Representamos pela transposta para organizar os dados em linhas "
      ]
    },
    {
      "cell_type": "code",
      "metadata": {
        "colab": {
          "base_uri": "https://localhost:8080/"
        },
        "id": "NXoYCMHcAuaS",
        "outputId": "1bc526b3-6676-42d0-f4b8-8d54474b6505"
      },
      "source": [
        "Y_matriz = np.transpose(np.matrix(Y))\n",
        "print('Y agora é uma matriz com {} linhas e {} colunas'.format(Y_matriz.shape[0], Y_matriz.shape[1]))"
      ],
      "execution_count": 8,
      "outputs": [
        {
          "output_type": "stream",
          "text": [
            "Y agora é uma matriz com 200 linhas e 1 colunas\n"
          ],
          "name": "stdout"
        }
      ]
    },
    {
      "cell_type": "markdown",
      "metadata": {
        "id": "mkEPs11oAuaS"
      },
      "source": [
        "## 5. Seleção Algoritmo <a class=\"anchor\" id=\"5\"></a> \n",
        "\n",
        "Como os **Regressores** funcionam?\n",
        "\n",
        "Em problemas de regressão, onde se busca prever valores numéricos e considerando aprendizagem supervisioada, onde tem-se dados de entrada (X) e dados de saída (Y), algoritmos regressores **aprendem** qual os melhores **pares de parâmetros/coeficiente** que define a melhor **reta de regressão** e satisfaça a seguinte equação $ Y= b_0 + b_1*X $ . Para tal, como no início do aprendizado não se sabe os valores desses parâmetros/coeficientes ($b_0$ e $b_1$ - regressão simples) os algoritmos podem usar técnicas de **(a.)** multiplicação entre matrizes, considerando *matrizes aumentadas*, *escalonamento de matrizes* e *matrizes inversas* e **(b.)** método dos Mínimos Quadrados, que minimizará a soma das distâncias ao quadrado dos pontos de (X,Y) da reta de regressão prevista (^Y).\n",
        "\n",
        "Para nosso propósito usaremos a técnica com matrizes para demonstrar o calculo dos parâmetros. Em seguida, usando um algoritmo de framework StatsModel (biblioteca estatísticas)\n",
        "\n",
        "[Índice](#0.1)"
      ]
    },
    {
      "cell_type": "markdown",
      "metadata": {
        "id": "RjegSaEZAuaS"
      },
      "source": [
        "## 5.1 (i) - Construção do Algoritmo <a class=\"anchor\" id=\"5.1.i\"></a>\n",
        "\n",
        "Um modelo de ML é o uso iterativo de operações aninhadas de matemática e estatística, com uso intensivo de ciências da computação.\n",
        "\n",
        "[Índice](#0.1)"
      ]
    },
    {
      "cell_type": "markdown",
      "metadata": {
        "id": "iLb9mPjPAuaT"
      },
      "source": [
        "#### 5.1.1 criando parâmetros <a class=\"anchor\" id=\"5.1.1.i\"></a>\n",
        "Com as matrizes a devidamente criadas e aumentadas, iremos utilizar a **multiplicação de matrizes** para escaloná-las.\n",
        "\n",
        "Cabe destacar a regra básica para **multiplicação matricial**:\n",
        "* Multiplicação matricial é o somatório da multiplicação entre *linhas* da 1° matriz pelas *colunas* da 2° matriz.\n",
        "* O número de colunas da matriz da esquerda **deve** ser igual ao número de linhas da matriz da direita\n",
        "* O output da multiplicação será uma matriz de tamanho $mxn$, sendo m= quantidade linhas da 1° matriz e n= quantidade colunas 2° matriz.\n",
        "\n",
        "[Índice](#0.1)"
      ]
    },
    {
      "cell_type": "code",
      "metadata": {
        "colab": {
          "base_uri": "https://localhost:8080/"
        },
        "id": "uIJQcp9KAuaT",
        "outputId": "370d4650-0392-41b3-c94e-0d3e00e7d21e"
      },
      "source": [
        "# matriz aumentada de entrada escalonada -> atendida regra 2 de multiplicação \n",
        "X_matriz_esc = X_matriz.transpose().dot(X_matriz)\n",
        "X_matriz_esc"
      ],
      "execution_count": 9,
      "outputs": [
        {
          "output_type": "execute_result",
          "data": {
            "text/plain": [
              "matrix([[269.34673367,   0.        ],\n",
              "        [  0.        , 200.        ]])"
            ]
          },
          "metadata": {
            "tags": []
          },
          "execution_count": 9
        }
      ]
    },
    {
      "cell_type": "code",
      "metadata": {
        "colab": {
          "base_uri": "https://localhost:8080/"
        },
        "id": "H3rmpTIGAuaU",
        "outputId": "7874baef-79dd-4682-b516-909110b5655e"
      },
      "source": [
        "# matriz de saída escalonada -> atendida regra 2 de multiplicação \n",
        "Y_matriz_esc = X_matriz.transpose().dot(Y_matriz)\n",
        "Y_matriz_esc"
      ],
      "execution_count": 10,
      "outputs": [
        {
          "output_type": "execute_result",
          "data": {
            "text/plain": [
              "matrix([[288.66357163],\n",
              "        [-18.42834924]])"
            ]
          },
          "metadata": {
            "tags": []
          },
          "execution_count": 10
        }
      ]
    },
    {
      "cell_type": "markdown",
      "metadata": {
        "id": "KlKOiKiXAuaU"
      },
      "source": [
        "#### 5.1.2 treino modelo (.fit) <a class=\"anchor\" id=\"5.1.2.i\"></a>\n",
        "É a matriz determinante, dada pelo produto da multiplicação matricial da inversa das matrizes escalonada. \n",
        "\n",
        "[Índice](#0.1)"
      ]
    },
    {
      "cell_type": "code",
      "metadata": {
        "id": "E_4XiQcdAuaV"
      },
      "source": [
        "coeficientes= np.linalg.inv(X_matriz_esc).dot(Y_matriz_esc).tolist()\n",
        "b1, b0 = coeficientes"
      ],
      "execution_count": 11,
      "outputs": []
    },
    {
      "cell_type": "code",
      "metadata": {
        "colab": {
          "base_uri": "https://localhost:8080/"
        },
        "id": "HSnLAskEAuaV",
        "outputId": "cf7e0e3c-3e3f-4293-9fa5-50e952155e9c"
      },
      "source": [
        "%timeit coeficientes= np.linalg.inv(X_matriz_esc).dot(Y_matriz_esc).tolist()"
      ],
      "execution_count": 12,
      "outputs": [
        {
          "output_type": "stream",
          "text": [
            "The slowest run took 27.70 times longer than the fastest. This could mean that an intermediate result is being cached.\n",
            "10000 loops, best of 5: 22.2 µs per loop\n"
          ],
          "name": "stdout"
        }
      ]
    },
    {
      "cell_type": "code",
      "metadata": {
        "colab": {
          "base_uri": "https://localhost:8080/"
        },
        "id": "wUjPuOIjAuaV",
        "outputId": "4cba2631-0543-4d74-a360-0a1d6948a1db"
      },
      "source": [
        "print('A função linear é Y^= {} + {}*X'.format(round(b0[0],2),round(b1[0],2)))"
      ],
      "execution_count": 13,
      "outputs": [
        {
          "output_type": "stream",
          "text": [
            "A função linear é Y^= -0.09 + 1.07*X\n"
          ],
          "name": "stdout"
        }
      ]
    },
    {
      "cell_type": "markdown",
      "metadata": {
        "id": "DnuDJAp5AuaW"
      },
      "source": [
        "#### 5.1.3 teste modelo (.predict) <a class=\"anchor\" id=\"5.1.3.i\"></a>\n",
        "\n",
        "Com o modelo treinado, identificamos os **melhores** valores dos coeficientes. Com a equação montada conseguimos encontrar/prever o valor de **Y**, usando valores de entrada **X**.\n",
        "\n",
        "[Índice](#0.1)"
      ]
    },
    {
      "cell_type": "code",
      "metadata": {
        "id": "82yu6SdDAuaW"
      },
      "source": [
        "# previsão = o resultado da equação linear \n",
        "y_pred = b0[0] + b1[0] * X"
      ],
      "execution_count": 14,
      "outputs": []
    },
    {
      "cell_type": "markdown",
      "metadata": {
        "id": "LdCeNHPHAuaW"
      },
      "source": [
        "##### 5.1.3.1 Plotando regra de regressão <a class=\"anchor\" id=\"5.1.3.1.i\"></a>\n",
        "\n",
        "[Índice](#0.1)"
      ]
    },
    {
      "cell_type": "code",
      "metadata": {
        "colab": {
          "base_uri": "https://localhost:8080/",
          "height": 264
        },
        "id": "DN9Rr9vPAuaW",
        "outputId": "9fedf47b-00d9-4530-c92a-8336ccedb07b"
      },
      "source": [
        "style.use('ggplot')\n",
        "plt.plot(X, Y, '*', label= 'Dados')\n",
        "plt.plot(X, y_pred, 'b', color= 'blue', label= 'Reta Regressão')\n",
        "plt.legend(loc= 'upper left', bbox_to_anchor= (1,1));"
      ],
      "execution_count": 15,
      "outputs": [
        {
          "output_type": "display_data",
          "data": {
            "image/png": "[encoded data removed]",
            "text/plain": [
              "<Figure size 432x288 with 1 Axes>"
            ]
          },
          "metadata": {
            "tags": []
          }
        }
      ]
    },
    {
      "cell_type": "markdown",
      "metadata": {
        "id": "_mDJ48N7AuaX"
      },
      "source": [
        "## 5.2 (ii) - Stats Models <a class=\"anchor\" id=\"5.2.ii\"></a>\n",
        "\n",
        "É uma biblioteca Python que fornece classes e funções para a **estimativa** de muitos modelos estatísticos diferentes, bem como para a realização de testes estatísticos e exploração de dados estatísticos. Ou seja, todas as operações matemáticas e estatísticas, de uma forma bem mais performática.\n",
        "\n",
        "O algoritmo regressor da biblioteca espera receber um dataFrame como entrada, logo usaremos matrizes para converter em um dataFrame\n",
        "\n",
        "[Índice](#0.1)"
      ]
    },
    {
      "cell_type": "code",
      "metadata": {
        "id": "pXA5bjt3AuaX"
      },
      "source": [
        "# convertendo os vetores em matrizes 200[linhas] x 1[colunas]\n",
        "X_SM = np.transpose(np.matrix(X))\n",
        "Y_SM = np.transpose(np.matrix(Y))\n",
        "\n",
        "# agrupando as duas matrizes em uma com 200[linhas] x 2[colunas]\n",
        "df_SM = np.column_stack((X_SM, Y_SM))\n",
        "\n",
        "# convertendo em um objeto tipo dateFrame\n",
        "df = pd.DataFrame(df_SM)\n",
        "df = df.rename(columns={0: 'X', 1: 'Y'})"
      ],
      "execution_count": 16,
      "outputs": []
    },
    {
      "cell_type": "markdown",
      "metadata": {
        "id": "ILOefZcmAuaX"
      },
      "source": [
        "#### 5.2.1 criar modelo <a class=\"anchor\" id=\"5.2.1.ii\"></a>\n",
        "\n",
        "[Índice](#0.1)"
      ]
    },
    {
      "cell_type": "code",
      "metadata": {
        "id": "-yjyjXpHAuaY"
      },
      "source": [
        "regressor = smf.ols(formula = 'Y ~ X', data= df)"
      ],
      "execution_count": 17,
      "outputs": []
    },
    {
      "cell_type": "markdown",
      "metadata": {
        "id": "H6XmsgyKAuaY"
      },
      "source": [
        "#### 5.2.2 treino modelo (.fit) <a class=\"anchor\" id=\"5.2.2.ii\"></a>\n",
        "\n",
        "\n",
        "[Índice](#0.1)"
      ]
    },
    {
      "cell_type": "code",
      "metadata": {
        "id": "OlhEq-VEAuaY"
      },
      "source": [
        "modelo = regressor.fit()"
      ],
      "execution_count": 18,
      "outputs": []
    },
    {
      "cell_type": "code",
      "metadata": {
        "colab": {
          "base_uri": "https://localhost:8080/"
        },
        "id": "m9mAhtvQAuaY",
        "outputId": "a0e4dd0f-0721-4a03-d7e3-7b1d8a98a9e9"
      },
      "source": [
        "%timeit modelo = regressor.fit()"
      ],
      "execution_count": 19,
      "outputs": [
        {
          "output_type": "stream",
          "text": [
            "The slowest run took 11.55 times longer than the fastest. This could mean that an intermediate result is being cached.\n",
            "100000 loops, best of 5: 7.49 µs per loop\n"
          ],
          "name": "stdout"
        }
      ]
    },
    {
      "cell_type": "markdown",
      "metadata": {
        "id": "6qES4yqxAuaZ"
      },
      "source": [
        "#### 5.2.3 teste modelo (.predict) <a class=\"anchor\" id=\"5.2.3.ii\"></a>\n",
        "\n",
        "\n",
        "[Índice](#0.1)"
      ]
    },
    {
      "cell_type": "code",
      "metadata": {
        "colab": {
          "base_uri": "https://localhost:8080/"
        },
        "id": "TcRziJzyAuaZ",
        "outputId": "503677fb-718b-4676-80e6-231295cfd9d4"
      },
      "source": [
        "print(modelo.summary())"
      ],
      "execution_count": 20,
      "outputs": [
        {
          "output_type": "stream",
          "text": [
            "                            OLS Regression Results                            \n",
            "==============================================================================\n",
            "Dep. Variable:                      Y   R-squared:                       0.574\n",
            "Model:                            OLS   Adj. R-squared:                  0.572\n",
            "Method:                 Least Squares   F-statistic:                     266.9\n",
            "Date:                Fri, 04 Jun 2021   Prob (F-statistic):           1.51e-38\n",
            "Time:                        12:34:33   Log-Likelihood:                -297.57\n",
            "No. Observations:                 200   AIC:                             599.1\n",
            "Df Residuals:                     198   BIC:                             605.7\n",
            "Df Model:                           1                                         \n",
            "Covariance Type:            nonrobust                                         \n",
            "==============================================================================\n",
            "                 coef    std err          t      P>|t|      [0.025      0.975]\n",
            "------------------------------------------------------------------------------\n",
            "Intercept     -0.0921      0.076     -1.210      0.228      -0.242       0.058\n",
            "X              1.0717      0.066     16.336      0.000       0.942       1.201\n",
            "==============================================================================\n",
            "Omnibus:                        0.801   Durbin-Watson:                   1.947\n",
            "Prob(Omnibus):                  0.670   Jarque-Bera (JB):                0.810\n",
            "Skew:                           0.151   Prob(JB):                        0.667\n",
            "Kurtosis:                       2.920   Cond. No.                         1.16\n",
            "==============================================================================\n",
            "\n",
            "Warnings:\n",
            "[1] Standard Errors assume that the covariance matrix of the errors is correctly specified.\n"
          ],
          "name": "stdout"
        }
      ]
    },
    {
      "cell_type": "code",
      "metadata": {
        "colab": {
          "base_uri": "https://localhost:8080/"
        },
        "id": "fPVz_iS7Auaa",
        "outputId": "05d84919-7db9-4339-c2a9-dbb81f70b47e"
      },
      "source": [
        "print(\"A função da reta de regressão é dado por: Y^= {} + {}*X\".format(round(modelo.params['Intercept'],2), round(modelo.params['X'],2)))"
      ],
      "execution_count": 21,
      "outputs": [
        {
          "output_type": "stream",
          "text": [
            "A função da reta de regressão é dado por: Y^= -0.09 + 1.07*X\n"
          ],
          "name": "stdout"
        }
      ]
    },
    {
      "cell_type": "markdown",
      "metadata": {
        "id": "hwuIn-CjAuaa"
      },
      "source": [
        "________________"
      ]
    },
    {
      "cell_type": "markdown",
      "metadata": {
        "id": "t8i07pUHAuaa"
      },
      "source": [
        "Usando Matrizes ou usando algoritmo de regressão linear, encontramos os mesmos coeficientes. "
      ]
    },
    {
      "cell_type": "code",
      "metadata": {
        "colab": {
          "base_uri": "https://localhost:8080/"
        },
        "id": "jm_Xkbp1Auaa",
        "outputId": "9bbc09ec-34b4-4f27-f602-1d98fc55e92f"
      },
      "source": [
        "print('A função linear com matrizes é: \\t\\t Y^= {} + {}*X'.format(round(b0[0],2),round(b1[0],2)))\n",
        "print('A função linear com algoritmo regressor é: \\t Y^= {} + {}*X'.format(round(modelo.params['Intercept'],2), round(modelo.params['X'],2)))"
      ],
      "execution_count": 22,
      "outputs": [
        {
          "output_type": "stream",
          "text": [
            "A função linear com matrizes é: \t\t Y^= -0.09 + 1.07*X\n",
            "A função linear com algoritmo regressor é: \t Y^= -0.09 + 1.07*X\n"
          ],
          "name": "stdout"
        }
      ]
    },
    {
      "cell_type": "markdown",
      "metadata": {
        "id": "GMk8ZnHIAuac"
      },
      "source": [
        "A diferença é a performance do cálculo. Com uso de matrizes os coeficientes são encontrados em 27 microssegundos, ao passo que com o algoritmo regressor 11 microssegundo.\n",
        "\n",
        "E performance faz toda a diferença quando temos **muitos registros e variáveis**  "
      ]
    },
    {
      "cell_type": "markdown",
      "metadata": {
        "id": "sNk7Kt9pAuac"
      },
      "source": [
        "Com isso concluimos que não precisamos *reinventar* a roda... podemos maximizar nosso tempo, no entando cabe a nós entender o mínimo que cada algoritmo realiza, pois ai saberemos personalizar e usar com mais eficiência!!"
      ]
    },
    {
      "cell_type": "code",
      "metadata": {
        "id": "rDlAQ4MAAuac"
      },
      "source": [
        ""
      ],
      "execution_count": 22,
      "outputs": []
    }
  ]
}