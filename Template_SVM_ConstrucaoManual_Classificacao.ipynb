{
  "nbformat": 4,
  "nbformat_minor": 0,
  "metadata": {
    "kernelspec": {
      "display_name": "Python 3",
      "language": "python",
      "name": "python3"
    },
    "language_info": {
      "codemirror_mode": {
        "name": "ipython",
        "version": 3
      },
      "file_extension": ".py",
      "mimetype": "text/x-python",
      "name": "python",
      "nbconvert_exporter": "python",
      "pygments_lexer": "ipython3",
      "version": "3.8.5"
    },
    "colab": {
      "name": "Template-SVM-ConstrucaoManual-Classificacao.ipynb",
      "provenance": [],
      "collapsed_sections": [],
      "toc_visible": true,
      "include_colab_link": true
    }
  },
  "cells": [
    {
      "cell_type": "markdown",
      "metadata": {
        "id": "view-in-github",
        "colab_type": "text"
      },
      "source": [
        "<a href=\"https://colab.research.google.com/github/angeloBuso/ml_SVM/blob/main/Template_SVM_ConstrucaoManual_Classificacao.ipynb\" target=\"_parent\"><img src=\"https://colab.research.google.com/assets/colab-badge.svg\" alt=\"Open In Colab\"/></a>"
      ]
    },
    {
      "cell_type": "markdown",
      "metadata": {
        "id": "iYTBU2OrGObw"
      },
      "source": [
        "<img alt=\"Imagem\" width=\"100%\" src=\"https://raw.githubusercontent.com/angeloBuso/angeloBuso/main/image/Imagem2-notebook.png\">\n",
        "\n",
        "---\n",
        "# Template construção classificador SVM <a class=\"anchor\" id=\"0.1\"></a>\n",
        "\n",
        "#### **Índice**\n",
        "1.\t[Compreensão Problema de Negócio](#1)\n",
        "    - 1.1. [Dicionário dados](#1.1)\n",
        "2.\t[Coleta Dados](#2)\n",
        "    - 2.1. [Carga dados](#2.1)\n",
        "3.\t[Análise Exploratória](#3)\n",
        "    - 3.1 [Visão Geral dataSet](#3.1)\n",
        "        - a [Pandas Profile Report](#a)\n",
        "4. [Pré-Processamento dados](#4)\n",
        "    - 4.1 [Feature Selection - Dimensionalidade](#4.1)\n",
        "        - 4.1.1 [Visualização Dados](#4.1.1)\n",
        "    - 4.2 [Split dados](#4.2)\n",
        "        - 4.2.1 [ Preditores e Target](#4.2.1)\n",
        "        - 4.2.2 [Estático - nível linha](#4.2.2)\n",
        "5. [Seleção Algoritmo](#5)\n",
        "    - 5.1. [(i) Construção do Algoritmo](#5.1.i)\n",
        "        - 5.1.1 [criando parâmetros](#5.1.1.i)\n",
        "        - 5.1.2 [Fit do Modelo](#5.1.2.i)\n",
        "        - 5.1.3 [Predict do Modelo](#5.1.3.i)\n",
        "        - 5.1.4 [Score do Modelo](#5.1.4.i)\n",
        "    - 5.2. [(ii) Uso Sckit Learn](#5.2.ii)\n",
        "        - 5.2.1 [Modelo](#5.2.1.ii)\n",
        "        - 5.2.2 [Fit do Modelo](#5.2.2.ii)\n",
        "        - 5.2.3 [Predict do Modelo](#5.2.3.ii)\n",
        "        - 5.2.4 [Score do Modelo](#5.2.4.ii)"
      ]
    },
    {
      "cell_type": "code",
      "metadata": {
        "id": "3zxtKFIIGObx"
      },
      "source": [
        "# Bibliotecas usadas no projeto\n",
        "\n",
        "import pandas as pd\n",
        "from IPython.display import Image\n",
        "import matplotlib.pyplot as plt\n",
        "from sklearn.utils import shuffle\n",
        "from sklearn.model_selection import train_test_split\n",
        "#from sklearn.cross_validation import train_test_split\n",
        "import numpy as np\n",
        "from sklearn.svm import SVC\n",
        "from sklearn.metrics import accuracy_score\n",
        "import warnings\n",
        "import pandas_profiling as pp\n",
        "warnings.filterwarnings(\"ignore\")"
      ],
      "execution_count": 1,
      "outputs": []
    },
    {
      "cell_type": "markdown",
      "metadata": {
        "id": "L0RGUf8GGObz"
      },
      "source": [
        "## **1. Compreensão Problema de Negócio** <a class=\"anchor\" id=\"1\"></a>\n",
        "O conceito de **vetores** é muito usado em Machine Learning, principalmente em algoritmos em que seus espaçõs de hipóteses possuem métodos baseados em **otimização**. Os *SVM's* (Suport Vector Machine) são um desses tipos de algoritimos e podem solucionar problemas/tarefas tanto de **classificação**, bem como **regressão**.\n",
        "\n",
        "Quando os dados que estamos analisando não forem lineramente separáveis, os SVM's possuem habilidades de expor esses dados a **novas dimensões** e serem capazes de encontrar uma linha ou um *plano* [hyperplano/modelo preditivo] que consiga separar esses pontos de dados.\n",
        "\n",
        "Logo, se meu espaço vetorial for de 2 dimensão, sendo dois atributos $\\in \\mathbb {R}^2 $, o *hyperplano* será uma **linha** que divida dos 2 conjuntos de dados. No entanto, se o espaço vetorial 3 ou mais atributos $\\in \\mathbb {R}^n $, o *hyperplano* será o **plano** que separa os pontos de dados\n",
        "\n",
        "O objetivo desse notebook é mostrar como estão dispostas as operações matemáticas que realizam tal tarefa. Como forma de delimitar a compreensão e facilitar o entendimento trabalharemos apenas com 2 dimensões de nosso conjunto de dados.\n",
        "\n",
        "Problema de negócio que queremos solucionar com o **SVM** é classificar entre 2 espécies indicadas, dado o \"comprimento da pétala\"[PetalLengthCm] e a \"comprimento da sépala*\"[SepalLengthCm] de cada obseração, típico problema de **Classificação binária**.\n",
        "\n",
        "*Sépala: é como se fosse uma camada protetora das flores.\n",
        "\n",
        "\n",
        "[Índice](#0.1)"
      ]
    },
    {
      "cell_type": "markdown",
      "metadata": {
        "id": "HSnMpQRUGOb0"
      },
      "source": [
        "### **1.1 Dicionário dados** <a class=\"anchor\" id=\"1.1\"></a>\n",
        "\n",
        "* Id: registro de entrada único (normalmente não tem valor preditivo algum)\n",
        "* SepalLengthCm: é o comprimento da Sépala;\n",
        "* SepalWidthCm : é a largura da Sépala;\n",
        "* PetalLengthCm: é o comprimento da Pétala;\n",
        "* PetalWidthCm : é a largura da Pétala;\n",
        "* Species      : a espécia da flor -> o que queremos prever\n",
        "\n",
        "[Índice](#0.1)"
      ]
    },
    {
      "cell_type": "markdown",
      "metadata": {
        "id": "2Jy2jN0nGOb1"
      },
      "source": [
        "## **2. Coleta Dados** <a class=\"anchor\" id=\"2\"></a>\n",
        "\n",
        "[Índice](#0.1)"
      ]
    },
    {
      "cell_type": "markdown",
      "metadata": {
        "id": "lp_MlOHkGOb1"
      },
      "source": [
        "### **2.1 Carga dados** <a class=\"anchor\" id=\"2.1\"></a>\n",
        "DICA: até 3 dimensões PANDAS (1Series, 2DataFrame e 3Panel); acima 3 dim NUMPY (nparray)\n",
        "\n",
        "[Índice](#0.1)"
      ]
    },
    {
      "cell_type": "code",
      "metadata": {
        "colab": {
          "base_uri": "https://localhost:8080/",
          "height": 406
        },
        "id": "rZgZ305SGOb1",
        "outputId": "bd7c7aca-3aed-4716-e813-6a5abe54b8d7"
      },
      "source": [
        "# Carrega o dataset\n",
        "df = pd.read_csv('https://raw.githubusercontent.com/angeloBuso/ml_SVM/main/dataSet/Iris.csv')\n",
        "df"
      ],
      "execution_count": 2,
      "outputs": [
        {
          "output_type": "execute_result",
          "data": {
            "text/html": [
              "<div>\n",
              "<style scoped>\n",
              "    .dataframe tbody tr th:only-of-type {\n",
              "        vertical-align: middle;\n",
              "    }\n",
              "\n",
              "    .dataframe tbody tr th {\n",
              "        vertical-align: top;\n",
              "    }\n",
              "\n",
              "    .dataframe thead th {\n",
              "        text-align: right;\n",
              "    }\n",
              "</style>\n",
              "<table border=\"1\" class=\"dataframe\">\n",
              "  <thead>\n",
              "    <tr style=\"text-align: right;\">\n",
              "      <th></th>\n",
              "      <th>Id</th>\n",
              "      <th>SepalLengthCm</th>\n",
              "      <th>SepalWidthCm</th>\n",
              "      <th>PetalLengthCm</th>\n",
              "      <th>PetalWidthCm</th>\n",
              "      <th>Species</th>\n",
              "    </tr>\n",
              "  </thead>\n",
              "  <tbody>\n",
              "    <tr>\n",
              "      <th>0</th>\n",
              "      <td>1</td>\n",
              "      <td>5.1</td>\n",
              "      <td>3.5</td>\n",
              "      <td>1.4</td>\n",
              "      <td>0.2</td>\n",
              "      <td>Iris-setosa</td>\n",
              "    </tr>\n",
              "    <tr>\n",
              "      <th>1</th>\n",
              "      <td>2</td>\n",
              "      <td>4.9</td>\n",
              "      <td>3.0</td>\n",
              "      <td>1.4</td>\n",
              "      <td>0.2</td>\n",
              "      <td>Iris-setosa</td>\n",
              "    </tr>\n",
              "    <tr>\n",
              "      <th>2</th>\n",
              "      <td>3</td>\n",
              "      <td>4.7</td>\n",
              "      <td>3.2</td>\n",
              "      <td>1.3</td>\n",
              "      <td>0.2</td>\n",
              "      <td>Iris-setosa</td>\n",
              "    </tr>\n",
              "    <tr>\n",
              "      <th>3</th>\n",
              "      <td>4</td>\n",
              "      <td>4.6</td>\n",
              "      <td>3.1</td>\n",
              "      <td>1.5</td>\n",
              "      <td>0.2</td>\n",
              "      <td>Iris-setosa</td>\n",
              "    </tr>\n",
              "    <tr>\n",
              "      <th>4</th>\n",
              "      <td>5</td>\n",
              "      <td>5.0</td>\n",
              "      <td>3.6</td>\n",
              "      <td>1.4</td>\n",
              "      <td>0.2</td>\n",
              "      <td>Iris-setosa</td>\n",
              "    </tr>\n",
              "    <tr>\n",
              "      <th>...</th>\n",
              "      <td>...</td>\n",
              "      <td>...</td>\n",
              "      <td>...</td>\n",
              "      <td>...</td>\n",
              "      <td>...</td>\n",
              "      <td>...</td>\n",
              "    </tr>\n",
              "    <tr>\n",
              "      <th>145</th>\n",
              "      <td>146</td>\n",
              "      <td>6.7</td>\n",
              "      <td>3.0</td>\n",
              "      <td>5.2</td>\n",
              "      <td>2.3</td>\n",
              "      <td>Iris-virginica</td>\n",
              "    </tr>\n",
              "    <tr>\n",
              "      <th>146</th>\n",
              "      <td>147</td>\n",
              "      <td>6.3</td>\n",
              "      <td>2.5</td>\n",
              "      <td>5.0</td>\n",
              "      <td>1.9</td>\n",
              "      <td>Iris-virginica</td>\n",
              "    </tr>\n",
              "    <tr>\n",
              "      <th>147</th>\n",
              "      <td>148</td>\n",
              "      <td>6.5</td>\n",
              "      <td>3.0</td>\n",
              "      <td>5.2</td>\n",
              "      <td>2.0</td>\n",
              "      <td>Iris-virginica</td>\n",
              "    </tr>\n",
              "    <tr>\n",
              "      <th>148</th>\n",
              "      <td>149</td>\n",
              "      <td>6.2</td>\n",
              "      <td>3.4</td>\n",
              "      <td>5.4</td>\n",
              "      <td>2.3</td>\n",
              "      <td>Iris-virginica</td>\n",
              "    </tr>\n",
              "    <tr>\n",
              "      <th>149</th>\n",
              "      <td>150</td>\n",
              "      <td>5.9</td>\n",
              "      <td>3.0</td>\n",
              "      <td>5.1</td>\n",
              "      <td>1.8</td>\n",
              "      <td>Iris-virginica</td>\n",
              "    </tr>\n",
              "  </tbody>\n",
              "</table>\n",
              "<p>150 rows × 6 columns</p>\n",
              "</div>"
            ],
            "text/plain": [
              "      Id  SepalLengthCm  ...  PetalWidthCm         Species\n",
              "0      1            5.1  ...           0.2     Iris-setosa\n",
              "1      2            4.9  ...           0.2     Iris-setosa\n",
              "2      3            4.7  ...           0.2     Iris-setosa\n",
              "3      4            4.6  ...           0.2     Iris-setosa\n",
              "4      5            5.0  ...           0.2     Iris-setosa\n",
              "..   ...            ...  ...           ...             ...\n",
              "145  146            6.7  ...           2.3  Iris-virginica\n",
              "146  147            6.3  ...           1.9  Iris-virginica\n",
              "147  148            6.5  ...           2.0  Iris-virginica\n",
              "148  149            6.2  ...           2.3  Iris-virginica\n",
              "149  150            5.9  ...           1.8  Iris-virginica\n",
              "\n",
              "[150 rows x 6 columns]"
            ]
          },
          "metadata": {
            "tags": []
          },
          "execution_count": 2
        }
      ]
    },
    {
      "cell_type": "markdown",
      "metadata": {
        "id": "ShKW6EvHGOb2"
      },
      "source": [
        "## 3. Análise Exploratória <a class=\"anchor\" id=\"3\"></a>\n",
        "\n",
        "\n",
        "### 3.1 Visão Geral dataSet **<a class=\"anchor\" id=\"3.1\"></a>\n",
        "Estatística Descritiva:*tipo Objeto; *tipo Dados; *shape - !Dimensionalidade; *Indices; *describe dados\n",
        "\n",
        "[Índice](#0.1)"
      ]
    },
    {
      "cell_type": "markdown",
      "metadata": {
        "id": "rU3ztUxfGOb3"
      },
      "source": [
        "## Pandas Profile Report <a class=\"anchor\" id=\"a\"></a>\n",
        "[Índice](#0.1)"
      ]
    },
    {
      "cell_type": "code",
      "metadata": {
        "scrolled": true,
        "id": "MnR4EGCLGOb3"
      },
      "source": [
        "#pp.ProfileReport(df)"
      ],
      "execution_count": 3,
      "outputs": []
    },
    {
      "cell_type": "markdown",
      "metadata": {
        "id": "HH-INvkzGOb6"
      },
      "source": [
        "## 4. Pré-Processamento dados <a class=\"anchor\" id=\"4\"></a>\n",
        "Muitos algoritmos esperam receber os dados em um formato específico. É seu trabalho preparar os dados em uma estrutura que seja adequada ao algoritmo que você está utilizando.\n",
        "\n",
        "É muito provável que você tenha que realizar tarefas de pré-processamento nos dados. Esse é um passo necessário dentro do processo. O desafio é o fato que cada algoritmo requer uma estrutura diferente, o que pode requerer transformações diferentes nos dados. Mas é possível em alguns casos, obter bons resultados sem um trabalho de pré-processamento. Mas é uma boa prática criar diferentes visões e transformações dos dados, de modo a poder testar diferentes algoritmos de Machine Learning.\n",
        "\n",
        "Para este notebook vamos (i.) excluir do nosso conjunto de dados os atributos que não usaremos, (ii.) identificar as variáveis preditoras e a variável alvo, (iii.) visualizar como estão dispostos os preditores e (iv.) dividir conjunto de dados em variáveis independentes e variável dependente para separar entre dados de treino e dados de teste.\n",
        "\n",
        "[Índice](#0.1)"
      ]
    },
    {
      "cell_type": "markdown",
      "metadata": {
        "id": "Jp84NxfyGOb7"
      },
      "source": [
        "### 4.1 Feature Selection - Dimensionalidade <a class=\"anchor\" id=\"4.1\"></a> \n",
        "\n",
        "Conceito: Alta dimensionalidade gera problema de alta variância, tornando modelo não generalizável; Deve-se ater a seleção dos melhores atributos; Espera-se que os dados já estejam **normalizado** e/ou **padronizados**.\n",
        "\n",
        "Para nosso propósito, que é didático, utilizaremos apenas 2 atributos nesse projeto, ou seja, queremos apenas um **espaço vetorial** de tamanho 2, sendo estes dois atributos $\\in \\mathbb {R}^2 $, logo o *hyperplano* será uma **linha** que dividirá estes 2 conjuntos de atributos.\n",
        "\n",
        "Ainda temos que excluir uma classe da variável 'Species' para obtermos apenas 2 classificação e assim reformular para uma problema de classificação binária.\n",
        "\n",
        "Importante destacar que todo pré-processamento que fazemos é expecífico do projeto e problema de negócio que queremos tratar.\n",
        "\n",
        "[Índice](#0.1)"
      ]
    },
    {
      "cell_type": "code",
      "metadata": {
        "colab": {
          "base_uri": "https://localhost:8080/",
          "height": 406
        },
        "id": "EaJlwIXkGOb8",
        "outputId": "057563a0-4ec4-454b-e594-d7b20b9df04a"
      },
      "source": [
        "df"
      ],
      "execution_count": 4,
      "outputs": [
        {
          "output_type": "execute_result",
          "data": {
            "text/html": [
              "<div>\n",
              "<style scoped>\n",
              "    .dataframe tbody tr th:only-of-type {\n",
              "        vertical-align: middle;\n",
              "    }\n",
              "\n",
              "    .dataframe tbody tr th {\n",
              "        vertical-align: top;\n",
              "    }\n",
              "\n",
              "    .dataframe thead th {\n",
              "        text-align: right;\n",
              "    }\n",
              "</style>\n",
              "<table border=\"1\" class=\"dataframe\">\n",
              "  <thead>\n",
              "    <tr style=\"text-align: right;\">\n",
              "      <th></th>\n",
              "      <th>Id</th>\n",
              "      <th>SepalLengthCm</th>\n",
              "      <th>SepalWidthCm</th>\n",
              "      <th>PetalLengthCm</th>\n",
              "      <th>PetalWidthCm</th>\n",
              "      <th>Species</th>\n",
              "    </tr>\n",
              "  </thead>\n",
              "  <tbody>\n",
              "    <tr>\n",
              "      <th>0</th>\n",
              "      <td>1</td>\n",
              "      <td>5.1</td>\n",
              "      <td>3.5</td>\n",
              "      <td>1.4</td>\n",
              "      <td>0.2</td>\n",
              "      <td>Iris-setosa</td>\n",
              "    </tr>\n",
              "    <tr>\n",
              "      <th>1</th>\n",
              "      <td>2</td>\n",
              "      <td>4.9</td>\n",
              "      <td>3.0</td>\n",
              "      <td>1.4</td>\n",
              "      <td>0.2</td>\n",
              "      <td>Iris-setosa</td>\n",
              "    </tr>\n",
              "    <tr>\n",
              "      <th>2</th>\n",
              "      <td>3</td>\n",
              "      <td>4.7</td>\n",
              "      <td>3.2</td>\n",
              "      <td>1.3</td>\n",
              "      <td>0.2</td>\n",
              "      <td>Iris-setosa</td>\n",
              "    </tr>\n",
              "    <tr>\n",
              "      <th>3</th>\n",
              "      <td>4</td>\n",
              "      <td>4.6</td>\n",
              "      <td>3.1</td>\n",
              "      <td>1.5</td>\n",
              "      <td>0.2</td>\n",
              "      <td>Iris-setosa</td>\n",
              "    </tr>\n",
              "    <tr>\n",
              "      <th>4</th>\n",
              "      <td>5</td>\n",
              "      <td>5.0</td>\n",
              "      <td>3.6</td>\n",
              "      <td>1.4</td>\n",
              "      <td>0.2</td>\n",
              "      <td>Iris-setosa</td>\n",
              "    </tr>\n",
              "    <tr>\n",
              "      <th>...</th>\n",
              "      <td>...</td>\n",
              "      <td>...</td>\n",
              "      <td>...</td>\n",
              "      <td>...</td>\n",
              "      <td>...</td>\n",
              "      <td>...</td>\n",
              "    </tr>\n",
              "    <tr>\n",
              "      <th>145</th>\n",
              "      <td>146</td>\n",
              "      <td>6.7</td>\n",
              "      <td>3.0</td>\n",
              "      <td>5.2</td>\n",
              "      <td>2.3</td>\n",
              "      <td>Iris-virginica</td>\n",
              "    </tr>\n",
              "    <tr>\n",
              "      <th>146</th>\n",
              "      <td>147</td>\n",
              "      <td>6.3</td>\n",
              "      <td>2.5</td>\n",
              "      <td>5.0</td>\n",
              "      <td>1.9</td>\n",
              "      <td>Iris-virginica</td>\n",
              "    </tr>\n",
              "    <tr>\n",
              "      <th>147</th>\n",
              "      <td>148</td>\n",
              "      <td>6.5</td>\n",
              "      <td>3.0</td>\n",
              "      <td>5.2</td>\n",
              "      <td>2.0</td>\n",
              "      <td>Iris-virginica</td>\n",
              "    </tr>\n",
              "    <tr>\n",
              "      <th>148</th>\n",
              "      <td>149</td>\n",
              "      <td>6.2</td>\n",
              "      <td>3.4</td>\n",
              "      <td>5.4</td>\n",
              "      <td>2.3</td>\n",
              "      <td>Iris-virginica</td>\n",
              "    </tr>\n",
              "    <tr>\n",
              "      <th>149</th>\n",
              "      <td>150</td>\n",
              "      <td>5.9</td>\n",
              "      <td>3.0</td>\n",
              "      <td>5.1</td>\n",
              "      <td>1.8</td>\n",
              "      <td>Iris-virginica</td>\n",
              "    </tr>\n",
              "  </tbody>\n",
              "</table>\n",
              "<p>150 rows × 6 columns</p>\n",
              "</div>"
            ],
            "text/plain": [
              "      Id  SepalLengthCm  ...  PetalWidthCm         Species\n",
              "0      1            5.1  ...           0.2     Iris-setosa\n",
              "1      2            4.9  ...           0.2     Iris-setosa\n",
              "2      3            4.7  ...           0.2     Iris-setosa\n",
              "3      4            4.6  ...           0.2     Iris-setosa\n",
              "4      5            5.0  ...           0.2     Iris-setosa\n",
              "..   ...            ...  ...           ...             ...\n",
              "145  146            6.7  ...           2.3  Iris-virginica\n",
              "146  147            6.3  ...           1.9  Iris-virginica\n",
              "147  148            6.5  ...           2.0  Iris-virginica\n",
              "148  149            6.2  ...           2.3  Iris-virginica\n",
              "149  150            5.9  ...           1.8  Iris-virginica\n",
              "\n",
              "[150 rows x 6 columns]"
            ]
          },
          "metadata": {
            "tags": []
          },
          "execution_count": 4
        }
      ]
    },
    {
      "cell_type": "code",
      "metadata": {
        "colab": {
          "base_uri": "https://localhost:8080/",
          "height": 406
        },
        "id": "n9JPNjTQGOb8",
        "outputId": "c82266a0-a443-4b62-f6f3-4a8e3f225e9a"
      },
      "source": [
        "# drop: Id, SepalWidthCm e PetalWidthCm\n",
        "df= df.drop(['Id', 'SepalWidthCm', 'PetalWidthCm'], axis=1)\n",
        "\n",
        "# drop: obtendo apenas classes binárias\n",
        "df= df.drop(df.loc[df.Species == 'Iris-virginica'].index, axis=0)\n",
        "df"
      ],
      "execution_count": 5,
      "outputs": [
        {
          "output_type": "execute_result",
          "data": {
            "text/html": [
              "<div>\n",
              "<style scoped>\n",
              "    .dataframe tbody tr th:only-of-type {\n",
              "        vertical-align: middle;\n",
              "    }\n",
              "\n",
              "    .dataframe tbody tr th {\n",
              "        vertical-align: top;\n",
              "    }\n",
              "\n",
              "    .dataframe thead th {\n",
              "        text-align: right;\n",
              "    }\n",
              "</style>\n",
              "<table border=\"1\" class=\"dataframe\">\n",
              "  <thead>\n",
              "    <tr style=\"text-align: right;\">\n",
              "      <th></th>\n",
              "      <th>SepalLengthCm</th>\n",
              "      <th>PetalLengthCm</th>\n",
              "      <th>Species</th>\n",
              "    </tr>\n",
              "  </thead>\n",
              "  <tbody>\n",
              "    <tr>\n",
              "      <th>0</th>\n",
              "      <td>5.1</td>\n",
              "      <td>1.4</td>\n",
              "      <td>Iris-setosa</td>\n",
              "    </tr>\n",
              "    <tr>\n",
              "      <th>1</th>\n",
              "      <td>4.9</td>\n",
              "      <td>1.4</td>\n",
              "      <td>Iris-setosa</td>\n",
              "    </tr>\n",
              "    <tr>\n",
              "      <th>2</th>\n",
              "      <td>4.7</td>\n",
              "      <td>1.3</td>\n",
              "      <td>Iris-setosa</td>\n",
              "    </tr>\n",
              "    <tr>\n",
              "      <th>3</th>\n",
              "      <td>4.6</td>\n",
              "      <td>1.5</td>\n",
              "      <td>Iris-setosa</td>\n",
              "    </tr>\n",
              "    <tr>\n",
              "      <th>4</th>\n",
              "      <td>5.0</td>\n",
              "      <td>1.4</td>\n",
              "      <td>Iris-setosa</td>\n",
              "    </tr>\n",
              "    <tr>\n",
              "      <th>...</th>\n",
              "      <td>...</td>\n",
              "      <td>...</td>\n",
              "      <td>...</td>\n",
              "    </tr>\n",
              "    <tr>\n",
              "      <th>95</th>\n",
              "      <td>5.7</td>\n",
              "      <td>4.2</td>\n",
              "      <td>Iris-versicolor</td>\n",
              "    </tr>\n",
              "    <tr>\n",
              "      <th>96</th>\n",
              "      <td>5.7</td>\n",
              "      <td>4.2</td>\n",
              "      <td>Iris-versicolor</td>\n",
              "    </tr>\n",
              "    <tr>\n",
              "      <th>97</th>\n",
              "      <td>6.2</td>\n",
              "      <td>4.3</td>\n",
              "      <td>Iris-versicolor</td>\n",
              "    </tr>\n",
              "    <tr>\n",
              "      <th>98</th>\n",
              "      <td>5.1</td>\n",
              "      <td>3.0</td>\n",
              "      <td>Iris-versicolor</td>\n",
              "    </tr>\n",
              "    <tr>\n",
              "      <th>99</th>\n",
              "      <td>5.7</td>\n",
              "      <td>4.1</td>\n",
              "      <td>Iris-versicolor</td>\n",
              "    </tr>\n",
              "  </tbody>\n",
              "</table>\n",
              "<p>100 rows × 3 columns</p>\n",
              "</div>"
            ],
            "text/plain": [
              "    SepalLengthCm  PetalLengthCm          Species\n",
              "0             5.1            1.4      Iris-setosa\n",
              "1             4.9            1.4      Iris-setosa\n",
              "2             4.7            1.3      Iris-setosa\n",
              "3             4.6            1.5      Iris-setosa\n",
              "4             5.0            1.4      Iris-setosa\n",
              "..            ...            ...              ...\n",
              "95            5.7            4.2  Iris-versicolor\n",
              "96            5.7            4.2  Iris-versicolor\n",
              "97            6.2            4.3  Iris-versicolor\n",
              "98            5.1            3.0  Iris-versicolor\n",
              "99            5.7            4.1  Iris-versicolor\n",
              "\n",
              "[100 rows x 3 columns]"
            ]
          },
          "metadata": {
            "tags": []
          },
          "execution_count": 5
        }
      ]
    },
    {
      "cell_type": "markdown",
      "metadata": {
        "id": "jfzZK7pDGOb9"
      },
      "source": [
        "#### 4.1.1 Visualização Dados <a class=\"anchor\" id=\"4.1.1\"></a>\n",
        "Colocar os dados de maneira visual, nos permite ter uma melhor compeensão de como estão dispostos os dados.\n",
        "\n",
        "\n",
        "[Índice](#0.1)"
      ]
    },
    {
      "cell_type": "code",
      "metadata": {
        "id": "tVr6GA1WGOb9"
      },
      "source": [
        "# eixo x do plano cartesiano\n",
        "x= df['SepalLengthCm']\n",
        "\n",
        "# eixo y do plano cartesiano\n",
        "y= df['PetalLengthCm']\n",
        "\n",
        "# entretando temos 2 classes de flores: setosa e versicolor\n",
        "setosa_x= x[:50]\n",
        "setosa_y= y[:50]\n",
        "\n",
        "versicolor_x= x[50:]\n",
        "versicolor_y= y[50:]"
      ],
      "execution_count": 6,
      "outputs": []
    },
    {
      "cell_type": "code",
      "metadata": {
        "colab": {
          "base_uri": "https://localhost:8080/",
          "height": 264
        },
        "id": "RVBTzen5GOb9",
        "outputId": "ce91c7ff-8412-4065-a9dc-5ddf17fd1730"
      },
      "source": [
        "plt.scatter(setosa_x, setosa_y, marker= \"*\")\n",
        "plt.scatter(versicolor_x, versicolor_y, marker= 'v');\n",
        "\n",
        "# Visualmente temos a compreenssão de que espécies do tipo \"versicolor\" tendem a ter um cumprimento maior que as \"setosas\""
      ],
      "execution_count": 7,
      "outputs": [
        {
          "output_type": "display_data",
          "data": {
            "image/png": "[encoded data removed]",
            "text/plain": [
              "<Figure size 432x288 with 1 Axes>"
            ]
          },
          "metadata": {
            "tags": [],
            "needs_background": "light"
          }
        }
      ]
    },
    {
      "cell_type": "markdown",
      "metadata": {
        "id": "_gCO4JrnGOb-"
      },
      "source": [
        "### 4.2 Split dados <a class=\"anchor\" id=\"4.2\"></a> \n",
        "\n",
        "Conceito: modelos de ML usam os dados históricos para compreender a relação entre os preditores, para então desenvolver um modelo preditivo. Separar os dados históricos em conjuntos de **treino** e **teste**, auxilia na avaliação do modelo. Essa etapa é chamada de split de dados onde, (a) separamos dos preditores da variável a ser predita e (b) separamos os conjuntos de treino e teste. \n",
        "   \n",
        "técnicas: sklearn.model_selection import (i) train_test_split-estático e (ii) Cross-validation-randômico\n",
        "\n",
        "[Índice](#0.1)"
      ]
    },
    {
      "cell_type": "code",
      "metadata": {
        "colab": {
          "base_uri": "https://localhost:8080/",
          "height": 406
        },
        "id": "GLBm8ZrhGOb-",
        "outputId": "074df6b8-405f-426a-98e0-1f5b6c8d0393"
      },
      "source": [
        "# vizualizar os dados pré-processados\n",
        "df"
      ],
      "execution_count": 8,
      "outputs": [
        {
          "output_type": "execute_result",
          "data": {
            "text/html": [
              "<div>\n",
              "<style scoped>\n",
              "    .dataframe tbody tr th:only-of-type {\n",
              "        vertical-align: middle;\n",
              "    }\n",
              "\n",
              "    .dataframe tbody tr th {\n",
              "        vertical-align: top;\n",
              "    }\n",
              "\n",
              "    .dataframe thead th {\n",
              "        text-align: right;\n",
              "    }\n",
              "</style>\n",
              "<table border=\"1\" class=\"dataframe\">\n",
              "  <thead>\n",
              "    <tr style=\"text-align: right;\">\n",
              "      <th></th>\n",
              "      <th>SepalLengthCm</th>\n",
              "      <th>PetalLengthCm</th>\n",
              "      <th>Species</th>\n",
              "    </tr>\n",
              "  </thead>\n",
              "  <tbody>\n",
              "    <tr>\n",
              "      <th>0</th>\n",
              "      <td>5.1</td>\n",
              "      <td>1.4</td>\n",
              "      <td>Iris-setosa</td>\n",
              "    </tr>\n",
              "    <tr>\n",
              "      <th>1</th>\n",
              "      <td>4.9</td>\n",
              "      <td>1.4</td>\n",
              "      <td>Iris-setosa</td>\n",
              "    </tr>\n",
              "    <tr>\n",
              "      <th>2</th>\n",
              "      <td>4.7</td>\n",
              "      <td>1.3</td>\n",
              "      <td>Iris-setosa</td>\n",
              "    </tr>\n",
              "    <tr>\n",
              "      <th>3</th>\n",
              "      <td>4.6</td>\n",
              "      <td>1.5</td>\n",
              "      <td>Iris-setosa</td>\n",
              "    </tr>\n",
              "    <tr>\n",
              "      <th>4</th>\n",
              "      <td>5.0</td>\n",
              "      <td>1.4</td>\n",
              "      <td>Iris-setosa</td>\n",
              "    </tr>\n",
              "    <tr>\n",
              "      <th>...</th>\n",
              "      <td>...</td>\n",
              "      <td>...</td>\n",
              "      <td>...</td>\n",
              "    </tr>\n",
              "    <tr>\n",
              "      <th>95</th>\n",
              "      <td>5.7</td>\n",
              "      <td>4.2</td>\n",
              "      <td>Iris-versicolor</td>\n",
              "    </tr>\n",
              "    <tr>\n",
              "      <th>96</th>\n",
              "      <td>5.7</td>\n",
              "      <td>4.2</td>\n",
              "      <td>Iris-versicolor</td>\n",
              "    </tr>\n",
              "    <tr>\n",
              "      <th>97</th>\n",
              "      <td>6.2</td>\n",
              "      <td>4.3</td>\n",
              "      <td>Iris-versicolor</td>\n",
              "    </tr>\n",
              "    <tr>\n",
              "      <th>98</th>\n",
              "      <td>5.1</td>\n",
              "      <td>3.0</td>\n",
              "      <td>Iris-versicolor</td>\n",
              "    </tr>\n",
              "    <tr>\n",
              "      <th>99</th>\n",
              "      <td>5.7</td>\n",
              "      <td>4.1</td>\n",
              "      <td>Iris-versicolor</td>\n",
              "    </tr>\n",
              "  </tbody>\n",
              "</table>\n",
              "<p>100 rows × 3 columns</p>\n",
              "</div>"
            ],
            "text/plain": [
              "    SepalLengthCm  PetalLengthCm          Species\n",
              "0             5.1            1.4      Iris-setosa\n",
              "1             4.9            1.4      Iris-setosa\n",
              "2             4.7            1.3      Iris-setosa\n",
              "3             4.6            1.5      Iris-setosa\n",
              "4             5.0            1.4      Iris-setosa\n",
              "..            ...            ...              ...\n",
              "95            5.7            4.2  Iris-versicolor\n",
              "96            5.7            4.2  Iris-versicolor\n",
              "97            6.2            4.3  Iris-versicolor\n",
              "98            5.1            3.0  Iris-versicolor\n",
              "99            5.7            4.1  Iris-versicolor\n",
              "\n",
              "[100 rows x 3 columns]"
            ]
          },
          "metadata": {
            "tags": []
          },
          "execution_count": 8
        }
      ]
    },
    {
      "cell_type": "markdown",
      "metadata": {
        "id": "FJhUumrsGOb_"
      },
      "source": [
        "#### 4.2.1 Preditores e Target <a class=\"anchor\" id=\"4.2.1\"></a> \n",
        "Os preditores são as variáveis \"conseguem\" explicar a variável target, nesse caso serão *SepalLengthCm* e *PetalLengthCm*. A variável target é o que queremos prever, será o atributo *Species*.\n",
        "\n",
        "Importante destacar que nossa variável target possui dados do tipo categórico, no entanto estão em um formato, string, que não é o adequado para a tarefa. Iremos subsituir pelo numeral \"1\" as espécies do tipo \"Versicolor\" e com o numeral \"-1\" as do tipo \"Setosa\". Atentem que a informação é a mesma, tanto o 1 e o -1 representam as classes de espécie, apenas estamos representando de uma forma diferente!!\n",
        "\n",
        "\n",
        "[Índice](#0.1)"
      ]
    },
    {
      "cell_type": "markdown",
      "metadata": {
        "id": "veTNJnPZGOb_"
      },
      "source": [
        "**Variável Alvo - Target**"
      ]
    },
    {
      "cell_type": "code",
      "metadata": {
        "id": "3yvevGo9GOb_"
      },
      "source": [
        "target= df.Species\n",
        "\n",
        "# forma I.\n",
        "Y = []\n",
        "for classe in target:\n",
        "    if(classe == 'Iris-setosa'):\n",
        "        Y.append(-1)\n",
        "    else:\n",
        "        Y.append(1)\n",
        "\n",
        "# forma II\n",
        "#dict = {'Iris-setosa':-1, 'Iris-versicolor':1}\n",
        "#target = target.map(dict)\n",
        "#target= target.tolist()"
      ],
      "execution_count": 9,
      "outputs": []
    },
    {
      "cell_type": "markdown",
      "metadata": {
        "id": "m-Qc_syZGOb_"
      },
      "source": [
        "**Variáveis Preditoras**"
      ]
    },
    {
      "cell_type": "code",
      "metadata": {
        "id": "AVmVW4RvGOcA"
      },
      "source": [
        "# converto para uma lista pois iremos fazer o split. O output do método .values é um array unidimensianal.\n",
        "X= df.drop(['Species'], axis=1).values.tolist()"
      ],
      "execution_count": 10,
      "outputs": []
    },
    {
      "cell_type": "markdown",
      "metadata": {
        "id": "TtG5c20XGOcA"
      },
      "source": [
        "#### 4.2.2 Estático - nível linha <a class=\"anchor\" id=\"4.2.2\"></a>\n",
        "\n",
        "Divisão dos preditores-X e target em treino e teste.\n",
        "\n",
        "\n",
        "[Índice](#0.1)"
      ]
    },
    {
      "cell_type": "code",
      "metadata": {
        "id": "74yQk75dGOcA"
      },
      "source": [
        "# aleatoriedade é importante em ML, antes do split embaralharemos os dados\n",
        "X, Y = shuffle(X, Y)\n",
        "\n",
        "x_treino = []\n",
        "y_treino = []\n",
        "x_teste = []\n",
        "y_teste = []\n",
        "\n",
        "# Split com 90% dos dados para treino e 10% para teste\n",
        "x_treino, x_teste, y_treino, y_teste = train_test_split(X, Y, train_size=0.9)\n",
        "\n",
        "# output do split são objetos do tipo lista... precisamos de vetorizar:\n",
        "x_treino = np.array(x_treino)\n",
        "y_treino = np.array(y_treino)\n",
        "x_teste = np.array(x_teste)\n",
        "y_teste = np.array(y_teste)"
      ],
      "execution_count": 11,
      "outputs": []
    },
    {
      "cell_type": "markdown",
      "metadata": {
        "id": "bjsmoXeyGOcB"
      },
      "source": [
        "O output dos objetos de treino e teste não possuem a mesma dimensionalidade, a variável a ser predita possui apenas 1 dimensão, ao passo que as variáveis possuem 2 dimensões, resultado da classificação binária e todos com a mesma quantidade de registros.\n",
        "\n",
        "Sendo assim iremos ajustar a dimensões desses vetores para 1 dimensão."
      ]
    },
    {
      "cell_type": "code",
      "metadata": {
        "id": "utbDvM6KGOcB"
      },
      "source": [
        "# variáveis preditoras X\n",
        "\n",
        "# dos preditores queremos todas as observações, no entato apenas a 1° dimensão\n",
        "x1_treino= x_treino[:,0]\n",
        "x1_teste = x_teste[:,0]\n",
        "\n",
        "# dos preditores queremos todas as observações, no entato apenas a 2° dimensão\n",
        "x2_treino= x_treino[:,1]\n",
        "x2_teste = x_teste[:,1]"
      ],
      "execution_count": 12,
      "outputs": []
    },
    {
      "cell_type": "markdown",
      "metadata": {
        "id": "OcvM8OMdGOcB"
      },
      "source": [
        "Agora todos os objetos x1_treino; x2_treino; y_treino e y_teste estão com a mesma quantidade de dimensão. Vetores do mesmo tamanho podem realizar operações."
      ]
    },
    {
      "cell_type": "code",
      "metadata": {
        "id": "6N6qSpLGGOcB"
      },
      "source": [
        "x1_treino= x1_treino.reshape(90,1)\n",
        "x2_treino= x2_treino.reshape(90,1)\n",
        "y_treino= y_treino.reshape(90,1)\n",
        "\n",
        "x1_teste= x1_teste.reshape(10,1)\n",
        "x2_teste= x2_teste.reshape(10,1)\n",
        "y_teste= y_teste.reshape(10,1)"
      ],
      "execution_count": 13,
      "outputs": []
    },
    {
      "cell_type": "code",
      "metadata": {
        "colab": {
          "base_uri": "https://localhost:8080/"
        },
        "id": "2NSUiAQoGOcC",
        "outputId": "f02fd834-6817-4854-b34c-e0ac2fdf8d75"
      },
      "source": [
        "y_teste.shape"
      ],
      "execution_count": 14,
      "outputs": [
        {
          "output_type": "execute_result",
          "data": {
            "text/plain": [
              "(10, 1)"
            ]
          },
          "metadata": {
            "tags": []
          },
          "execution_count": 14
        }
      ]
    },
    {
      "cell_type": "markdown",
      "metadata": {
        "id": "oJxl9wspGOcC"
      },
      "source": [
        "## 5. Seleção Algoritmo <a class=\"anchor\" id=\"5\"></a> \n",
        "\n",
        "Como os **SVM's** funcionam?\n",
        "\n",
        "O objetivo dos algoritmos SVM's é encontrar o **hyperplano**, dentro do espaço vetorial, que **melhor separa** os pontos de dados. As margens que separam os pontos de dados podem ser largas ou estreitas, a depender dos parâmetros passados. Para além de compreender a largura dessas margem é importante compreender, nesse momento, que em cada margem encontram os *suport vectors*, os vetores limites de cada classe de dados, servirá para delimitar o limite dessa classe a qual o vetor pertença. Esses vetores limites daram o *suporte* para delimitar um \"divisor\". Sendo que cada classe de vetor, atributos do modelo, terá seu próprio \"divisor\". A metade da distância entre esses \"divisores\" é um modelo de SVM, pois é a metade de cada limite de vetores de suporte.\n",
        "\n",
        "Abaixo, de forma simples, tem um figura que ilustra essa explicação acima.\n",
        "\n",
        "[Índice](#0.1)"
      ]
    },
    {
      "cell_type": "markdown",
      "metadata": {
        "id": "U-sySGtnROqG"
      },
      "source": [
        "<center><img alt=\"Colaboratory logo\" width=\"50%\" src=\"https://github.com/angeloBuso/ml_SVM/blob/main/image/svm_artigo.PNG?raw=true\"></center>"
      ]
    },
    {
      "cell_type": "markdown",
      "metadata": {
        "id": "i_wrWgi9GOcD"
      },
      "source": [
        "Para o algoritmo SVM atingir seu objetivo de encontrar o **melhor hyperplano** que separa os pontos de dados, logo (i) atribuirá pesos a cada entrada de dados, (ii) identifica a função de custo, (iii) atribui um parâmetro de regularização se teve erro de previsão, (iv) calcula derivada da função de custo e (v) atualiza os pesos com essas derivadas. Esse processo é iterativo!!\n",
        "\n",
        "A maximização das margens nos pontos de dados se dá pela função de custo, que nada mais é do que a medida do erro do valor previsto, comparado com o valor observado, logo quando menor o erro mais preciso é o modelo.\n",
        "\n",
        "Para algortimos SVM's usa-se como calculo do erro a função **hinge loss** de custo. Essa função como saída atribui valor \"0\" para acerto do modelo e o valor \"1\" quando modelo errou a previsão.\n",
        "\n",
        "Quando houver um erro do modelo e o valor atribuido foi \"1\", na função de custo é adicionado um **parâmetro de regularização** \n",
        " ($\"\\lambda\"$-> tem por objetivo equilibrar a maximização e a perda de margem). Com a função de custo mais o $\\lambda$, usa-se *derivadas* para encontrar os gradientes e atualizar os pesos, para uma nova passada no modelo (iteratividade).\n",
        " \n",
        "Quando não houver erro de pevisão, significa que o resultado da função de custo é zero (valor previsto e valor real possuem mesmo sinal), apenas ocorre a atualização no gradiente dos pesos e a itratividade continua.\n",
        "\n",
        "Abaixo demonstraremos como ocorre as operções matemáticas que um SVM realiza e logo após um modelo de um framework com SVM."
      ]
    },
    {
      "cell_type": "markdown",
      "metadata": {
        "id": "38Qq7qJ6GOcD"
      },
      "source": [
        "## 5.1 (i) - Construção do Algoritmo <a class=\"anchor\" id=\"5.1.i\"></a>\n",
        "\n",
        "Um modelo de ML são o uso iterativo de operações matermáticas e estatísticas, aninhadas com uso intensivo de ciências da computação.\n",
        "\n",
        "[Índice](#0.1)"
      ]
    },
    {
      "cell_type": "markdown",
      "metadata": {
        "id": "B3I5mxDQGOcD"
      },
      "source": [
        "#### 5.1.1 criando parâmetros <a class=\"anchor\" id=\"5.1.1.i\"></a>\n",
        "Atribuiremos os pesos que serão utilizados no treinamento do modelo. Nesse caso serão 2 pesos pois temos 2 variáveis explicativas.\n",
        "\n",
        "[Índice](#0.1)"
      ]
    },
    {
      "cell_type": "code",
      "metadata": {
        "id": "q03LZUP2GOcE"
      },
      "source": [
        "peso1 = np.zeros((90,1))\n",
        "peso2 = np.zeros((90,1))\n",
        "\n",
        "# parâmetros de controle de iteratividade\n",
        "epochs= 1 \n",
        "alpha= 0.0001"
      ],
      "execution_count": 15,
      "outputs": []
    },
    {
      "cell_type": "markdown",
      "metadata": {
        "id": "sNh0-8tmGOcE"
      },
      "source": [
        "#### 5.1.2 treino modelo (.fit) <a class=\"anchor\" id=\"5.1.2.i\"></a>\n",
        "\n",
        "\n",
        "[Índice](#0.1)"
      ]
    },
    {
      "cell_type": "code",
      "metadata": {
        "id": "Mw0U2AL_GOcE"
      },
      "source": [
        "# expressão matematica que fará a de forma iterativa a multiplicação dos pesos e os valores das variáveis preditoras\n",
        "while(epochs < 10000):\n",
        "    \n",
        "    # a. identifico qual é o valor previsto, dado aos preditores e aos pesos\n",
        "    y = (peso1 * x1_treino) + (peso2 * x2_treino)\n",
        "    \n",
        "    # b. comparo com valor observado -> objetivo é ver o erro de previsão com os pesos atribuídos\n",
        "    prod = y * y_treino\n",
        "    \n",
        "    #print(epochs)    \n",
        "    count = 0\n",
        "    \n",
        "    # c. verificamos se o modelo acertou com os valores de pesos passados.\n",
        "    for val in prod:\n",
        "        # c.1 se o modelo acertou, apenas atualiza os pesos, e realiza uma nova passada se o epochs for atendido\n",
        "        if(val >= 1):\n",
        "            cost = 0\n",
        "            peso1 = peso1 - alpha * (2 * 1/epochs * peso1)\n",
        "            peso2 = peso2 - alpha * (2 * 1/epochs * peso2)\n",
        "        \n",
        "        # c.2 se modelo errou a previsão, derivamos os pesos para encontrar novos valores, adicionando parâmetros           \n",
        "        else:\n",
        "            cost = 1 - val \n",
        "            peso1 = peso1 + alpha * (x1_treino[count] * y_treino[count] - 2 * 1/epochs * peso1)\n",
        "            peso2 = peso2 + alpha * (x2_treino[count] * y_treino[count] - 2 * 1/epochs * peso2)\n",
        "        count += 1\n",
        "    epochs += 1"
      ],
      "execution_count": 16,
      "outputs": []
    },
    {
      "cell_type": "markdown",
      "metadata": {
        "id": "IMkryfGuGOcF"
      },
      "source": [
        "#### 5.1.3 teste modelo (.predict) <a class=\"anchor\" id=\"5.1.3.i\"></a>\n",
        "\n",
        "Com o modelo treinado, identificamos os **melhores** valores dos pesos. Usaremos tais pesos para testar o modelo.\n",
        "\n",
        "Os dados de treino possuem apenas 10 registros, na etapa de split 90%[90 obs.] dos dados foram para o treino e 10%[10 obs.] ficaram nos dados de treino. \n",
        "\n",
        "[Índice](#0.1)"
      ]
    },
    {
      "cell_type": "markdown",
      "metadata": {
        "id": "MOv_9a7lGOcF"
      },
      "source": [
        "Obtendo uma lista com 10 observações de pesos."
      ]
    },
    {
      "cell_type": "code",
      "metadata": {
        "id": "B7f1bytaGOcF"
      },
      "source": [
        "indice= list(range(10,90))\n",
        "peso1= np.delete(peso1, indice)\n",
        "peso2= np.delete(peso2, indice)\n",
        "\n",
        "# colocando mesmo shape \n",
        "peso1= peso1.reshape(10,1)\n",
        "peso2= peso2.reshape(10,1)"
      ],
      "execution_count": 17,
      "outputs": []
    },
    {
      "cell_type": "code",
      "metadata": {
        "colab": {
          "base_uri": "https://localhost:8080/"
        },
        "id": "hFZg-nufGOcG",
        "outputId": "dcd2d73f-fb6a-4c14-a16c-30dfedb14f1e"
      },
      "source": [
        "peso1#.shape"
      ],
      "execution_count": 18,
      "outputs": [
        {
          "output_type": "execute_result",
          "data": {
            "text/plain": [
              "array([[-1.03228028],\n",
              "       [-1.03228028],\n",
              "       [-1.03228028],\n",
              "       [-1.03228028],\n",
              "       [-1.03228028],\n",
              "       [-1.03228028],\n",
              "       [-1.03228028],\n",
              "       [-1.03228028],\n",
              "       [-1.03228028],\n",
              "       [-1.03228028]])"
            ]
          },
          "metadata": {
            "tags": []
          },
          "execution_count": 18
        }
      ]
    },
    {
      "cell_type": "markdown",
      "metadata": {
        "id": "3jaimULcGOcG"
      },
      "source": [
        "Previsões"
      ]
    },
    {
      "cell_type": "code",
      "metadata": {
        "id": "MoTJ-aWVGOcH"
      },
      "source": [
        "# previsão = a soma dos produtos entre os pesos e so preditores \n",
        "y_pred = (peso1 * x1_teste) + (peso2 * x2_teste)\n",
        "\n",
        "# lita para receber as previsões\n",
        "previsoes = []\n",
        "\n",
        "for val in y_pred:\n",
        "    if(val > 1):\n",
        "        previsoes.append(1)\n",
        "    else:\n",
        "        previsoes.append(-1)\n",
        "        "
      ],
      "execution_count": 19,
      "outputs": []
    },
    {
      "cell_type": "markdown",
      "metadata": {
        "id": "AaiDyzZBGOcI"
      },
      "source": [
        "#### 5.1.4 performance modelo (.score) <a class=\"anchor\" id=\"5.1.4.i\"></a>\n",
        "\n",
        "Usando uma função que compara valor previsto com valor observado temos:\n",
        "\n",
        "[Índice](#0.1)"
      ]
    },
    {
      "cell_type": "code",
      "metadata": {
        "colab": {
          "base_uri": "https://localhost:8080/"
        },
        "id": "8ucxsfs0GOcI",
        "outputId": "494b5d80-6ede-425c-b9fb-af30febc5869"
      },
      "source": [
        "print(\"\\nAcurácia nos Dados de Teste (Algoritmo Personalizado)\", accuracy_score(y_teste, previsoes))"
      ],
      "execution_count": 20,
      "outputs": [
        {
          "output_type": "stream",
          "text": [
            "\n",
            "Acurácia nos Dados de Teste (Algoritmo Personalizado) 1.0\n"
          ],
          "name": "stdout"
        }
      ]
    },
    {
      "cell_type": "markdown",
      "metadata": {
        "id": "zkNjU5tNGOcI"
      },
      "source": [
        "## 5.2 (ii) - Uso Sckit Learn <a class=\"anchor\" id=\"5.2.ii\"></a>\n",
        "Sckit Learn é um framework em linguagem Python que já possuim algritmos encapsulados em bibliotecas. Ou seja, todas as operações matemáticas e estatísticas, de uma forma bem mais performática.\n",
        "\n",
        "Iremos usar a biblioteca de algotimo de SVM no Sckit e comparar com a construção manual realizada anteriormente.\n",
        "Será usado os mesmo dados pré-processados.\n",
        "\n",
        "\n",
        "[Índice](#0.1)"
      ]
    },
    {
      "cell_type": "markdown",
      "metadata": {
        "id": "NTXH8mbUGOcI"
      },
      "source": [
        "#### 5.2.1 criar modelo <a class=\"anchor\" id=\"5.2.1.ii\"></a>\n",
        "\n",
        "[Índice](#0.1)"
      ]
    },
    {
      "cell_type": "code",
      "metadata": {
        "id": "azPipoxPGOcJ"
      },
      "source": [
        "modelo = SVC(kernel='linear')"
      ],
      "execution_count": 21,
      "outputs": []
    },
    {
      "cell_type": "markdown",
      "metadata": {
        "id": "ppu7lANaGOcJ"
      },
      "source": [
        "#### 5.2.2 treino modelo (.fit) <a class=\"anchor\" id=\"5.2.2.ii\"></a>\n",
        "\n",
        "\n",
        "[Índice](#0.1)"
      ]
    },
    {
      "cell_type": "code",
      "metadata": {
        "colab": {
          "base_uri": "https://localhost:8080/"
        },
        "id": "OdFp2EXDGOcJ",
        "outputId": "936f7c5c-3ea8-49be-b2e8-89eb3695a2a4"
      },
      "source": [
        "modelo.fit(x_treino,y_treino)"
      ],
      "execution_count": 22,
      "outputs": [
        {
          "output_type": "execute_result",
          "data": {
            "text/plain": [
              "SVC(C=1.0, break_ties=False, cache_size=200, class_weight=None, coef0=0.0,\n",
              "    decision_function_shape='ovr', degree=3, gamma='scale', kernel='linear',\n",
              "    max_iter=-1, probability=False, random_state=None, shrinking=True,\n",
              "    tol=0.001, verbose=False)"
            ]
          },
          "metadata": {
            "tags": []
          },
          "execution_count": 22
        }
      ]
    },
    {
      "cell_type": "markdown",
      "metadata": {
        "id": "EozKHycmGOcK"
      },
      "source": [
        "#### 5.2.3 teste modelo (.predict) <a class=\"anchor\" id=\"5.2.3.ii\"></a>\n",
        "\n",
        "\n",
        "[Índice](#0.1)"
      ]
    },
    {
      "cell_type": "code",
      "metadata": {
        "id": "N2G6uHizGOcK"
      },
      "source": [
        "y_pred = modelo.predict(x_teste)"
      ],
      "execution_count": 23,
      "outputs": []
    },
    {
      "cell_type": "markdown",
      "metadata": {
        "id": "lnFJWHwdGOcK"
      },
      "source": [
        "#### 5.2.4 performance modelo (.score) <a class=\"anchor\" id=\"5.2.4.ii\"></a>\n",
        "\n",
        "\n",
        "[Índice](#0.1)"
      ]
    },
    {
      "cell_type": "code",
      "metadata": {
        "colab": {
          "base_uri": "https://localhost:8080/"
        },
        "id": "5FSPOykxGOcK",
        "outputId": "f852c403-149c-4faf-8a3f-ec085690c459"
      },
      "source": [
        "print(\"\\nAcurácia nos Dados de Teste (Algoritmo Pronto do Scikit-Learn)\",accuracy_score(y_teste, y_pred))"
      ],
      "execution_count": 24,
      "outputs": [
        {
          "output_type": "stream",
          "text": [
            "\n",
            "Acurácia nos Dados de Teste (Algoritmo Pronto do Scikit-Learn) 1.0\n"
          ],
          "name": "stdout"
        }
      ]
    },
    {
      "cell_type": "markdown",
      "metadata": {
        "id": "KHUpbOBDGOcL"
      },
      "source": [
        "________________"
      ]
    },
    {
      "cell_type": "markdown",
      "metadata": {
        "id": "fP2OoaUDGOcL"
      },
      "source": [
        "Com isso concluimos que não precisamos *reinventar* a roda... podemos maximizar nosso tempo, no entando cabe a nós entender o mínimo que cada algoritmo realiza, pois ai saberemos personalizar e usar com mais eficiência!!"
      ]
    },
    {
      "cell_type": "code",
      "metadata": {
        "id": "nnUQ--pIGOcL"
      },
      "source": [
        ""
      ],
      "execution_count": 24,
      "outputs": []
    }
  ]
}